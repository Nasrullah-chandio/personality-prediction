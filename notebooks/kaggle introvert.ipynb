{
 "cells": [
  {
   "cell_type": "code",
   "execution_count": 298,
   "id": "914254ed",
   "metadata": {},
   "outputs": [],
   "source": [
    "from sklearn.preprocessing import LabelEncoder"
   ]
  },
  {
   "cell_type": "code",
   "execution_count": 299,
   "id": "3edeb8b4",
   "metadata": {},
   "outputs": [
    {
     "name": "stdout",
     "output_type": "stream",
     "text": [
      "(18524, 9)\n",
      "Index(['id', 'Time_spent_Alone', 'Stage_fear', 'Social_event_attendance',\n",
      "       'Going_outside', 'Drained_after_socializing', 'Friends_circle_size',\n",
      "       'Post_frequency', 'Personality'],\n",
      "      dtype='object')\n"
     ]
    },
    {
     "data": {
      "text/html": [
       "<div>\n",
       "<style scoped>\n",
       "    .dataframe tbody tr th:only-of-type {\n",
       "        vertical-align: middle;\n",
       "    }\n",
       "\n",
       "    .dataframe tbody tr th {\n",
       "        vertical-align: top;\n",
       "    }\n",
       "\n",
       "    .dataframe thead th {\n",
       "        text-align: right;\n",
       "    }\n",
       "</style>\n",
       "<table border=\"1\" class=\"dataframe\">\n",
       "  <thead>\n",
       "    <tr style=\"text-align: right;\">\n",
       "      <th></th>\n",
       "      <th>id</th>\n",
       "      <th>Time_spent_Alone</th>\n",
       "      <th>Stage_fear</th>\n",
       "      <th>Social_event_attendance</th>\n",
       "      <th>Going_outside</th>\n",
       "      <th>Drained_after_socializing</th>\n",
       "      <th>Friends_circle_size</th>\n",
       "      <th>Post_frequency</th>\n",
       "      <th>Personality</th>\n",
       "    </tr>\n",
       "  </thead>\n",
       "  <tbody>\n",
       "    <tr>\n",
       "      <th>0</th>\n",
       "      <td>0</td>\n",
       "      <td>0.0</td>\n",
       "      <td>No</td>\n",
       "      <td>6.0</td>\n",
       "      <td>4.0</td>\n",
       "      <td>No</td>\n",
       "      <td>15.0</td>\n",
       "      <td>5.0</td>\n",
       "      <td>Extrovert</td>\n",
       "    </tr>\n",
       "    <tr>\n",
       "      <th>1</th>\n",
       "      <td>1</td>\n",
       "      <td>1.0</td>\n",
       "      <td>No</td>\n",
       "      <td>7.0</td>\n",
       "      <td>3.0</td>\n",
       "      <td>No</td>\n",
       "      <td>10.0</td>\n",
       "      <td>8.0</td>\n",
       "      <td>Extrovert</td>\n",
       "    </tr>\n",
       "    <tr>\n",
       "      <th>2</th>\n",
       "      <td>2</td>\n",
       "      <td>6.0</td>\n",
       "      <td>Yes</td>\n",
       "      <td>1.0</td>\n",
       "      <td>0.0</td>\n",
       "      <td>NaN</td>\n",
       "      <td>3.0</td>\n",
       "      <td>0.0</td>\n",
       "      <td>Introvert</td>\n",
       "    </tr>\n",
       "    <tr>\n",
       "      <th>3</th>\n",
       "      <td>3</td>\n",
       "      <td>3.0</td>\n",
       "      <td>No</td>\n",
       "      <td>7.0</td>\n",
       "      <td>3.0</td>\n",
       "      <td>No</td>\n",
       "      <td>11.0</td>\n",
       "      <td>5.0</td>\n",
       "      <td>Extrovert</td>\n",
       "    </tr>\n",
       "    <tr>\n",
       "      <th>4</th>\n",
       "      <td>4</td>\n",
       "      <td>1.0</td>\n",
       "      <td>No</td>\n",
       "      <td>4.0</td>\n",
       "      <td>4.0</td>\n",
       "      <td>No</td>\n",
       "      <td>13.0</td>\n",
       "      <td>NaN</td>\n",
       "      <td>Extrovert</td>\n",
       "    </tr>\n",
       "  </tbody>\n",
       "</table>\n",
       "</div>"
      ],
      "text/plain": [
       "   id  Time_spent_Alone Stage_fear  Social_event_attendance  Going_outside  \\\n",
       "0   0               0.0         No                      6.0            4.0   \n",
       "1   1               1.0         No                      7.0            3.0   \n",
       "2   2               6.0        Yes                      1.0            0.0   \n",
       "3   3               3.0         No                      7.0            3.0   \n",
       "4   4               1.0         No                      4.0            4.0   \n",
       "\n",
       "  Drained_after_socializing  Friends_circle_size  Post_frequency Personality  \n",
       "0                        No                 15.0             5.0   Extrovert  \n",
       "1                        No                 10.0             8.0   Extrovert  \n",
       "2                       NaN                  3.0             0.0   Introvert  \n",
       "3                        No                 11.0             5.0   Extrovert  \n",
       "4                        No                 13.0             NaN   Extrovert  "
      ]
     },
     "execution_count": 299,
     "metadata": {},
     "output_type": "execute_result"
    }
   ],
   "source": [
    "# 🧹 1. Import Libraries\n",
    "import pandas as pd\n",
    "import numpy as np\n",
    "import seaborn as sns\n",
    "import matplotlib.pyplot as plt\n",
    "\n",
    "import os\n",
    "path = r'C:\\My_Projects\\kaggle_predict_introverts'\n",
    "\n",
    "train = pd.read_csv(os.path.join(path, 'train.csv'))\n",
    "\n",
    "# 🔍 3. Explore\n",
    "print(train.shape)\n",
    "print(train.columns)\n",
    "train.head()"
   ]
  },
  {
   "cell_type": "code",
   "execution_count": 300,
   "id": "1433d95b",
   "metadata": {},
   "outputs": [
    {
     "name": "stdout",
     "output_type": "stream",
     "text": [
      "Null values in each column:\n",
      "id                              0\n",
      "Time_spent_Alone             1190\n",
      "Stage_fear                   1893\n",
      "Social_event_attendance      1180\n",
      "Going_outside                1466\n",
      "Drained_after_socializing    1149\n",
      "Friends_circle_size          1054\n",
      "Post_frequency               1264\n",
      "Personality                     0\n",
      "dtype: int64\n"
     ]
    }
   ],
   "source": [
    "# Check null values column-wise\n",
    "null_counts = train.isnull().sum()\n",
    "print(\"Null values in each column:\")\n",
    "print(null_counts)\n"
   ]
  },
  {
   "cell_type": "code",
   "execution_count": 301,
   "id": "f2036eda",
   "metadata": {},
   "outputs": [
    {
     "name": "stdout",
     "output_type": "stream",
     "text": [
      "Stage_fear                   0.102192\n",
      "Going_outside                0.079141\n",
      "Post_frequency               0.068236\n",
      "Time_spent_Alone             0.064241\n",
      "Social_event_attendance      0.063701\n",
      "Drained_after_socializing    0.062028\n",
      "Friends_circle_size          0.056899\n",
      "id                           0.000000\n",
      "Personality                  0.000000\n",
      "dtype: float64\n"
     ]
    }
   ],
   "source": [
    "missing_stats = train.isna().mean().sort_values(ascending=False)\n",
    "print(missing_stats)\n"
   ]
  },
  {
   "cell_type": "code",
   "execution_count": 302,
   "id": "41bb6153",
   "metadata": {},
   "outputs": [
    {
     "name": "stdout",
     "output_type": "stream",
     "text": [
      "Personality  Personality  Drained_after_socializing\n",
      "Extrovert    Extrovert    No                           0.982171\n",
      "                          Yes                          0.017829\n",
      "Introvert    Introvert    No                           0.075399\n",
      "                          Yes                          0.924601\n",
      "dtype: float64\n"
     ]
    }
   ],
   "source": [
    "# Check normalized distribution of 'Drained_after_socializing' within each Personality group\n",
    "drained_distribution = (\n",
    "    train.groupby(['Personality', 'Drained_after_socializing'])\n",
    "    .size()\n",
    "    .groupby(level=0)\n",
    "    .apply(lambda x: x / x.sum())\n",
    ")\n",
    "print(drained_distribution)"
   ]
  },
  {
   "cell_type": "code",
   "execution_count": 303,
   "id": "d48d63b5",
   "metadata": {},
   "outputs": [],
   "source": [
    "# Define logic to fill missing values\n",
    "def impute_drained(row):\n",
    "    if pd.isna(row[\"Drained_after_socializing\"]):\n",
    "        if row[\"Personality\"] == \"Extrovert\":\n",
    "            return \"No\"\n",
    "        elif row[\"Personality\"] == \"Introvert\":\n",
    "            return \"Yes\"\n",
    "    return row[\"Drained_after_socializing\"]\n",
    "\n",
    "# Apply the imputation\n",
    "train[\"Drained_after_socializing\"] = train.apply(impute_drained, axis=1)\n"
   ]
  },
  {
   "cell_type": "code",
   "execution_count": 304,
   "id": "01714535",
   "metadata": {},
   "outputs": [
    {
     "name": "stdout",
     "output_type": "stream",
     "text": [
      "Personality  Personality  Stage_fear\n",
      "Extrovert    Extrovert    No            0.981195\n",
      "                          Yes           0.018805\n",
      "Introvert    Introvert    No            0.072286\n",
      "                          Yes           0.927714\n",
      "dtype: float64\n"
     ]
    }
   ],
   "source": [
    "# Check normalized distribution of 'Stage_fear' within each Personality group\n",
    "stage_fear_distribution = (\n",
    "    train.groupby(['Personality', 'Stage_fear'])\n",
    "    .size()\n",
    "    .groupby(level=0)\n",
    "    .apply(lambda x: x / x.sum())\n",
    ")\n",
    "print(stage_fear_distribution)"
   ]
  },
  {
   "cell_type": "code",
   "execution_count": 305,
   "id": "db3ac1ef",
   "metadata": {},
   "outputs": [],
   "source": [
    "# Define logic to fill missing values\n",
    "def impute_stage_fear(row):\n",
    "    if pd.isna(row[\"Stage_fear\"]):\n",
    "        if row[\"Personality\"] == \"Introvert\":\n",
    "            return \"Yes\"\n",
    "        elif row[\"Personality\"] == \"Extrovert\":\n",
    "            return \"No\"\n",
    "    return row[\"Stage_fear\"]\n",
    "\n",
    "# Apply the imputation\n",
    "train[\"Stage_fear\"] = train.apply(impute_stage_fear, axis=1)\n"
   ]
  },
  {
   "cell_type": "code",
   "execution_count": 306,
   "id": "a77d83a1",
   "metadata": {},
   "outputs": [],
   "source": [
    "train.groupby(\"Personality\")[\"Drained_after_socializing\"].value_counts(normalize=True)\n",
    "\n",
    "def impute_drained(row):\n",
    "    if pd.isna(row[\"Drained_after_socializing\"]):\n",
    "        if row[\"Personality\"] == \"Extrovert\":\n",
    "            return \"No\"\n",
    "        elif row[\"Personality\"] == \"Introvert\":\n",
    "            return \"Yes\"\n",
    "    return row[\"Drained_after_socializing\"]\n",
    "\n",
    "train[\"Drained_after_socializing\"] = train.apply(impute_drained, axis=1)\n"
   ]
  },
  {
   "cell_type": "code",
   "execution_count": 307,
   "id": "c7fb19e9",
   "metadata": {},
   "outputs": [
    {
     "name": "stdout",
     "output_type": "stream",
     "text": [
      "Personality  Personality  Stage_fear\n",
      "Extrovert    Extrovert    No            0.982772\n",
      "                          Yes           0.017228\n",
      "Introvert    Introvert    No            0.061140\n",
      "                          Yes           0.938860\n",
      "dtype: float64\n"
     ]
    }
   ],
   "source": [
    "# Check normalized distribution of Stage_fear within each Personality group\n",
    "stage_fear_distribution = (\n",
    "    train.groupby(['Personality', 'Stage_fear'])\n",
    "    .size()\n",
    "    .groupby(level=0)\n",
    "    .apply(lambda x: x / x.sum())\n",
    ")\n",
    "print(stage_fear_distribution)\n",
    "\n",
    "# Define logic to fill missing values based on personality type\n",
    "def impute_stage_fear(row):\n",
    "    if pd.isna(row[\"Stage_fear\"]):\n",
    "        if row[\"Personality\"] == \"Introvert\":\n",
    "            return \"Yes\"\n",
    "        elif row[\"Personality\"] == \"Extrovert\":\n",
    "            return \"No\"\n",
    "    return row[\"Stage_fear\"]\n",
    "\n",
    "# Apply imputation\n",
    "train[\"Stage_fear\"] = train.apply(impute_stage_fear, axis=1)\n"
   ]
  },
  {
   "cell_type": "code",
   "execution_count": 308,
   "id": "47953a2d",
   "metadata": {},
   "outputs": [
    {
     "name": "stdout",
     "output_type": "stream",
     "text": [
      "Personality  Personality  Stage_fear\n",
      "Extrovert    Extrovert    No            0.982772\n",
      "                          Yes           0.017228\n",
      "Introvert    Introvert    No            0.061140\n",
      "                          Yes           0.938860\n",
      "dtype: float64\n"
     ]
    }
   ],
   "source": [
    "stage_fear_distribution = (\n",
    "    train.groupby(['Personality', 'Stage_fear'])\n",
    "    .size()\n",
    "    .groupby(level=0)\n",
    "    .apply(lambda x: x / x.sum())\n",
    ")\n",
    "print(stage_fear_distribution)\n"
   ]
  },
  {
   "cell_type": "code",
   "execution_count": 309,
   "id": "34bd3b10",
   "metadata": {},
   "outputs": [],
   "source": [
    "train['Stage_fear'] = train.apply(\n",
    "    lambda row: 'Yes' if (pd.isna(row['Stage_fear']) and row['Personality'] == 'Introvert')\n",
    "    else ('No' if (pd.isna(row['Stage_fear']) and row['Personality'] == 'Extrovert')\n",
    "    else row['Stage_fear']),\n",
    "    axis=1\n",
    ")\n"
   ]
  },
  {
   "cell_type": "code",
   "execution_count": 310,
   "id": "2f99f221",
   "metadata": {},
   "outputs": [
    {
     "name": "stdout",
     "output_type": "stream",
     "text": [
      "Stage_fear                   0\n",
      "Drained_after_socializing    0\n",
      "dtype: int64\n"
     ]
    }
   ],
   "source": [
    "print(train[[\"Stage_fear\", \"Drained_after_socializing\"]].isnull().sum())"
   ]
  },
  {
   "cell_type": "code",
   "execution_count": 311,
   "id": "c2b2dcdd",
   "metadata": {},
   "outputs": [
    {
     "name": "stdout",
     "output_type": "stream",
     "text": [
      "1190\n",
      "               count      mean       std  min  25%  50%  75%   max\n",
      "Personality                                                       \n",
      "Extrovert    12790.0  1.747146  1.537609  0.0  1.0  2.0  3.0  11.0\n",
      "Introvert     4544.0  7.051937  2.645865  0.0  5.0  7.0  9.0  11.0\n"
     ]
    }
   ],
   "source": [
    "# Check missing values\n",
    "print(train[\"Time_spent_Alone\"].isnull().sum())\n",
    "\n",
    "# Compare distribution statistics across personality types\n",
    "print(train.groupby(\"Personality\")[\"Time_spent_Alone\"].describe())"
   ]
  },
  {
   "cell_type": "code",
   "execution_count": 312,
   "id": "2a48fdf1",
   "metadata": {},
   "outputs": [
    {
     "data": {
      "image/png": "[encoded data removed]",
      "text/plain": [
       "<Figure size 640x480 with 1 Axes>"
      ]
     },
     "metadata": {},
     "output_type": "display_data"
    }
   ],
   "source": [
    "# Plot histogram with KDE overlay\n",
    "sns.histplot(data=train, x=\"Time_spent_Alone\", hue=\"Personality\", kde=True, bins=30)\n",
    "plt.title(\"Distribution of Time_spent_Alone by Personality\")\n",
    "plt.show()"
   ]
  },
  {
   "cell_type": "code",
   "execution_count": 313,
   "id": "d3e87d8b",
   "metadata": {},
   "outputs": [],
   "source": [
    "# Compute medians for each personality type\n",
    "median_extrovert = train.loc[train['Personality'] == 'Extrovert', 'Time_spent_Alone'].median()\n",
    "median_introvert = train.loc[train['Personality'] == 'Introvert', 'Time_spent_Alone'].median()\n",
    "\n",
    "# Define logic for imputation\n",
    "def impute_time_spent(row):\n",
    "    if pd.isnull(row['Time_spent_Alone']):\n",
    "        if row['Personality'] == 'Extrovert':\n",
    "            return median_extrovert\n",
    "        elif row['Personality'] == 'Introvert':\n",
    "            return median_introvert\n",
    "    return row['Time_spent_Alone']\n",
    "\n",
    "# Apply imputation\n",
    "train['Time_spent_Alone'] = train.apply(impute_time_spent, axis=1)\n"
   ]
  },
  {
   "cell_type": "code",
   "execution_count": 314,
   "id": "f83f1a20",
   "metadata": {},
   "outputs": [
    {
     "name": "stdout",
     "output_type": "stream",
     "text": [
      "1264\n",
      "               count      mean       std  min  25%  50%  75%   max\n",
      "Personality                                                       \n",
      "Extrovert    12922.0  6.113682  2.225713  0.0  4.0  6.0  8.0  10.0\n",
      "Introvert     4338.0  1.611342  1.746218  0.0  0.0  1.0  2.0  10.0\n"
     ]
    }
   ],
   "source": [
    "# Check missing values\n",
    "print(train[\"Post_frequency\"].isnull().sum())\n",
    "\n",
    "# Compare distribution statistics across personality types\n",
    "print(train.groupby(\"Personality\")[\"Post_frequency\"].describe())"
   ]
  },
  {
   "cell_type": "code",
   "execution_count": 315,
   "id": "b531f276",
   "metadata": {},
   "outputs": [
    {
     "data": {
      "image/png": "[encoded data removed]",
      "text/plain": [
       "<Figure size 640x480 with 1 Axes>"
      ]
     },
     "metadata": {},
     "output_type": "display_data"
    }
   ],
   "source": [
    "# Plot histogram with KDE overlay\n",
    "sns.histplot(data=train, x=\"Post_frequency\", hue=\"Personality\", kde=True, bins=30)\n",
    "plt.title(\"Distribution of Post_Frequenhcy by Personality\")\n",
    "plt.show()"
   ]
  },
  {
   "cell_type": "code",
   "execution_count": 316,
   "id": "467cf157",
   "metadata": {},
   "outputs": [],
   "source": [
    "# Define logic for imputation\n",
    "def impute_post_freq(row):\n",
    "    if pd.isnull(row['Post_frequency']):\n",
    "        return 6.0 if row['Personality'] == 'Extrovert' else 1.0\n",
    "    return row['Post_frequency']\n",
    "\n",
    "# Apply imputation\n",
    "train['Post_frequency'] = train.apply(impute_post_freq, axis=1)"
   ]
  },
  {
   "cell_type": "code",
   "execution_count": 317,
   "id": "167aca6a",
   "metadata": {},
   "outputs": [
    {
     "name": "stdout",
     "output_type": "stream",
     "text": [
      "1180\n",
      "               count      mean       std  min  25%  50%  75%   max\n",
      "Personality                                                       \n",
      "Extrovert    12967.0  6.389450  2.020741  0.0  5.0  6.0  8.0  10.0\n",
      "Introvert     4377.0  1.934202  1.761425  0.0  1.0  2.0  3.0  10.0\n"
     ]
    }
   ],
   "source": [
    "# Check missing values\n",
    "print(train[\"Social_event_attendance\"].isnull().sum())\n",
    "\n",
    "# Compare distribution statistics across personality types\n",
    "print(train.groupby(\"Personality\")[\"Social_event_attendance\"].describe())"
   ]
  },
  {
   "cell_type": "code",
   "execution_count": 318,
   "id": "db9d25fa",
   "metadata": {},
   "outputs": [
    {
     "data": {
      "image/png": "[encoded data removed]",
      "text/plain": [
       "<Figure size 640x480 with 1 Axes>"
      ]
     },
     "metadata": {},
     "output_type": "display_data"
    }
   ],
   "source": [
    "# Plot histogram with KDE overlay\n",
    "sns.histplot(data=train, x=\"Social_event_attendance\", hue=\"Personality\", kde=True, bins=30)\n",
    "plt.title(\"Distribution of Social_event_attendance by Personality\")\n",
    "plt.show()"
   ]
  },
  {
   "cell_type": "code",
   "execution_count": 319,
   "id": "fcb7f2ed",
   "metadata": {},
   "outputs": [],
   "source": [
    "# Define logic for imputation\n",
    "def impute_post_freq(row):\n",
    "    if pd.isnull(row['Social_event_attendance']):\n",
    "        return 6.0 if row['Personality'] == 'Extrovert' else 2.0\n",
    "    return row['Social_event_attendance']\n",
    "\n",
    "# Apply imputation\n",
    "train['Social_event_attendance'] = train.apply(impute_post_freq, axis=1)"
   ]
  },
  {
   "cell_type": "code",
   "execution_count": 320,
   "id": "91622068",
   "metadata": {},
   "outputs": [
    {
     "name": "stdout",
     "output_type": "stream",
     "text": [
      "1054\n",
      "               count      mean       std  min  25%   50%   75%   max\n",
      "Personality                                                         \n",
      "Extrovert    12999.0  9.624587  3.347242  0.0  7.0  10.0  12.0  15.0\n",
      "Introvert     4471.0  3.263923  2.649747  0.0  1.0   3.0   4.0  15.0\n"
     ]
    }
   ],
   "source": [
    "# Check missing values\n",
    "print(train[\"Friends_circle_size\"].isnull().sum())\n",
    "\n",
    "# Compare distribution statistics across personality types\n",
    "print(train.groupby(\"Personality\")[\"Friends_circle_size\"].describe())"
   ]
  },
  {
   "cell_type": "code",
   "execution_count": 321,
   "id": "dad9809f",
   "metadata": {},
   "outputs": [
    {
     "data": {
      "image/png": "[encoded data removed]",
      "text/plain": [
       "<Figure size 640x480 with 1 Axes>"
      ]
     },
     "metadata": {},
     "output_type": "display_data"
    }
   ],
   "source": [
    "# Plot histogram with KDE overlay\n",
    "sns.histplot(data=train, x=\"Friends_circle_size\", hue=\"Personality\", kde=True, bins=30)\n",
    "plt.title(\"Distribution of Friends_circle_size by Personality\")\n",
    "plt.show()"
   ]
  },
  {
   "cell_type": "code",
   "execution_count": 322,
   "id": "84178e01",
   "metadata": {},
   "outputs": [],
   "source": [
    "# Define logic for imputation\n",
    "def impute_post_freq(row):\n",
    "    if pd.isnull(row['Friends_circle_size']):\n",
    "        return 10.0 if row['Personality'] == 'Extrovert' else 3.0\n",
    "    return row['Friends_circle_size']\n",
    "\n",
    "# Apply imputation\n",
    "train['Friends_circle_size'] = train.apply(impute_post_freq, axis=1)"
   ]
  },
  {
   "cell_type": "code",
   "execution_count": 323,
   "id": "0264d6a0",
   "metadata": {},
   "outputs": [
    {
     "name": "stdout",
     "output_type": "stream",
     "text": [
      "1466\n",
      "               count      mean       std  min  25%  50%  75%  max\n",
      "Personality                                                      \n",
      "Extrovert    12737.0  4.895894  1.434279  0.0  4.0  5.0  6.0  7.0\n",
      "Introvert     4321.0  1.534136  1.513918  0.0  0.0  1.0  2.0  7.0\n"
     ]
    }
   ],
   "source": [
    "# Check missing values\n",
    "print(train[\"Going_outside\"].isnull().sum())\n",
    "\n",
    "# Compare distribution statistics across personality types\n",
    "print(train.groupby(\"Personality\")[\"Going_outside\"].describe())"
   ]
  },
  {
   "cell_type": "code",
   "execution_count": 324,
   "id": "5313832b",
   "metadata": {},
   "outputs": [
    {
     "data": {
      "image/png": "[encoded data removed]",
      "text/plain": [
       "<Figure size 640x480 with 1 Axes>"
      ]
     },
     "metadata": {},
     "output_type": "display_data"
    }
   ],
   "source": [
    "# Plot histogram with KDE overlay\n",
    "sns.histplot(data=train, x=\"Going_outside\", hue=\"Personality\", kde=True, bins=30)\n",
    "plt.title(\"Distribution of Going_outside by Personality\")\n",
    "plt.show()"
   ]
  },
  {
   "cell_type": "code",
   "execution_count": 325,
   "id": "977d4bab",
   "metadata": {},
   "outputs": [],
   "source": [
    "# Define logic for imputation\n",
    "def impute_post_freq(row):\n",
    "    if pd.isnull(row['Going_outside']):\n",
    "        return 5.0 if row['Personality'] == 'Extrovert' else 2.0\n",
    "    return row['Going_outside']\n",
    "\n",
    "# Apply imputation\n",
    "train['Going_outside'] = train.apply(impute_post_freq, axis=1)"
   ]
  },
  {
   "cell_type": "code",
   "execution_count": 326,
   "id": "b48e1c45",
   "metadata": {},
   "outputs": [
    {
     "name": "stdout",
     "output_type": "stream",
     "text": [
      "✅ All missing values have been handled. No nulls remain in the dataset.\n"
     ]
    }
   ],
   "source": [
    "# Check for any remaining null values in the dataset\n",
    "null_summary = train.isnull().sum()\n",
    "null_summary = null_summary[null_summary > 0]\n",
    "\n",
    "if null_summary.empty:\n",
    "    print(\"✅ All missing values have been handled. No nulls remain in the dataset.\")\n",
    "else:\n",
    "    print(\"⚠️ Nulls still present in the following columns:\")\n",
    "    print(null_summary)\n"
   ]
  },
  {
   "cell_type": "code",
   "execution_count": 327,
   "id": "bb23d11b",
   "metadata": {},
   "outputs": [
    {
     "data": {
      "text/plain": [
       "array(['No', 'Yes'], dtype=object)"
      ]
     },
     "execution_count": 327,
     "metadata": {},
     "output_type": "execute_result"
    }
   ],
   "source": [
    "train['Stage_fear'].unique()"
   ]
  },
  {
   "cell_type": "code",
   "execution_count": 328,
   "id": "1aa2c90f",
   "metadata": {},
   "outputs": [],
   "source": [
    "# Encode binary categorical features: 'Yes'/'No' → 1/0\n",
    "binary_cols = [\"Stage_fear\", \"Drained_after_socializing\"]\n",
    "for col in binary_cols:\n",
    "    train[col] = train[col].map({\"Yes\": 1, \"No\": 0})"
   ]
  },
  {
   "cell_type": "code",
   "execution_count": 329,
   "id": "f8a75896",
   "metadata": {},
   "outputs": [],
   "source": [
    "# Encode target variable 'Personality' (Introvert/Extrovert → 0/1)\n",
    "label_encoder = LabelEncoder()\n",
    "train[\"Personality\"] = label_encoder.fit_transform(train[\"Personality\"])"
   ]
  },
  {
   "cell_type": "code",
   "execution_count": 330,
   "id": "0f04e97f",
   "metadata": {},
   "outputs": [
    {
     "data": {
      "image/png": "[encoded data removed]",
      "text/plain": [
       "<Figure size 1000x800 with 2 Axes>"
      ]
     },
     "metadata": {},
     "output_type": "display_data"
    },
    {
     "name": "stdout",
     "output_type": "stream",
     "text": [
      "📉 Dropping highly correlated columns: ['Drained_after_socializing', 'Personality']\n"
     ]
    }
   ],
   "source": [
    "# Compute correlation matrix\n",
    "corr_matrix = train.corr(numeric_only=True)\n",
    "\n",
    "# Visualize it\n",
    "plt.figure(figsize=(10, 8))\n",
    "sns.heatmap(corr_matrix, annot=True, cmap='coolwarm', fmt=\".2f\")\n",
    "plt.title(\"Correlation Matrix\")\n",
    "plt.show()\n",
    "\n",
    "# Identify columns with correlation above threshold (e.g., 0.9)\n",
    "threshold = 0.9\n",
    "upper = corr_matrix.where(np.triu(np.ones(corr_matrix.shape), k=1).astype(bool))\n",
    "high_corr_cols = [column for column in upper.columns if any(upper[column].abs() > threshold)]\n",
    "\n",
    "print(f\"📉 Dropping highly correlated columns: {high_corr_cols}\")"
   ]
  },
  {
   "cell_type": "code",
   "execution_count": 331,
   "id": "002edcf4",
   "metadata": {},
   "outputs": [],
   "source": [
    "train = train.drop(columns=[\"Stage_fear\"])"
   ]
  },
  {
   "cell_type": "code",
   "execution_count": 359,
   "id": "ec382b6e",
   "metadata": {},
   "outputs": [
    {
     "name": "stdout",
     "output_type": "stream",
     "text": [
      "✅ Model trained on full dataset\n"
     ]
    },
    {
     "ename": "CatBoostError",
     "evalue": "Bad value for num_feature[non_default_doc_idx=0,feature_idx=1]=\"No\": Cannot convert 'No' to float",
     "output_type": "error",
     "traceback": [
      "\u001b[1;31m---------------------------------------------------------------------------\u001b[0m",
      "\u001b[1;31mTypeError\u001b[0m                                 Traceback (most recent call last)",
      "File \u001b[1;32m_catboost.pyx:2534\u001b[0m, in \u001b[0;36m_catboost.get_float_feature\u001b[1;34m()\u001b[0m\n",
      "File \u001b[1;32m_catboost.pyx:1228\u001b[0m, in \u001b[0;36m_catboost._FloatOrNan\u001b[1;34m()\u001b[0m\n",
      "File \u001b[1;32m_catboost.pyx:1023\u001b[0m, in \u001b[0;36m_catboost._FloatOrNanFromString\u001b[1;34m()\u001b[0m\n",
      "\u001b[1;31mTypeError\u001b[0m: Cannot convert 'No' to float",
      "\nDuring handling of the above exception, another exception occurred:\n",
      "\u001b[1;31mCatBoostError\u001b[0m                             Traceback (most recent call last)",
      "Cell \u001b[1;32mIn[359], line 50\u001b[0m\n\u001b[0;32m     47\u001b[0m         X_test_final[col] \u001b[38;5;241m=\u001b[39m label_encoders[col]\u001b[38;5;241m.\u001b[39mtransform(X_test_final[col])\n\u001b[0;32m     49\u001b[0m \u001b[38;5;66;03m# --- Step 7: Predict and create submission file ---\u001b[39;00m\n\u001b[1;32m---> 50\u001b[0m y_test_pred \u001b[38;5;241m=\u001b[39m pipeline\u001b[38;5;241m.\u001b[39mpredict(X_test_final)\n\u001b[0;32m     52\u001b[0m \u001b[38;5;66;03m# Decode predictions if needed\u001b[39;00m\n\u001b[0;32m     53\u001b[0m \u001b[38;5;28;01mif\u001b[39;00m y_le:\n",
      "File \u001b[1;32m~\\AppData\\Roaming\\Python\\Python311\\site-packages\\sklearn\\pipeline.py:515\u001b[0m, in \u001b[0;36mPipeline.predict\u001b[1;34m(self, X, **predict_params)\u001b[0m\n\u001b[0;32m    513\u001b[0m \u001b[38;5;28;01mfor\u001b[39;00m _, name, transform \u001b[38;5;129;01min\u001b[39;00m \u001b[38;5;28mself\u001b[39m\u001b[38;5;241m.\u001b[39m_iter(with_final\u001b[38;5;241m=\u001b[39m\u001b[38;5;28;01mFalse\u001b[39;00m):\n\u001b[0;32m    514\u001b[0m     Xt \u001b[38;5;241m=\u001b[39m transform\u001b[38;5;241m.\u001b[39mtransform(Xt)\n\u001b[1;32m--> 515\u001b[0m \u001b[38;5;28;01mreturn\u001b[39;00m \u001b[38;5;28mself\u001b[39m\u001b[38;5;241m.\u001b[39msteps[\u001b[38;5;241m-\u001b[39m\u001b[38;5;241m1\u001b[39m][\u001b[38;5;241m1\u001b[39m]\u001b[38;5;241m.\u001b[39mpredict(Xt, \u001b[38;5;241m*\u001b[39m\u001b[38;5;241m*\u001b[39mpredict_params)\n",
      "File \u001b[1;32m~\\AppData\\Roaming\\Python\\Python311\\site-packages\\catboost\\core.py:5307\u001b[0m, in \u001b[0;36mCatBoostClassifier.predict\u001b[1;34m(self, data, prediction_type, ntree_start, ntree_end, thread_count, verbose, task_type)\u001b[0m\n\u001b[0;32m   5250\u001b[0m \u001b[38;5;28;01mdef\u001b[39;00m \u001b[38;5;21mpredict\u001b[39m(\u001b[38;5;28mself\u001b[39m, data, prediction_type\u001b[38;5;241m=\u001b[39m\u001b[38;5;124m'\u001b[39m\u001b[38;5;124mClass\u001b[39m\u001b[38;5;124m'\u001b[39m, ntree_start\u001b[38;5;241m=\u001b[39m\u001b[38;5;241m0\u001b[39m, ntree_end\u001b[38;5;241m=\u001b[39m\u001b[38;5;241m0\u001b[39m, thread_count\u001b[38;5;241m=\u001b[39m\u001b[38;5;241m-\u001b[39m\u001b[38;5;241m1\u001b[39m, verbose\u001b[38;5;241m=\u001b[39m\u001b[38;5;28;01mNone\u001b[39;00m, task_type\u001b[38;5;241m=\u001b[39m\u001b[38;5;124m\"\u001b[39m\u001b[38;5;124mCPU\u001b[39m\u001b[38;5;124m\"\u001b[39m):\n\u001b[0;32m   5251\u001b[0m \u001b[38;5;250m    \u001b[39m\u001b[38;5;124;03m\"\"\"\u001b[39;00m\n\u001b[0;32m   5252\u001b[0m \u001b[38;5;124;03m    Predict with data.\u001b[39;00m\n\u001b[0;32m   5253\u001b[0m \n\u001b[1;32m   (...)\u001b[0m\n\u001b[0;32m   5305\u001b[0m \u001b[38;5;124;03m              with log probability for every class for each object.\u001b[39;00m\n\u001b[0;32m   5306\u001b[0m \u001b[38;5;124;03m    \"\"\"\u001b[39;00m\n\u001b[1;32m-> 5307\u001b[0m     \u001b[38;5;28;01mreturn\u001b[39;00m \u001b[38;5;28mself\u001b[39m\u001b[38;5;241m.\u001b[39m_predict(data, prediction_type, ntree_start, ntree_end, thread_count, verbose, \u001b[38;5;124m'\u001b[39m\u001b[38;5;124mpredict\u001b[39m\u001b[38;5;124m'\u001b[39m, task_type)\n",
      "File \u001b[1;32m~\\AppData\\Roaming\\Python\\Python311\\site-packages\\catboost\\core.py:2620\u001b[0m, in \u001b[0;36mCatBoost._predict\u001b[1;34m(self, data, prediction_type, ntree_start, ntree_end, thread_count, verbose, parent_method_name, task_type)\u001b[0m\n\u001b[0;32m   2618\u001b[0m \u001b[38;5;28;01mif\u001b[39;00m verbose \u001b[38;5;129;01mis\u001b[39;00m \u001b[38;5;28;01mNone\u001b[39;00m:\n\u001b[0;32m   2619\u001b[0m     verbose \u001b[38;5;241m=\u001b[39m \u001b[38;5;28;01mFalse\u001b[39;00m\n\u001b[1;32m-> 2620\u001b[0m data, data_is_single_object \u001b[38;5;241m=\u001b[39m \u001b[38;5;28mself\u001b[39m\u001b[38;5;241m.\u001b[39m_process_predict_input_data(data, parent_method_name, thread_count)\n\u001b[0;32m   2621\u001b[0m \u001b[38;5;28mself\u001b[39m\u001b[38;5;241m.\u001b[39m_validate_prediction_type(prediction_type)\n\u001b[0;32m   2623\u001b[0m predictions \u001b[38;5;241m=\u001b[39m \u001b[38;5;28mself\u001b[39m\u001b[38;5;241m.\u001b[39m_base_predict(data, prediction_type, ntree_start, ntree_end, thread_count, verbose, task_type)\n",
      "File \u001b[1;32m~\\AppData\\Roaming\\Python\\Python311\\site-packages\\catboost\\core.py:2600\u001b[0m, in \u001b[0;36mCatBoost._process_predict_input_data\u001b[1;34m(self, data, parent_method_name, thread_count, label)\u001b[0m\n\u001b[0;32m   2598\u001b[0m is_single_object \u001b[38;5;241m=\u001b[39m _is_data_single_object(data)\n\u001b[0;32m   2599\u001b[0m \u001b[38;5;28;01mif\u001b[39;00m \u001b[38;5;129;01mnot\u001b[39;00m \u001b[38;5;28misinstance\u001b[39m(data, Pool):\n\u001b[1;32m-> 2600\u001b[0m     data \u001b[38;5;241m=\u001b[39m Pool(\n\u001b[0;32m   2601\u001b[0m         data\u001b[38;5;241m=\u001b[39m[data] \u001b[38;5;28;01mif\u001b[39;00m is_single_object \u001b[38;5;28;01melse\u001b[39;00m data,\n\u001b[0;32m   2602\u001b[0m         label\u001b[38;5;241m=\u001b[39mlabel,\n\u001b[0;32m   2603\u001b[0m         cat_features\u001b[38;5;241m=\u001b[39m\u001b[38;5;28mself\u001b[39m\u001b[38;5;241m.\u001b[39m_get_cat_feature_indices() \u001b[38;5;28;01mif\u001b[39;00m \u001b[38;5;129;01mnot\u001b[39;00m \u001b[38;5;28misinstance\u001b[39m(data, FeaturesData) \u001b[38;5;28;01melse\u001b[39;00m \u001b[38;5;28;01mNone\u001b[39;00m,\n\u001b[0;32m   2604\u001b[0m         text_features\u001b[38;5;241m=\u001b[39m\u001b[38;5;28mself\u001b[39m\u001b[38;5;241m.\u001b[39m_get_text_feature_indices() \u001b[38;5;28;01mif\u001b[39;00m \u001b[38;5;129;01mnot\u001b[39;00m \u001b[38;5;28misinstance\u001b[39m(data, FeaturesData) \u001b[38;5;28;01melse\u001b[39;00m \u001b[38;5;28;01mNone\u001b[39;00m,\n\u001b[0;32m   2605\u001b[0m         embedding_features\u001b[38;5;241m=\u001b[39m\u001b[38;5;28mself\u001b[39m\u001b[38;5;241m.\u001b[39m_get_embedding_feature_indices() \u001b[38;5;28;01mif\u001b[39;00m \u001b[38;5;129;01mnot\u001b[39;00m \u001b[38;5;28misinstance\u001b[39m(data, FeaturesData) \u001b[38;5;28;01melse\u001b[39;00m \u001b[38;5;28;01mNone\u001b[39;00m,\n\u001b[0;32m   2606\u001b[0m         thread_count\u001b[38;5;241m=\u001b[39mthread_count\n\u001b[0;32m   2607\u001b[0m     )\n\u001b[0;32m   2608\u001b[0m \u001b[38;5;28;01mreturn\u001b[39;00m data, is_single_object\n",
      "File \u001b[1;32m~\\AppData\\Roaming\\Python\\Python311\\site-packages\\catboost\\core.py:855\u001b[0m, in \u001b[0;36mPool.__init__\u001b[1;34m(self, data, label, cat_features, text_features, embedding_features, embedding_features_data, column_description, pairs, graph, delimiter, has_header, ignore_csv_quoting, weight, group_id, group_weight, subgroup_id, pairs_weight, baseline, timestamp, feature_names, feature_tags, thread_count, log_cout, log_cerr, data_can_be_none)\u001b[0m\n\u001b[0;32m    849\u001b[0m         \u001b[38;5;28;01mif\u001b[39;00m \u001b[38;5;28misinstance\u001b[39m(feature_names, PATH_TYPES):\n\u001b[0;32m    850\u001b[0m             \u001b[38;5;28;01mraise\u001b[39;00m CatBoostError(\n\u001b[0;32m    851\u001b[0m                 \u001b[38;5;124m\"\u001b[39m\u001b[38;5;124mfeature_names must be None or have non-string type when the pool is created from \u001b[39m\u001b[38;5;124m\"\u001b[39m\n\u001b[0;32m    852\u001b[0m                 \u001b[38;5;124m\"\u001b[39m\u001b[38;5;124mpython objects.\u001b[39m\u001b[38;5;124m\"\u001b[39m\n\u001b[0;32m    853\u001b[0m             )\n\u001b[1;32m--> 855\u001b[0m         \u001b[38;5;28mself\u001b[39m\u001b[38;5;241m.\u001b[39m_init(data, label, cat_features, text_features, embedding_features, embedding_features_data, pairs, graph, weight,\n\u001b[0;32m    856\u001b[0m                    group_id, group_weight, subgroup_id, pairs_weight, baseline, timestamp, feature_names, feature_tags, thread_count)\n\u001b[0;32m    857\u001b[0m \u001b[38;5;28;01melif\u001b[39;00m \u001b[38;5;129;01mnot\u001b[39;00m data_can_be_none:\n\u001b[0;32m    858\u001b[0m     \u001b[38;5;28;01mraise\u001b[39;00m CatBoostError(\u001b[38;5;124m\"\u001b[39m\u001b[38;5;124m'\u001b[39m\u001b[38;5;124mdata\u001b[39m\u001b[38;5;124m'\u001b[39m\u001b[38;5;124m parameter can\u001b[39m\u001b[38;5;124m'\u001b[39m\u001b[38;5;124mt be None\u001b[39m\u001b[38;5;124m\"\u001b[39m)\n",
      "File \u001b[1;32m~\\AppData\\Roaming\\Python\\Python311\\site-packages\\catboost\\core.py:1491\u001b[0m, in \u001b[0;36mPool._init\u001b[1;34m(self, data, label, cat_features, text_features, embedding_features, embedding_features_data, pairs, graph, weight, group_id, group_weight, subgroup_id, pairs_weight, baseline, timestamp, feature_names, feature_tags, thread_count)\u001b[0m\n\u001b[0;32m   1489\u001b[0m \u001b[38;5;28;01mif\u001b[39;00m feature_tags \u001b[38;5;129;01mis\u001b[39;00m \u001b[38;5;129;01mnot\u001b[39;00m \u001b[38;5;28;01mNone\u001b[39;00m:\n\u001b[0;32m   1490\u001b[0m     feature_tags \u001b[38;5;241m=\u001b[39m \u001b[38;5;28mself\u001b[39m\u001b[38;5;241m.\u001b[39m_check_transform_tags(feature_tags, feature_names)\n\u001b[1;32m-> 1491\u001b[0m \u001b[38;5;28mself\u001b[39m\u001b[38;5;241m.\u001b[39m_init_pool(data, label, cat_features, text_features, embedding_features, embedding_features_data, pairs, graph, weight,\n\u001b[0;32m   1492\u001b[0m                 group_id, group_weight, subgroup_id, pairs_weight, baseline, timestamp, feature_names, feature_tags, thread_count)\n",
      "File \u001b[1;32m_catboost.pyx:4329\u001b[0m, in \u001b[0;36m_catboost._PoolBase._init_pool\u001b[1;34m()\u001b[0m\n",
      "File \u001b[1;32m_catboost.pyx:4381\u001b[0m, in \u001b[0;36m_catboost._PoolBase._init_pool\u001b[1;34m()\u001b[0m\n",
      "File \u001b[1;32m_catboost.pyx:4190\u001b[0m, in \u001b[0;36m_catboost._PoolBase._init_features_order_layout_pool\u001b[1;34m()\u001b[0m\n",
      "File \u001b[1;32m_catboost.pyx:3114\u001b[0m, in \u001b[0;36m_catboost._set_features_order_data_pd_data_frame\u001b[1;34m()\u001b[0m\n",
      "File \u001b[1;32m_catboost.pyx:2578\u001b[0m, in \u001b[0;36m_catboost.create_num_factor_data\u001b[1;34m()\u001b[0m\n",
      "File \u001b[1;32m_catboost.pyx:2536\u001b[0m, in \u001b[0;36m_catboost.get_float_feature\u001b[1;34m()\u001b[0m\n",
      "\u001b[1;31mCatBoostError\u001b[0m: Bad value for num_feature[non_default_doc_idx=0,feature_idx=1]=\"No\": Cannot convert 'No' to float"
     ]
    }
   ],
   "source": [
    "import pandas as pd\n",
    "from sklearn.preprocessing import LabelEncoder\n",
    "from catboost import CatBoostClassifier\n",
    "from imblearn.pipeline import Pipeline\n",
    "from imblearn.over_sampling import SMOTE\n",
    "\n",
    "# --- Step 1: Encode categorical features in X ---\n",
    "label_encoders = {}\n",
    "for col in X.columns:\n",
    "    if X[col].dtype == \"object\":\n",
    "        le = LabelEncoder()\n",
    "        X[col] = le.fit_transform(X[col])\n",
    "        label_encoders[col] = le\n",
    "\n",
    "# --- Step 2: Encode target y ---\n",
    "if y.dtype == \"object\":\n",
    "    y_le = LabelEncoder()\n",
    "    y = y_le.fit_transform(y)\n",
    "else:\n",
    "    y_le = None\n",
    "\n",
    "# --- Step 3: Define CatBoost model ---\n",
    "cat_model = CatBoostClassifier(\n",
    "    iterations=200,\n",
    "    depth=5,\n",
    "    learning_rate=0.05,\n",
    "    l2_leaf_reg=5,\n",
    "    random_strength=3,\n",
    "    verbose=0,\n",
    "    random_state=42\n",
    ")\n",
    "\n",
    "# --- Step 4: Wrap with SMOTE ---\n",
    "pipeline = Pipeline([\n",
    "    ('smote', SMOTE(random_state=42)),\n",
    "    ('model', cat_model)\n",
    "])\n",
    "\n",
    "# --- Step 5: Train on full data ---\n",
    "pipeline.fit(X, y)\n",
    "print(\"✅ Model trained on full dataset\")\n",
    "\n",
    "# --- Step 6: Prepare test data ---\n",
    "X_test_final = test.drop(columns=[\"id\"]).copy()\n",
    "for col in X_test_final.columns:\n",
    "    if X_test_final[col].dtype == \"object\" and col in label_encoders:\n",
    "        X_test_final[col] = label_encoders[col].transform(X_test_final[col])\n",
    "\n",
    "# --- Step 7: Predict and create submission file ---\n",
    "y_test_pred = pipeline.predict(X_test_final)\n",
    "\n",
    "# Decode predictions if needed\n",
    "if y_le:\n",
    "    y_test_pred = y_le.inverse_transform(y_test_pred)\n",
    "\n",
    "submission = pd.DataFrame({\n",
    "    \"id\": test[\"id\"],\n",
    "    \"Personality\": y_test_pred\n",
    "})\n",
    "submission.to_csv(\"submission.csv\", index=False)\n",
    "\n",
    "print(\"📁 submission.csv created successfully.\")\n"
   ]
  },
  {
   "cell_type": "code",
   "execution_count": 337,
   "id": "2f053345",
   "metadata": {},
   "outputs": [
    {
     "name": "stdout",
     "output_type": "stream",
     "text": [
      "SMOTE + StackingClassifier CV Accuracy Scores: [0.95985401 0.97572993 0.98868613 0.98594634 0.98886658]\n",
      "SMOTE + StackingClassifier Mean Accuracy: 0.9798165990117542\n"
     ]
    }
   ],
   "source": [
    "from sklearn.ensemble import StackingClassifier\n",
    "from sklearn.linear_model import LogisticRegression\n",
    "from sklearn.ensemble import RandomForestClassifier\n",
    "from xgboost import XGBClassifier\n",
    "from lightgbm import LGBMClassifier\n",
    "from imblearn.over_sampling import SMOTE\n",
    "from sklearn.model_selection import cross_val_score\n",
    "from sklearn.pipeline import Pipeline\n",
    "\n",
    "# SMOTE\n",
    "smote = SMOTE(random_state=42)\n",
    "X_resampled, y_resampled = smote.fit_resample(X, y)\n",
    "\n",
    "# Define base learners\n",
    "base_learners = [\n",
    "    ('lr', LogisticRegression(class_weight='balanced', max_iter=1000, random_state=42)),\n",
    "    ('rf', RandomForestClassifier(class_weight='balanced', random_state=42)),\n",
    "    ('xgb', XGBClassifier(eval_metric='logloss', scale_pos_weight=3.0, random_state=42)),\n",
    "    ('lgbm', LGBMClassifier(class_weight='balanced', random_state=42))\n",
    "    ('cat', CatBoostClassifier(verbose=0, random_state=42))\n",
    "]\n",
    "\n",
    "# Define final estimator\n",
    "final_estimator = LogisticRegression(max_iter=1000, random_state=42)\n",
    "\n",
    "# Create StackingClassifier\n",
    "stacking_model = StackingClassifier(\n",
    "    estimators=base_learners,\n",
    "    final_estimator=final_estimator,\n",
    "    cv=5,\n",
    "    passthrough=False,\n",
    "    n_jobs=-1\n",
    ")\n",
    "\n",
    "# Evaluate with cross-validation\n",
    "stacking_scores = cross_val_score(stacking_model, X_resampled, y_resampled, cv=5, scoring='accuracy')\n",
    "\n",
    "print(\"SMOTE + StackingClassifier CV Accuracy Scores:\", stacking_scores)\n",
    "print(\"SMOTE + StackingClassifier Mean Accuracy:\", stacking_scores.mean())\n"
   ]
  },
  {
   "cell_type": "code",
   "execution_count": 340,
   "id": "406ce253",
   "metadata": {},
   "outputs": [
    {
     "name": "stdout",
     "output_type": "stream",
     "text": [
      "✅ Training Accuracy: 0.9845\n",
      "🧪 Test Accuracy (80/20 split): 0.9722\n",
      "🔍 Accuracy Delta (Train - Test): 0.0123\n"
     ]
    }
   ],
   "source": [
    "from sklearn.ensemble import StackingClassifier, RandomForestClassifier\n",
    "from sklearn.linear_model import LogisticRegression\n",
    "from xgboost import XGBClassifier\n",
    "from lightgbm import LGBMClassifier\n",
    "from imblearn.pipeline import Pipeline\n",
    "from imblearn.over_sampling import SMOTE\n",
    "from sklearn.model_selection import train_test_split\n",
    "from sklearn.metrics import accuracy_score\n",
    "\n",
    "# ✅ Step 1: Define base learners\n",
    "base_learners = [\n",
    "    ('lr', LogisticRegression(class_weight='balanced', max_iter=1000, random_state=42)),\n",
    "    ('rf', RandomForestClassifier(class_weight='balanced', random_state=42)),\n",
    "    ('xgb', XGBClassifier(eval_metric='logloss', scale_pos_weight=3.0, random_state=42)),\n",
    "    ('lgbm', LGBMClassifier(class_weight='balanced', random_state=42))\n",
    "]\n",
    "\n",
    "# ✅ Step 2: Define final estimator for stacking\n",
    "final_estimator = LogisticRegression(max_iter=1000, random_state=42)\n",
    "\n",
    "# ✅ Step 3: Create stacking model\n",
    "stacking_model = StackingClassifier(\n",
    "    estimators=base_learners,\n",
    "    final_estimator=final_estimator,\n",
    "    cv=5,\n",
    "    passthrough=False,\n",
    "    n_jobs=-1\n",
    ")\n",
    "\n",
    "# ✅ Step 4: Wrap with SMOTE in a pipeline\n",
    "pipeline = Pipeline([\n",
    "    ('smote', SMOTE(random_state=42)),\n",
    "    ('model', stacking_model)\n",
    "])\n",
    "\n",
    "# ✅ Step 5: Stratified 80/20 split\n",
    "X_train, X_test, y_train, y_test = train_test_split(\n",
    "    X, y, test_size=0.2, stratify=y, random_state=42\n",
    ")\n",
    "\n",
    "# ✅ Step 6: Train pipeline\n",
    "pipeline.fit(X_train, y_train)\n",
    "\n",
    "# ✅ Step 7: Evaluate\n",
    "y_train_pred = pipeline.predict(X_train)\n",
    "y_test_pred = pipeline.predict(X_test)\n",
    "\n",
    "train_acc = accuracy_score(y_train, y_train_pred)\n",
    "test_acc = accuracy_score(y_test, y_test_pred)\n",
    "delta = train_acc - test_acc\n",
    "\n",
    "print(f\"✅ Training Accuracy: {train_acc:.4f}\")\n",
    "print(f\"🧪 Test Accuracy (80/20 split): {test_acc:.4f}\")\n",
    "print(f\"🔍 Accuracy Delta (Train - Test): {delta:.4f}\")\n"
   ]
  },
  {
   "cell_type": "code",
   "execution_count": 341,
   "id": "c4c2c571",
   "metadata": {},
   "outputs": [
    {
     "name": "stdout",
     "output_type": "stream",
     "text": [
      "✅ Training Accuracy: 0.9791\n",
      "🧪 Test Accuracy (80/20 split): 0.9741\n",
      "🔍 Accuracy Delta (Train - Test): 0.0050\n"
     ]
    }
   ],
   "source": [
    "from sklearn.ensemble import StackingClassifier, RandomForestClassifier\n",
    "from sklearn.linear_model import LogisticRegression\n",
    "from xgboost import XGBClassifier\n",
    "from lightgbm import LGBMClassifier\n",
    "from imblearn.pipeline import Pipeline\n",
    "from imblearn.over_sampling import SMOTE\n",
    "from sklearn.model_selection import train_test_split\n",
    "from sklearn.metrics import accuracy_score\n",
    "\n",
    "# ✅ Step 1: Define base learners\n",
    "base_learners = [\n",
    "    ('lr', LogisticRegression(class_weight='balanced', max_iter=1000, random_state=42)),\n",
    "    ('lgbm', LGBMClassifier(class_weight='balanced', random_state=42))\n",
    "]\n",
    "\n",
    "# ✅ Step 2: Define final estimator for stacking\n",
    "final_estimator = LogisticRegression(max_iter=1000, random_state=42)\n",
    "\n",
    "# ✅ Step 3: Create stacking model\n",
    "stacking_model = StackingClassifier(\n",
    "    estimators=base_learners,\n",
    "    final_estimator=final_estimator,\n",
    "    cv=5,\n",
    "    passthrough=False,\n",
    "    n_jobs=-1\n",
    ")\n",
    "\n",
    "# ✅ Step 4: Wrap with SMOTE in a pipeline\n",
    "pipeline = Pipeline([\n",
    "    ('smote', SMOTE(random_state=42)),\n",
    "    ('model', stacking_model)\n",
    "])\n",
    "\n",
    "# ✅ Step 5: Stratified 80/20 split\n",
    "X_train, X_test, y_train, y_test = train_test_split(\n",
    "    X, y, test_size=0.2, stratify=y, random_state=42\n",
    ")\n",
    "\n",
    "# ✅ Step 6: Train pipeline\n",
    "pipeline.fit(X_train, y_train)\n",
    "\n",
    "# ✅ Step 7: Evaluate\n",
    "y_train_pred = pipeline.predict(X_train)\n",
    "y_test_pred = pipeline.predict(X_test)\n",
    "\n",
    "train_acc = accuracy_score(y_train, y_train_pred)\n",
    "test_acc = accuracy_score(y_test, y_test_pred)\n",
    "delta = train_acc - test_acc\n",
    "\n",
    "print(f\"✅ Training Accuracy: {train_acc:.4f}\")\n",
    "print(f\"🧪 Test Accuracy (80/20 split): {test_acc:.4f}\")\n",
    "print(f\"🔍 Accuracy Delta (Train - Test): {delta:.4f}\")\n"
   ]
  },
  {
   "cell_type": "code",
   "execution_count": 342,
   "id": "d71a23ee",
   "metadata": {},
   "outputs": [
    {
     "name": "stdout",
     "output_type": "stream",
     "text": [
      "✅ Training Accuracy: 0.9806\n",
      "🧪 Test Accuracy (80/20 split): 0.9717\n",
      "🔍 Accuracy Delta (Train - Test): 0.0090\n"
     ]
    }
   ],
   "source": [
    "from sklearn.ensemble import StackingClassifier, RandomForestClassifier\n",
    "from sklearn.linear_model import LogisticRegression\n",
    "from xgboost import XGBClassifier\n",
    "from lightgbm import LGBMClassifier\n",
    "from imblearn.pipeline import Pipeline\n",
    "from imblearn.over_sampling import SMOTE\n",
    "from sklearn.model_selection import train_test_split\n",
    "from sklearn.metrics import accuracy_score\n",
    "\n",
    "# ✅ Step 1: Define base learners\n",
    "base_learners = [\n",
    "    ('lr', LogisticRegression(class_weight='balanced', max_iter=1000, random_state=42)),\n",
    "    ('xgb', XGBClassifier(eval_metric='logloss', scale_pos_weight=3.0, random_state=42)),\n",
    "]\n",
    "\n",
    "# ✅ Step 2: Define final estimator for stacking\n",
    "final_estimator = LogisticRegression(max_iter=1000, random_state=42)\n",
    "\n",
    "# ✅ Step 3: Create stacking model\n",
    "stacking_model = StackingClassifier(\n",
    "    estimators=base_learners,\n",
    "    final_estimator=final_estimator,\n",
    "    cv=5,\n",
    "    passthrough=False,\n",
    "    n_jobs=-1\n",
    ")\n",
    "\n",
    "# ✅ Step 4: Wrap with SMOTE in a pipeline\n",
    "pipeline = Pipeline([\n",
    "    ('smote', SMOTE(random_state=42)),\n",
    "    ('model', stacking_model)\n",
    "])\n",
    "\n",
    "# ✅ Step 5: Stratified 80/20 split\n",
    "X_train, X_test, y_train, y_test = train_test_split(\n",
    "    X, y, test_size=0.2, stratify=y, random_state=42\n",
    ")\n",
    "\n",
    "# ✅ Step 6: Train pipeline\n",
    "pipeline.fit(X_train, y_train)\n",
    "\n",
    "# ✅ Step 7: Evaluate\n",
    "y_train_pred = pipeline.predict(X_train)\n",
    "y_test_pred = pipeline.predict(X_test)\n",
    "\n",
    "train_acc = accuracy_score(y_train, y_train_pred)\n",
    "test_acc = accuracy_score(y_test, y_test_pred)\n",
    "delta = train_acc - test_acc\n",
    "\n",
    "print(f\"✅ Training Accuracy: {train_acc:.4f}\")\n",
    "print(f\"🧪 Test Accuracy (80/20 split): {test_acc:.4f}\")\n",
    "print(f\"🔍 Accuracy Delta (Train - Test): {delta:.4f}\")\n"
   ]
  },
  {
   "cell_type": "code",
   "execution_count": 344,
   "id": "4848686a",
   "metadata": {},
   "outputs": [
    {
     "name": "stdout",
     "output_type": "stream",
     "text": [
      "✅ Training Accuracy: 0.9810\n",
      "🧪 Test Accuracy (80/20 split): 0.9741\n",
      "🔍 Accuracy Delta (Train - Test): 0.0069\n"
     ]
    }
   ],
   "source": [
    "from sklearn.ensemble import StackingClassifier, RandomForestClassifier\n",
    "from sklearn.linear_model import LogisticRegression\n",
    "from xgboost import XGBClassifier\n",
    "from lightgbm import LGBMClassifier\n",
    "from imblearn.pipeline import Pipeline\n",
    "from imblearn.over_sampling import SMOTE\n",
    "from sklearn.model_selection import train_test_split\n",
    "from sklearn.metrics import accuracy_score\n",
    "\n",
    "# ✅ Step 1: Define base learners\n",
    "base_learners = [\n",
    "    ('lr', LogisticRegression(class_weight='balanced', max_iter=1000, random_state=42)),\n",
    "    ('cat', CatBoostClassifier(verbose=0, random_state=42))\n",
    "]\n",
    "\n",
    "# ✅ Step 2: Define final estimator for stacking\n",
    "final_estimator = LogisticRegression(max_iter=1000, random_state=42)\n",
    "\n",
    "# ✅ Step 3: Create stacking model\n",
    "stacking_model = StackingClassifier(\n",
    "    estimators=base_learners,\n",
    "    final_estimator=final_estimator,\n",
    "    cv=5,\n",
    "    passthrough=False,\n",
    "    n_jobs=-1\n",
    ")\n",
    "\n",
    "# ✅ Step 4: Wrap with SMOTE in a pipeline\n",
    "pipeline = Pipeline([\n",
    "    ('smote', SMOTE(random_state=42)),\n",
    "    ('model', stacking_model)\n",
    "])\n",
    "\n",
    "# ✅ Step 5: Stratified 80/20 split\n",
    "X_train, X_test, y_train, y_test = train_test_split(\n",
    "    X, y, test_size=0.2, stratify=y, random_state=42\n",
    ")\n",
    "\n",
    "# ✅ Step 6: Train pipeline\n",
    "pipeline.fit(X_train, y_train)\n",
    "\n",
    "# ✅ Step 7: Evaluate\n",
    "y_train_pred = pipeline.predict(X_train)\n",
    "y_test_pred = pipeline.predict(X_test)\n",
    "\n",
    "train_acc = accuracy_score(y_train, y_train_pred)\n",
    "test_acc = accuracy_score(y_test, y_test_pred)\n",
    "delta = train_acc - test_acc\n",
    "\n",
    "print(f\"✅ Training Accuracy: {train_acc:.4f}\")\n",
    "print(f\"🧪 Test Accuracy (80/20 split): {test_acc:.4f}\")\n",
    "print(f\"🔍 Accuracy Delta (Train - Test): {delta:.4f}\")\n"
   ]
  },
  {
   "cell_type": "code",
   "execution_count": 345,
   "id": "9cd218b4",
   "metadata": {},
   "outputs": [
    {
     "name": "stdout",
     "output_type": "stream",
     "text": [
      "✅ Training Accuracy: 0.9944\n",
      "🧪 Test Accuracy (80/20 split): 0.9673\n",
      "🔍 Accuracy Delta (Train - Test): 0.0271\n"
     ]
    }
   ],
   "source": [
    "from sklearn.ensemble import StackingClassifier, RandomForestClassifier\n",
    "from sklearn.linear_model import LogisticRegression\n",
    "from xgboost import XGBClassifier\n",
    "from lightgbm import LGBMClassifier\n",
    "from imblearn.pipeline import Pipeline\n",
    "from imblearn.over_sampling import SMOTE\n",
    "from sklearn.model_selection import train_test_split\n",
    "from sklearn.metrics import accuracy_score\n",
    "\n",
    "# ✅ Step 1: Define base learners\n",
    "base_learners = [\n",
    "    ('lr', LogisticRegression(class_weight='balanced', max_iter=1000, random_state=42)),\n",
    "    ('rf', RandomForestClassifier(class_weight='balanced', random_state=42)),\n",
    "]\n",
    "\n",
    "# ✅ Step 2: Define final estimator for stacking\n",
    "final_estimator = LogisticRegression(max_iter=1000, random_state=42)\n",
    "\n",
    "# ✅ Step 3: Create stacking model\n",
    "stacking_model = StackingClassifier(\n",
    "    estimators=base_learners,\n",
    "    final_estimator=final_estimator,\n",
    "    cv=5,\n",
    "    passthrough=False,\n",
    "    n_jobs=-1\n",
    ")\n",
    "\n",
    "# ✅ Step 4: Wrap with SMOTE in a pipeline\n",
    "pipeline = Pipeline([\n",
    "    ('smote', SMOTE(random_state=42)),\n",
    "    ('model', stacking_model)\n",
    "])\n",
    "\n",
    "# ✅ Step 5: Stratified 80/20 split\n",
    "X_train, X_test, y_train, y_test = train_test_split(\n",
    "    X, y, test_size=0.2, stratify=y, random_state=42\n",
    ")\n",
    "\n",
    "# ✅ Step 6: Train pipeline\n",
    "pipeline.fit(X_train, y_train)\n",
    "\n",
    "# ✅ Step 7: Evaluate\n",
    "y_train_pred = pipeline.predict(X_train)\n",
    "y_test_pred = pipeline.predict(X_test)\n",
    "\n",
    "train_acc = accuracy_score(y_train, y_train_pred)\n",
    "test_acc = accuracy_score(y_test, y_test_pred)\n",
    "delta = train_acc - test_acc\n",
    "\n",
    "print(f\"✅ Training Accuracy: {train_acc:.4f}\")\n",
    "print(f\"🧪 Test Accuracy (80/20 split): {test_acc:.4f}\")\n",
    "print(f\"🔍 Accuracy Delta (Train - Test): {delta:.4f}\")\n"
   ]
  },
  {
   "cell_type": "code",
   "execution_count": 346,
   "id": "55fb1b0d",
   "metadata": {},
   "outputs": [
    {
     "name": "stdout",
     "output_type": "stream",
     "text": [
      "✅ Training Accuracy: 0.9694\n",
      "🧪 Test Accuracy (80/20 split): 0.9698\n",
      "🔍 Accuracy Delta (Train - Test): -0.0003\n"
     ]
    }
   ],
   "source": [
    "from sklearn.ensemble import StackingClassifier, RandomForestClassifier\n",
    "from sklearn.linear_model import LogisticRegression\n",
    "from xgboost import XGBClassifier\n",
    "from lightgbm import LGBMClassifier\n",
    "from imblearn.pipeline import Pipeline\n",
    "from imblearn.over_sampling import SMOTE\n",
    "from sklearn.model_selection import train_test_split\n",
    "from sklearn.metrics import accuracy_score\n",
    "\n",
    "# ✅ Step 1: Define base learners\n",
    "base_learners = [\n",
    "    ('lr', LogisticRegression(C=0.1, class_weight='balanced', penalty='l2', solver='liblinear', max_iter=1000)\n",
    "),\n",
    "    ('xgb', XGBClassifier(\n",
    "    eval_metric='logloss',\n",
    "    scale_pos_weight=3.0,\n",
    "    n_estimators=100,\n",
    "    max_depth=4,\n",
    "    learning_rate=0.05,\n",
    "    subsample=0.7,\n",
    "    colsample_bytree=0.7,\n",
    "    reg_alpha=0.5,\n",
    "    reg_lambda=2,\n",
    "    random_state=42\n",
    ")),\n",
    "]\n",
    "\n",
    "# ✅ Step 2: Define final estimator for stacking\n",
    "final_estimator = LogisticRegression(max_iter=1000, random_state=42)\n",
    "\n",
    "# ✅ Step 3: Create stacking model\n",
    "stacking_model = StackingClassifier(\n",
    "    estimators=base_learners,\n",
    "    final_estimator=final_estimator,\n",
    "    cv=5,\n",
    "    passthrough=False,\n",
    "    n_jobs=-1\n",
    ")\n",
    "\n",
    "# ✅ Step 4: Wrap with SMOTE in a pipeline\n",
    "pipeline = Pipeline([\n",
    "    ('smote', SMOTE(random_state=42)),\n",
    "    ('model', stacking_model)\n",
    "])\n",
    "\n",
    "# ✅ Step 5: Stratified 80/20 split\n",
    "X_train, X_test, y_train, y_test = train_test_split(\n",
    "    X, y, test_size=0.2, stratify=y, random_state=42\n",
    ")\n",
    "\n",
    "# ✅ Step 6: Train pipeline\n",
    "pipeline.fit(X_train, y_train)\n",
    "\n",
    "# ✅ Step 7: Evaluate\n",
    "y_train_pred = pipeline.predict(X_train)\n",
    "y_test_pred = pipeline.predict(X_test)\n",
    "\n",
    "train_acc = accuracy_score(y_train, y_train_pred)\n",
    "test_acc = accuracy_score(y_test, y_test_pred)\n",
    "delta = train_acc - test_acc\n",
    "\n",
    "print(f\"✅ Training Accuracy: {train_acc:.4f}\")\n",
    "print(f\"🧪 Test Accuracy (80/20 split): {test_acc:.4f}\")\n",
    "print(f\"🔍 Accuracy Delta (Train - Test): {delta:.4f}\")\n"
   ]
  },
  {
   "cell_type": "code",
   "execution_count": 348,
   "id": "f0fc0504",
   "metadata": {},
   "outputs": [
    {
     "name": "stdout",
     "output_type": "stream",
     "text": [
      "✅ Training Accuracy: 0.9731\n",
      "🧪 Test Accuracy (80/20 split): 0.9738\n",
      "🔍 Accuracy Delta (Train - Test): -0.0007\n"
     ]
    }
   ],
   "source": [
    "from sklearn.ensemble import StackingClassifier, RandomForestClassifier\n",
    "from sklearn.linear_model import LogisticRegression\n",
    "from xgboost import XGBClassifier\n",
    "from lightgbm import LGBMClassifier\n",
    "from imblearn.pipeline import Pipeline\n",
    "from imblearn.over_sampling import SMOTE\n",
    "from sklearn.model_selection import train_test_split\n",
    "from sklearn.metrics import accuracy_score\n",
    "\n",
    "# ✅ Step 1: Define base learners\n",
    "base_learners = [\n",
    "    ('lr', LogisticRegression(\n",
    "    class_weight='balanced',\n",
    "    C=0.1,\n",
    "    solver='liblinear',\n",
    "    max_iter=1000,\n",
    "    random_state=42\n",
    ")\n",
    "),\n",
    "    ('lgbm', LGBMClassifier(\n",
    "    class_weight='balanced',\n",
    "    n_estimators=150,\n",
    "    max_depth=4,\n",
    "    learning_rate=0.05,\n",
    "    subsample=0.8,\n",
    "    colsample_bytree=0.8,\n",
    "    reg_alpha=0.5,\n",
    "    reg_lambda=0.5,\n",
    "    random_state=42\n",
    ")\n",
    "), ('xgb', XGBClassifier(\n",
    "    eval_metric='logloss',\n",
    "    scale_pos_weight=3.0,\n",
    "    n_estimators=100,\n",
    "    max_depth=4,\n",
    "    learning_rate=0.05,\n",
    "    subsample=0.7,\n",
    "    colsample_bytree=0.7,\n",
    "    reg_alpha=0.5,\n",
    "    reg_lambda=2,\n",
    "    random_state=42\n",
    "))\n",
    "]\n",
    "\n",
    "# ✅ Step 2: Define final estimator for stacking\n",
    "final_estimator = LogisticRegression(max_iter=1000, random_state=42)\n",
    "\n",
    "# ✅ Step 3: Create stacking model\n",
    "stacking_model = StackingClassifier(\n",
    "    estimators=base_learners,\n",
    "    final_estimator=final_estimator,\n",
    "    cv=5,\n",
    "    passthrough=False,\n",
    "    n_jobs=-1\n",
    ")\n",
    "\n",
    "# ✅ Step 4: Wrap with SMOTE in a pipeline\n",
    "pipeline = Pipeline([\n",
    "    ('smote', SMOTE(random_state=42)),\n",
    "    ('model', stacking_model)\n",
    "])\n",
    "\n",
    "# ✅ Step 5: Stratified 80/20 split\n",
    "X_train, X_test, y_train, y_test = train_test_split(\n",
    "    X, y, test_size=0.2, stratify=y, random_state=42\n",
    ")\n",
    "\n",
    "# ✅ Step 6: Train pipeline\n",
    "pipeline.fit(X_train, y_train)\n",
    "\n",
    "# ✅ Step 7: Evaluate\n",
    "y_train_pred = pipeline.predict(X_train)\n",
    "y_test_pred = pipeline.predict(X_test)\n",
    "\n",
    "train_acc = accuracy_score(y_train, y_train_pred)\n",
    "test_acc = accuracy_score(y_test, y_test_pred)\n",
    "delta = train_acc - test_acc\n",
    "\n",
    "print(f\"✅ Training Accuracy: {train_acc:.4f}\")\n",
    "print(f\"🧪 Test Accuracy (80/20 split): {test_acc:.4f}\")\n",
    "print(f\"🔍 Accuracy Delta (Train - Test): {delta:.4f}\")\n"
   ]
  },
  {
   "cell_type": "code",
   "execution_count": 349,
   "id": "46461965",
   "metadata": {},
   "outputs": [
    {
     "name": "stdout",
     "output_type": "stream",
     "text": [
      "✅ Training Accuracy: 0.9741\n",
      "🧪 Test Accuracy (80/20 split): 0.9735\n",
      "🔍 Accuracy Delta (Train - Test): 0.0005\n"
     ]
    }
   ],
   "source": [
    "from sklearn.ensemble import StackingClassifier, RandomForestClassifier\n",
    "from sklearn.linear_model import LogisticRegression\n",
    "from xgboost import XGBClassifier\n",
    "from lightgbm import LGBMClassifier\n",
    "from imblearn.pipeline import Pipeline\n",
    "from imblearn.over_sampling import SMOTE\n",
    "from sklearn.model_selection import train_test_split\n",
    "from sklearn.metrics import accuracy_score\n",
    "\n",
    "# ✅ Step 1: Define base learners\n",
    "base_learners = learners = [\n",
    "    ('lr', LogisticRegression(\n",
    "        class_weight='balanced',\n",
    "        C=0.1,\n",
    "        solver='liblinear',\n",
    "        max_iter=1000,\n",
    "        random_state=42\n",
    "    )),\n",
    "    ('cat', CatBoostClassifier(\n",
    "        iterations=200,\n",
    "        depth=5,\n",
    "        learning_rate=0.05,\n",
    "        l2_leaf_reg=5,\n",
    "        random_strength=3,\n",
    "        verbose=0,\n",
    "        random_state=42\n",
    "    ))\n",
    "]\n",
    "\n",
    "\n",
    "# ✅ Step 2: Define final estimator for stacking\n",
    "final_estimator = LogisticRegression(max_iter=1000, random_state=42)\n",
    "\n",
    "# ✅ Step 3: Create stacking model\n",
    "stacking_model = StackingClassifier(\n",
    "    estimators=base_learners,\n",
    "    final_estimator=final_estimator,\n",
    "    cv=5,\n",
    "    passthrough=False,\n",
    "    n_jobs=-1\n",
    ")\n",
    "\n",
    "# ✅ Step 4: Wrap with SMOTE in a pipeline\n",
    "pipeline = Pipeline([\n",
    "    ('smote', SMOTE(random_state=42)),\n",
    "    ('model', stacking_model)\n",
    "])\n",
    "\n",
    "# ✅ Step 5: Stratified 80/20 split\n",
    "X_train, X_test, y_train, y_test = train_test_split(\n",
    "    X, y, test_size=0.2, stratify=y, random_state=42\n",
    ")\n",
    "\n",
    "# ✅ Step 6: Train pipeline\n",
    "pipeline.fit(X_train, y_train)\n",
    "\n",
    "# ✅ Step 7: Evaluate\n",
    "y_train_pred = pipeline.predict(X_train)\n",
    "y_test_pred = pipeline.predict(X_test)\n",
    "\n",
    "train_acc = accuracy_score(y_train, y_train_pred)\n",
    "test_acc = accuracy_score(y_test, y_test_pred)\n",
    "delta = train_acc - test_acc\n",
    "\n",
    "print(f\"✅ Training Accuracy: {train_acc:.4f}\")\n",
    "print(f\"🧪 Test Accuracy (80/20 split): {test_acc:.4f}\")\n",
    "print(f\"🔍 Accuracy Delta (Train - Test): {delta:.4f}\")\n"
   ]
  },
  {
   "cell_type": "code",
   "execution_count": 350,
   "id": "5f9e5902",
   "metadata": {},
   "outputs": [
    {
     "name": "stdout",
     "output_type": "stream",
     "text": [
      "✅ Training Accuracy (CatBoost only): 0.9732\n",
      "🧪 Test Accuracy (80/20 split): 0.9738\n",
      "🔍 Accuracy Delta (Train - Test): -0.0006\n"
     ]
    }
   ],
   "source": [
    "from catboost import CatBoostClassifier\n",
    "from imblearn.pipeline import Pipeline\n",
    "from imblearn.over_sampling import SMOTE\n",
    "from sklearn.model_selection import train_test_split\n",
    "from sklearn.metrics import accuracy_score\n",
    "\n",
    "# ✅ Step 1: Define CatBoost model with regularization\n",
    "cat_model = CatBoostClassifier(\n",
    "    iterations=200,\n",
    "    depth=5,\n",
    "    learning_rate=0.05,\n",
    "    l2_leaf_reg=5,\n",
    "    random_strength=3,\n",
    "    verbose=0,\n",
    "    random_state=42\n",
    ")\n",
    "\n",
    "# ✅ Step 2: Wrap CatBoost inside pipeline with SMOTE\n",
    "pipeline = Pipeline([\n",
    "    ('smote', SMOTE(random_state=42)),\n",
    "    ('model', cat_model)\n",
    "])\n",
    "\n",
    "# ✅ Step 3: Stratified 80/20 split\n",
    "X_train, X_test, y_train, y_test = train_test_split(\n",
    "    X, y, test_size=0.2, stratify=y, random_state=42\n",
    ")\n",
    "\n",
    "# ✅ Step 4: Train pipeline\n",
    "pipeline.fit(X_train, y_train)\n",
    "\n",
    "# ✅ Step 5: Evaluate\n",
    "y_train_pred = pipeline.predict(X_train)\n",
    "y_test_pred = pipeline.predict(X_test)\n",
    "\n",
    "train_acc = accuracy_score(y_train, y_train_pred)\n",
    "test_acc = accuracy_score(y_test, y_test_pred)\n",
    "delta = train_acc - test_acc\n",
    "\n",
    "print(f\"✅ Training Accuracy (CatBoost only): {train_acc:.4f}\")\n",
    "print(f\"🧪 Test Accuracy (80/20 split): {test_acc:.4f}\")\n",
    "print(f\"🔍 Accuracy Delta (Train - Test): {delta:.4f}\")\n"
   ]
  },
  {
   "cell_type": "code",
   "execution_count": 351,
   "id": "68fbf0cd",
   "metadata": {},
   "outputs": [
    {
     "name": "stdout",
     "output_type": "stream",
     "text": [
      "[LightGBM] [Info] Number of positive: 10959, number of negative: 10959\n",
      "[LightGBM] [Info] Auto-choosing col-wise multi-threading, the overhead of testing was 0.001327 seconds.\n",
      "You can set `force_col_wise=true` to remove the overhead.\n",
      "[LightGBM] [Info] Total Bins 1277\n",
      "[LightGBM] [Info] Number of data points in the train set: 21918, number of used features: 6\n",
      "[LightGBM] [Info] [binary:BoostFromScore]: pavg=0.500000 -> initscore=0.000000\n",
      "[LightGBM] [Warning] No further splits with positive gain, best gain: -inf\n",
      "[LightGBM] [Warning] No further splits with positive gain, best gain: -inf\n",
      "[LightGBM] [Warning] No further splits with positive gain, best gain: -inf\n",
      "[LightGBM] [Warning] No further splits with positive gain, best gain: -inf\n",
      "[LightGBM] [Warning] No further splits with positive gain, best gain: -inf\n",
      "[LightGBM] [Warning] No further splits with positive gain, best gain: -inf\n",
      "[LightGBM] [Warning] No further splits with positive gain, best gain: -inf\n",
      "[LightGBM] [Warning] No further splits with positive gain, best gain: -inf\n",
      "[LightGBM] [Warning] No further splits with positive gain, best gain: -inf\n",
      "[LightGBM] [Warning] No further splits with positive gain, best gain: -inf\n",
      "[LightGBM] [Warning] No further splits with positive gain, best gain: -inf\n",
      "[LightGBM] [Warning] No further splits with positive gain, best gain: -inf\n",
      "[LightGBM] [Warning] No further splits with positive gain, best gain: -inf\n",
      "[LightGBM] [Warning] No further splits with positive gain, best gain: -inf\n",
      "[LightGBM] [Warning] No further splits with positive gain, best gain: -inf\n",
      "[LightGBM] [Warning] No further splits with positive gain, best gain: -inf\n",
      "[LightGBM] [Warning] No further splits with positive gain, best gain: -inf\n",
      "[LightGBM] [Warning] No further splits with positive gain, best gain: -inf\n",
      "[LightGBM] [Warning] No further splits with positive gain, best gain: -inf\n",
      "[LightGBM] [Warning] No further splits with positive gain, best gain: -inf\n",
      "[LightGBM] [Warning] No further splits with positive gain, best gain: -inf\n",
      "[LightGBM] [Warning] No further splits with positive gain, best gain: -inf\n",
      "[LightGBM] [Warning] No further splits with positive gain, best gain: -inf\n",
      "[LightGBM] [Warning] No further splits with positive gain, best gain: -inf\n",
      "[LightGBM] [Warning] No further splits with positive gain, best gain: -inf\n",
      "[LightGBM] [Warning] No further splits with positive gain, best gain: -inf\n",
      "[LightGBM] [Warning] No further splits with positive gain, best gain: -inf\n",
      "[LightGBM] [Warning] No further splits with positive gain, best gain: -inf\n",
      "[LightGBM] [Warning] No further splits with positive gain, best gain: -inf\n",
      "[LightGBM] [Warning] No further splits with positive gain, best gain: -inf\n",
      "[LightGBM] [Warning] No further splits with positive gain, best gain: -inf\n",
      "[LightGBM] [Warning] No further splits with positive gain, best gain: -inf\n",
      "[LightGBM] [Warning] No further splits with positive gain, best gain: -inf\n",
      "[LightGBM] [Warning] No further splits with positive gain, best gain: -inf\n",
      "[LightGBM] [Warning] No further splits with positive gain, best gain: -inf\n",
      "[LightGBM] [Warning] No further splits with positive gain, best gain: -inf\n",
      "[LightGBM] [Warning] No further splits with positive gain, best gain: -inf\n",
      "[LightGBM] [Warning] No further splits with positive gain, best gain: -inf\n",
      "[LightGBM] [Warning] No further splits with positive gain, best gain: -inf\n",
      "[LightGBM] [Warning] No further splits with positive gain, best gain: -inf\n",
      "[LightGBM] [Warning] No further splits with positive gain, best gain: -inf\n",
      "[LightGBM] [Warning] No further splits with positive gain, best gain: -inf\n",
      "[LightGBM] [Warning] No further splits with positive gain, best gain: -inf\n",
      "[LightGBM] [Warning] No further splits with positive gain, best gain: -inf\n",
      "[LightGBM] [Warning] No further splits with positive gain, best gain: -inf\n",
      "[LightGBM] [Warning] No further splits with positive gain, best gain: -inf\n",
      "[LightGBM] [Warning] No further splits with positive gain, best gain: -inf\n",
      "[LightGBM] [Warning] No further splits with positive gain, best gain: -inf\n",
      "[LightGBM] [Warning] No further splits with positive gain, best gain: -inf\n",
      "[LightGBM] [Warning] No further splits with positive gain, best gain: -inf\n",
      "[LightGBM] [Warning] No further splits with positive gain, best gain: -inf\n",
      "[LightGBM] [Warning] No further splits with positive gain, best gain: -inf\n",
      "[LightGBM] [Warning] No further splits with positive gain, best gain: -inf\n",
      "[LightGBM] [Warning] No further splits with positive gain, best gain: -inf\n",
      "[LightGBM] [Warning] No further splits with positive gain, best gain: -inf\n",
      "[LightGBM] [Warning] No further splits with positive gain, best gain: -inf\n",
      "[LightGBM] [Warning] No further splits with positive gain, best gain: -inf\n",
      "[LightGBM] [Warning] No further splits with positive gain, best gain: -inf\n",
      "[LightGBM] [Warning] No further splits with positive gain, best gain: -inf\n",
      "[LightGBM] [Warning] No further splits with positive gain, best gain: -inf\n",
      "[LightGBM] [Warning] No further splits with positive gain, best gain: -inf\n",
      "[LightGBM] [Warning] No further splits with positive gain, best gain: -inf\n",
      "[LightGBM] [Warning] No further splits with positive gain, best gain: -inf\n",
      "[LightGBM] [Warning] No further splits with positive gain, best gain: -inf\n",
      "[LightGBM] [Warning] No further splits with positive gain, best gain: -inf\n",
      "[LightGBM] [Warning] No further splits with positive gain, best gain: -inf\n",
      "[LightGBM] [Warning] No further splits with positive gain, best gain: -inf\n",
      "[LightGBM] [Warning] No further splits with positive gain, best gain: -inf\n",
      "[LightGBM] [Warning] No further splits with positive gain, best gain: -inf\n",
      "[LightGBM] [Warning] No further splits with positive gain, best gain: -inf\n",
      "[LightGBM] [Warning] No further splits with positive gain, best gain: -inf\n",
      "[LightGBM] [Warning] No further splits with positive gain, best gain: -inf\n",
      "[LightGBM] [Warning] No further splits with positive gain, best gain: -inf\n",
      "[LightGBM] [Warning] No further splits with positive gain, best gain: -inf\n",
      "[LightGBM] [Warning] No further splits with positive gain, best gain: -inf\n",
      "[LightGBM] [Warning] No further splits with positive gain, best gain: -inf\n",
      "[LightGBM] [Warning] No further splits with positive gain, best gain: -inf\n",
      "[LightGBM] [Warning] No further splits with positive gain, best gain: -inf\n",
      "[LightGBM] [Warning] No further splits with positive gain, best gain: -inf\n",
      "[LightGBM] [Warning] No further splits with positive gain, best gain: -inf\n",
      "[LightGBM] [Warning] No further splits with positive gain, best gain: -inf\n",
      "[LightGBM] [Warning] No further splits with positive gain, best gain: -inf\n",
      "[LightGBM] [Warning] No further splits with positive gain, best gain: -inf\n",
      "[LightGBM] [Warning] No further splits with positive gain, best gain: -inf\n",
      "[LightGBM] [Warning] No further splits with positive gain, best gain: -inf\n",
      "[LightGBM] [Warning] No further splits with positive gain, best gain: -inf\n",
      "[LightGBM] [Warning] No further splits with positive gain, best gain: -inf\n",
      "[LightGBM] [Warning] No further splits with positive gain, best gain: -inf\n",
      "[LightGBM] [Warning] No further splits with positive gain, best gain: -inf\n",
      "[LightGBM] [Warning] No further splits with positive gain, best gain: -inf\n",
      "[LightGBM] [Warning] No further splits with positive gain, best gain: -inf\n",
      "[LightGBM] [Warning] No further splits with positive gain, best gain: -inf\n",
      "[LightGBM] [Warning] No further splits with positive gain, best gain: -inf\n",
      "[LightGBM] [Warning] No further splits with positive gain, best gain: -inf\n",
      "[LightGBM] [Warning] No further splits with positive gain, best gain: -inf\n",
      "[LightGBM] [Warning] No further splits with positive gain, best gain: -inf\n",
      "[LightGBM] [Warning] No further splits with positive gain, best gain: -inf\n",
      "[LightGBM] [Warning] No further splits with positive gain, best gain: -inf\n",
      "[LightGBM] [Warning] No further splits with positive gain, best gain: -inf\n",
      "[LightGBM] [Warning] No further splits with positive gain, best gain: -inf\n",
      "[LightGBM] [Warning] No further splits with positive gain, best gain: -inf\n",
      "[LightGBM] [Warning] No further splits with positive gain, best gain: -inf\n",
      "[LightGBM] [Warning] No further splits with positive gain, best gain: -inf\n",
      "[LightGBM] [Warning] No further splits with positive gain, best gain: -inf\n",
      "[LightGBM] [Warning] No further splits with positive gain, best gain: -inf\n",
      "[LightGBM] [Warning] No further splits with positive gain, best gain: -inf\n",
      "[LightGBM] [Warning] No further splits with positive gain, best gain: -inf\n",
      "[LightGBM] [Warning] No further splits with positive gain, best gain: -inf\n",
      "[LightGBM] [Warning] No further splits with positive gain, best gain: -inf\n",
      "[LightGBM] [Warning] No further splits with positive gain, best gain: -inf\n",
      "[LightGBM] [Warning] No further splits with positive gain, best gain: -inf\n",
      "[LightGBM] [Warning] No further splits with positive gain, best gain: -inf\n",
      "[LightGBM] [Warning] No further splits with positive gain, best gain: -inf\n",
      "[LightGBM] [Warning] No further splits with positive gain, best gain: -inf\n",
      "[LightGBM] [Warning] No further splits with positive gain, best gain: -inf\n",
      "[LightGBM] [Warning] No further splits with positive gain, best gain: -inf\n",
      "[LightGBM] [Warning] No further splits with positive gain, best gain: -inf\n",
      "[LightGBM] [Warning] No further splits with positive gain, best gain: -inf\n",
      "[LightGBM] [Warning] No further splits with positive gain, best gain: -inf\n",
      "[LightGBM] [Warning] No further splits with positive gain, best gain: -inf\n",
      "[LightGBM] [Warning] No further splits with positive gain, best gain: -inf\n"
     ]
    },
    {
     "name": "stdout",
     "output_type": "stream",
     "text": [
      "[LightGBM] [Warning] No further splits with positive gain, best gain: -inf\n",
      "[LightGBM] [Warning] No further splits with positive gain, best gain: -inf\n",
      "[LightGBM] [Warning] No further splits with positive gain, best gain: -inf\n",
      "[LightGBM] [Warning] No further splits with positive gain, best gain: -inf\n",
      "[LightGBM] [Warning] No further splits with positive gain, best gain: -inf\n",
      "[LightGBM] [Warning] No further splits with positive gain, best gain: -inf\n",
      "[LightGBM] [Warning] No further splits with positive gain, best gain: -inf\n",
      "[LightGBM] [Warning] No further splits with positive gain, best gain: -inf\n",
      "[LightGBM] [Warning] No further splits with positive gain, best gain: -inf\n",
      "[LightGBM] [Warning] No further splits with positive gain, best gain: -inf\n",
      "[LightGBM] [Warning] No further splits with positive gain, best gain: -inf\n",
      "[LightGBM] [Warning] No further splits with positive gain, best gain: -inf\n",
      "[LightGBM] [Warning] No further splits with positive gain, best gain: -inf\n",
      "[LightGBM] [Warning] No further splits with positive gain, best gain: -inf\n",
      "[LightGBM] [Warning] No further splits with positive gain, best gain: -inf\n",
      "[LightGBM] [Warning] No further splits with positive gain, best gain: -inf\n",
      "[LightGBM] [Warning] No further splits with positive gain, best gain: -inf\n",
      "[LightGBM] [Warning] No further splits with positive gain, best gain: -inf\n",
      "[LightGBM] [Warning] No further splits with positive gain, best gain: -inf\n",
      "[LightGBM] [Warning] No further splits with positive gain, best gain: -inf\n",
      "[LightGBM] [Warning] No further splits with positive gain, best gain: -inf\n",
      "[LightGBM] [Warning] No further splits with positive gain, best gain: -inf\n",
      "[LightGBM] [Warning] No further splits with positive gain, best gain: -inf\n",
      "[LightGBM] [Warning] No further splits with positive gain, best gain: -inf\n",
      "[LightGBM] [Warning] No further splits with positive gain, best gain: -inf\n",
      "[LightGBM] [Warning] No further splits with positive gain, best gain: -inf\n",
      "[LightGBM] [Warning] No further splits with positive gain, best gain: -inf\n",
      "[LightGBM] [Warning] No further splits with positive gain, best gain: -inf\n",
      "[LightGBM] [Warning] No further splits with positive gain, best gain: -inf\n",
      "✅ Training Accuracy (LGBM only): 0.9724\n",
      "🧪 Test Accuracy (80/20 split): 0.9738\n",
      "🔍 Accuracy Delta (Train - Test): -0.0014\n"
     ]
    }
   ],
   "source": [
    "from lightgbm import LGBMClassifier\n",
    "from imblearn.pipeline import Pipeline\n",
    "from imblearn.over_sampling import SMOTE\n",
    "from sklearn.model_selection import train_test_split\n",
    "from sklearn.metrics import accuracy_score\n",
    "\n",
    "# ✅ Step 1: Define LGBM model with tuned parameters\n",
    "lgbm_model = LGBMClassifier(\n",
    "    class_weight='balanced',\n",
    "    n_estimators=150,\n",
    "    max_depth=4,\n",
    "    learning_rate=0.05,\n",
    "    subsample=0.8,\n",
    "    colsample_bytree=0.8,\n",
    "    reg_alpha=0.5,\n",
    "    reg_lambda=0.5,\n",
    "    random_state=42\n",
    ")\n",
    "\n",
    "# ✅ Step 2: Wrap LGBM inside pipeline with SMOTE\n",
    "pipeline = Pipeline([\n",
    "    ('smote', SMOTE(random_state=42)),\n",
    "    ('model', lgbm_model)\n",
    "])\n",
    "\n",
    "# ✅ Step 3: Stratified 80/20 split\n",
    "X_train, X_test, y_train, y_test = train_test_split(\n",
    "    X, y, test_size=0.2, stratify=y, random_state=42\n",
    ")\n",
    "\n",
    "# ✅ Step 4: Train pipeline\n",
    "pipeline.fit(X_train, y_train)\n",
    "\n",
    "# ✅ Step 5: Evaluate\n",
    "y_train_pred = pipeline.predict(X_train)\n",
    "y_test_pred = pipeline.predict(X_test)\n",
    "\n",
    "train_acc = accuracy_score(y_train, y_train_pred)\n",
    "test_acc = accuracy_score(y_test, y_test_pred)\n",
    "delta = train_acc - test_acc\n",
    "\n",
    "print(f\"✅ Training Accuracy (LGBM only): {train_acc:.4f}\")\n",
    "print(f\"🧪 Test Accuracy (80/20 split): {test_acc:.4f}\")\n",
    "print(f\"🔍 Accuracy Delta (Train - Test): {delta:.4f}\")\n"
   ]
  },
  {
   "cell_type": "code",
   "execution_count": 352,
   "id": "707e8e6b",
   "metadata": {},
   "outputs": [
    {
     "name": "stdout",
     "output_type": "stream",
     "text": [
      "✅ Training Accuracy (Logistic Regression only): 0.9686\n",
      "🧪 Test Accuracy (80/20 split): 0.9711\n",
      "🔍 Accuracy Delta (Train - Test): -0.0025\n"
     ]
    }
   ],
   "source": [
    "from sklearn.linear_model import LogisticRegression\n",
    "from imblearn.pipeline import Pipeline\n",
    "from imblearn.over_sampling import SMOTE\n",
    "from sklearn.model_selection import train_test_split\n",
    "from sklearn.metrics import accuracy_score\n",
    "\n",
    "# ✅ Step 1: Define Logistic Regression model (regularized)\n",
    "lr_model = LogisticRegression(\n",
    "    class_weight='balanced',\n",
    "    C=0.1,                       # Add regularization to avoid overfitting\n",
    "    solver='liblinear',\n",
    "    max_iter=1000,\n",
    "    random_state=42\n",
    ")\n",
    "\n",
    "# ✅ Step 2: Wrap LR inside pipeline with SMOTE\n",
    "pipeline = Pipeline([\n",
    "    ('smote', SMOTE(random_state=42)),\n",
    "    ('model', lr_model)\n",
    "])\n",
    "\n",
    "# ✅ Step 3: Stratified 80/20 split\n",
    "X_train, X_test, y_train, y_test = train_test_split(\n",
    "    X, y, test_size=0.2, stratify=y, random_state=42\n",
    ")\n",
    "\n",
    "# ✅ Step 4: Train pipeline\n",
    "pipeline.fit(X_train, y_train)\n",
    "\n",
    "# ✅ Step 5: Evaluate\n",
    "y_train_pred = pipeline.predict(X_train)\n",
    "y_test_pred = pipeline.predict(X_test)\n",
    "\n",
    "train_acc = accuracy_score(y_train, y_train_pred)\n",
    "test_acc = accuracy_score(y_test, y_test_pred)\n",
    "delta = train_acc - test_acc\n",
    "\n",
    "print(f\"✅ Training Accuracy (Logistic Regression only): {train_acc:.4f}\")\n",
    "print(f\"🧪 Test Accuracy (80/20 split): {test_acc:.4f}\")\n",
    "print(f\"🔍 Accuracy Delta (Train - Test): {delta:.4f}\")\n"
   ]
  },
  {
   "cell_type": "code",
   "execution_count": 353,
   "id": "3cf95c42",
   "metadata": {},
   "outputs": [
    {
     "name": "stdout",
     "output_type": "stream",
     "text": [
      "✅ Training Accuracy (MLP): 0.9748\n",
      "🧪 Test Accuracy (80/20 split): 0.9714\n",
      "🔍 Accuracy Delta (Train - Test): 0.0034\n"
     ]
    }
   ],
   "source": [
    "from sklearn.neural_network import MLPClassifier\n",
    "from imblearn.pipeline import Pipeline\n",
    "from imblearn.over_sampling import SMOTE\n",
    "from sklearn.model_selection import train_test_split\n",
    "from sklearn.metrics import accuracy_score\n",
    "\n",
    "# ✅ Step 1: Define MLP (Neural Network) model\n",
    "mlp_model = MLPClassifier(\n",
    "    hidden_layer_sizes=(64, 32),  # Two hidden layers with 64 and 32 neurons\n",
    "    activation='relu',\n",
    "    solver='adam',\n",
    "    alpha=0.0005,                # L2 regularization term\n",
    "    learning_rate='adaptive',    # Adjusts learning rate based on performance\n",
    "    max_iter=1000,\n",
    "    random_state=42\n",
    ")\n",
    "\n",
    "# ✅ Step 2: Wrap MLP in SMOTE pipeline\n",
    "pipeline = Pipeline([\n",
    "    ('smote', SMOTE(random_state=42)),\n",
    "    ('model', mlp_model)\n",
    "])\n",
    "\n",
    "# ✅ Step 3: 80/20 stratified train-test split\n",
    "X_train, X_test, y_train, y_test = train_test_split(\n",
    "    X, y, test_size=0.2, stratify=y, random_state=42\n",
    ")\n",
    "\n",
    "# ✅ Step 4: Train model\n",
    "pipeline.fit(X_train, y_train)\n",
    "\n",
    "# ✅ Step 5: Evaluate model\n",
    "y_train_pred = pipeline.predict(X_train)\n",
    "y_test_pred = pipeline.predict(X_test)\n",
    "\n",
    "train_acc = accuracy_score(y_train, y_train_pred)\n",
    "test_acc = accuracy_score(y_test, y_test_pred)\n",
    "delta = train_acc - test_acc\n",
    "\n",
    "print(f\"✅ Training Accuracy (MLP): {train_acc:.4f}\")\n",
    "print(f\"🧪 Test Accuracy (80/20 split): {test_acc:.4f}\")\n",
    "print(f\"🔍 Accuracy Delta (Train - Test): {delta:.4f}\")\n"
   ]
  },
  {
   "cell_type": "code",
   "execution_count": 354,
   "id": "6b858b8b",
   "metadata": {},
   "outputs": [
    {
     "name": "stdout",
     "output_type": "stream",
     "text": [
      "✅ Deep MLP Training Accuracy: 0.9740\n",
      "🧪 Deep MLP Test Accuracy (80/20): 0.9714\n",
      "🔍 Delta (Train - Test): 0.0026\n"
     ]
    }
   ],
   "source": [
    "from sklearn.neural_network import MLPClassifier\n",
    "from imblearn.pipeline import Pipeline\n",
    "from imblearn.over_sampling import SMOTE\n",
    "from sklearn.model_selection import train_test_split\n",
    "from sklearn.metrics import accuracy_score\n",
    "\n",
    "# Split\n",
    "X_train, X_test, y_train, y_test = train_test_split(\n",
    "    X, y, test_size=0.2, stratify=y, random_state=42\n",
    ")\n",
    "\n",
    "# Define Deep MLP\n",
    "mlp_deep = MLPClassifier(\n",
    "    hidden_layer_sizes=(128, 64, 32),\n",
    "    activation='relu',\n",
    "    solver='adam',\n",
    "    alpha=0.001,                 # L2 regularization\n",
    "    learning_rate='adaptive',\n",
    "    learning_rate_init=0.005,\n",
    "    max_iter=1500,\n",
    "    early_stopping=True,\n",
    "    random_state=42\n",
    ")\n",
    "\n",
    "# Create pipeline\n",
    "pipeline_deep = Pipeline([\n",
    "    ('smote', SMOTE(random_state=42)),\n",
    "    ('model', mlp_deep)\n",
    "])\n",
    "\n",
    "# Fit\n",
    "pipeline_deep.fit(X_train, y_train)\n",
    "\n",
    "# Evaluate\n",
    "y_train_pred = pipeline_deep.predict(X_train)\n",
    "y_test_pred = pipeline_deep.predict(X_test)\n",
    "\n",
    "train_acc = accuracy_score(y_train, y_train_pred)\n",
    "test_acc = accuracy_score(y_test, y_test_pred)\n",
    "delta = train_acc - test_acc\n",
    "\n",
    "print(f\"✅ Deep MLP Training Accuracy: {train_acc:.4f}\")\n",
    "print(f\"🧪 Deep MLP Test Accuracy (80/20): {test_acc:.4f}\")\n",
    "print(f\"🔍 Delta (Train - Test): {delta:.4f}\")\n"
   ]
  },
  {
   "cell_type": "code",
   "execution_count": 355,
   "id": "8d4f3524",
   "metadata": {},
   "outputs": [
    {
     "name": "stdout",
     "output_type": "stream",
     "text": [
      "✅ Shallow MLP Training Accuracy: 0.9681\n",
      "🧪 Shallow MLP Test Accuracy (80/20): 0.9714\n",
      "🔍 Delta (Train - Test): -0.0032\n"
     ]
    }
   ],
   "source": [
    "from sklearn.neural_network import MLPClassifier\n",
    "from imblearn.pipeline import Pipeline\n",
    "from imblearn.over_sampling import SMOTE\n",
    "from sklearn.model_selection import train_test_split\n",
    "from sklearn.metrics import accuracy_score\n",
    "\n",
    "# 80/20 split\n",
    "X_train, X_test, y_train, y_test = train_test_split(\n",
    "    X, y, test_size=0.2, stratify=y, random_state=42\n",
    ")\n",
    "\n",
    "# Wide shallow MLP (simulate dropout with L2 + early stopping)\n",
    "mlp_shallow = MLPClassifier(\n",
    "    hidden_layer_sizes=(256,),      # One wide layer\n",
    "    activation='tanh',\n",
    "    solver='adam',\n",
    "    alpha=0.01,                     # L2 penalty (simulates dropout regularization)\n",
    "    learning_rate_init=0.001,\n",
    "    early_stopping=True,\n",
    "    max_iter=1000,\n",
    "    random_state=42\n",
    ")\n",
    "\n",
    "# Pipeline\n",
    "pipeline_shallow = Pipeline([\n",
    "    ('smote', SMOTE(random_state=42)),\n",
    "    ('model', mlp_shallow)\n",
    "])\n",
    "\n",
    "# Train\n",
    "pipeline_shallow.fit(X_train, y_train)\n",
    "\n",
    "# Evaluate\n",
    "y_train_pred = pipeline_shallow.predict(X_train)\n",
    "y_test_pred = pipeline_shallow.predict(X_test)\n",
    "\n",
    "train_acc = accuracy_score(y_train, y_train_pred)\n",
    "test_acc = accuracy_score(y_test, y_test_pred)\n",
    "delta = train_acc - test_acc\n",
    "\n",
    "print(f\"✅ Shallow MLP Training Accuracy: {train_acc:.4f}\")\n",
    "print(f\"🧪 Shallow MLP Test Accuracy (80/20): {test_acc:.4f}\")\n",
    "print(f\"🔍 Delta (Train - Test): {delta:.4f}\")\n"
   ]
  },
  {
   "cell_type": "code",
   "execution_count": 356,
   "id": "53b77825",
   "metadata": {},
   "outputs": [
    {
     "name": "stdout",
     "output_type": "stream",
     "text": [
      "✅ Ridge-Style MLP Training Accuracy: 0.9702\n",
      "🧪 Ridge-Style MLP Test Accuracy (80/20): 0.9722\n",
      "🔍 Delta (Train - Test): -0.0020\n"
     ]
    }
   ],
   "source": [
    "from sklearn.neural_network import MLPClassifier\n",
    "from imblearn.pipeline import Pipeline\n",
    "from imblearn.over_sampling import SMOTE\n",
    "from sklearn.model_selection import train_test_split\n",
    "from sklearn.metrics import accuracy_score\n",
    "\n",
    "# 80/20 stratified split\n",
    "X_train, X_test, y_train, y_test = train_test_split(\n",
    "    X, y, test_size=0.2, stratify=y, random_state=42\n",
    ")\n",
    "\n",
    "# Small MLP with high regularization (ridge-style)\n",
    "mlp_small_ridge = MLPClassifier(\n",
    "    hidden_layer_sizes=(64, 32),     # Two small dense layers\n",
    "    activation='relu',\n",
    "    solver='adam',\n",
    "    alpha=0.1,                        # Strong L2 regularization\n",
    "    learning_rate_init=0.001,\n",
    "    early_stopping=True,\n",
    "    max_iter=1000,\n",
    "    random_state=42\n",
    ")\n",
    "\n",
    "# SMOTE + MLP pipeline\n",
    "pipeline_ridge = Pipeline([\n",
    "    ('smote', SMOTE(random_state=42)),\n",
    "    ('model', mlp_small_ridge)\n",
    "])\n",
    "\n",
    "# Train\n",
    "pipeline_ridge.fit(X_train, y_train)\n",
    "\n",
    "# Evaluate\n",
    "y_train_pred = pipeline_ridge.predict(X_train)\n",
    "y_test_pred = pipeline_ridge.predict(X_test)\n",
    "\n",
    "train_acc = accuracy_score(y_train, y_train_pred)\n",
    "test_acc = accuracy_score(y_test, y_test_pred)\n",
    "delta = train_acc - test_acc\n",
    "\n",
    "print(f\"✅ Ridge-Style MLP Training Accuracy: {train_acc:.4f}\")\n",
    "print(f\"🧪 Ridge-Style MLP Test Accuracy (80/20): {test_acc:.4f}\")\n",
    "print(f\"🔍 Delta (Train - Test): {delta:.4f}\")\n"
   ]
  },
  {
   "cell_type": "code",
   "execution_count": null,
   "id": "9f9669bf",
   "metadata": {},
   "outputs": [],
   "source": []
  },
  {
   "cell_type": "code",
   "execution_count": null,
   "id": "dff3bbfe",
   "metadata": {},
   "outputs": [],
   "source": []
  },
  {
   "cell_type": "code",
   "execution_count": 362,
   "id": "ed3ab9e3",
   "metadata": {},
   "outputs": [
    {
     "name": "stdout",
     "output_type": "stream",
     "text": [
      "✅ Model trained on full dataset\n",
      "🎯 Training Accuracy: 0.9740\n"
     ]
    }
   ],
   "source": [
    "import pandas as pd\n",
    "from sklearn.preprocessing import LabelEncoder\n",
    "from sklearn.metrics import accuracy_score\n",
    "from catboost import CatBoostClassifier\n",
    "from imblearn.pipeline import Pipeline\n",
    "from imblearn.over_sampling import SMOTE\n",
    "\n",
    "# --- Step 1: Encode categorical features in X ---\n",
    "label_encoders = {}\n",
    "for col in X.columns:\n",
    "    if X[col].dtype == \"object\":\n",
    "        le = LabelEncoder()\n",
    "        X[col] = le.fit_transform(X[col])\n",
    "        label_encoders[col] = le\n",
    "\n",
    "# --- Step 2: Encode target y ---\n",
    "if y.dtype == \"object\":\n",
    "    y_le = LabelEncoder()\n",
    "    y = y_le.fit_transform(y)\n",
    "else:\n",
    "    y_le = None\n",
    "\n",
    "# --- Step 3: Define CatBoost model ---\n",
    "cat_model = CatBoostClassifier(\n",
    "    iterations=200,\n",
    "    depth=5,\n",
    "    learning_rate=0.05,\n",
    "    l2_leaf_reg=5,\n",
    "    random_strength=3,\n",
    "    verbose=0,\n",
    "    random_state=42\n",
    ")\n",
    "\n",
    "# --- Step 4: Wrap with SMOTE ---\n",
    "pipeline = Pipeline([\n",
    "    ('smote', SMOTE(random_state=42)),\n",
    "    ('model', cat_model)\n",
    "])\n",
    "\n",
    "# --- Step 5: Train on full data ---\n",
    "pipeline.fit(X, y)\n",
    "\n",
    "# --- Step 6: Evaluate training accuracy ---\n",
    "y_pred_train = pipeline.predict(X)\n",
    "train_acc = accuracy_score(y, y_pred_train)\n",
    "\n",
    "print(\"✅ Model trained on full dataset\")\n",
    "print(f\"🎯 Training Accuracy: {train_acc:.4f}\")\n"
   ]
  },
  {
   "cell_type": "code",
   "execution_count": null,
   "id": "03307150",
   "metadata": {},
   "outputs": [],
   "source": []
  },
  {
   "cell_type": "code",
   "execution_count": null,
   "id": "4ca8ea66",
   "metadata": {},
   "outputs": [],
   "source": []
  },
  {
   "cell_type": "code",
   "execution_count": null,
   "id": "71ade33a",
   "metadata": {},
   "outputs": [],
   "source": []
  },
  {
   "cell_type": "code",
   "execution_count": null,
   "id": "1a1ee2a5",
   "metadata": {},
   "outputs": [],
   "source": []
  },
  {
   "cell_type": "code",
   "execution_count": null,
   "id": "142b989e",
   "metadata": {},
   "outputs": [],
   "source": []
  },
  {
   "cell_type": "code",
   "execution_count": 39,
   "id": "a025d3a6",
   "metadata": {},
   "outputs": [
    {
     "name": "stdout",
     "output_type": "stream",
     "text": [
      "1190\n"
     ]
    },
    {
     "data": {
      "text/html": [
       "<div>\n",
       "<style scoped>\n",
       "    .dataframe tbody tr th:only-of-type {\n",
       "        vertical-align: middle;\n",
       "    }\n",
       "\n",
       "    .dataframe tbody tr th {\n",
       "        vertical-align: top;\n",
       "    }\n",
       "\n",
       "    .dataframe thead th {\n",
       "        text-align: right;\n",
       "    }\n",
       "</style>\n",
       "<table border=\"1\" class=\"dataframe\">\n",
       "  <thead>\n",
       "    <tr style=\"text-align: right;\">\n",
       "      <th></th>\n",
       "      <th>count</th>\n",
       "      <th>mean</th>\n",
       "      <th>std</th>\n",
       "      <th>min</th>\n",
       "      <th>25%</th>\n",
       "      <th>50%</th>\n",
       "      <th>75%</th>\n",
       "      <th>max</th>\n",
       "    </tr>\n",
       "    <tr>\n",
       "      <th>Personality</th>\n",
       "      <th></th>\n",
       "      <th></th>\n",
       "      <th></th>\n",
       "      <th></th>\n",
       "      <th></th>\n",
       "      <th></th>\n",
       "      <th></th>\n",
       "      <th></th>\n",
       "    </tr>\n",
       "  </thead>\n",
       "  <tbody>\n",
       "    <tr>\n",
       "      <th>Extrovert</th>\n",
       "      <td>12790.0</td>\n",
       "      <td>1.747146</td>\n",
       "      <td>1.537609</td>\n",
       "      <td>0.0</td>\n",
       "      <td>1.0</td>\n",
       "      <td>2.0</td>\n",
       "      <td>3.0</td>\n",
       "      <td>11.0</td>\n",
       "    </tr>\n",
       "    <tr>\n",
       "      <th>Introvert</th>\n",
       "      <td>4544.0</td>\n",
       "      <td>7.051937</td>\n",
       "      <td>2.645865</td>\n",
       "      <td>0.0</td>\n",
       "      <td>5.0</td>\n",
       "      <td>7.0</td>\n",
       "      <td>9.0</td>\n",
       "      <td>11.0</td>\n",
       "    </tr>\n",
       "  </tbody>\n",
       "</table>\n",
       "</div>"
      ],
      "text/plain": [
       "               count      mean       std  min  25%  50%  75%   max\n",
       "Personality                                                       \n",
       "Extrovert    12790.0  1.747146  1.537609  0.0  1.0  2.0  3.0  11.0\n",
       "Introvert     4544.0  7.051937  2.645865  0.0  5.0  7.0  9.0  11.0"
      ]
     },
     "execution_count": 39,
     "metadata": {},
     "output_type": "execute_result"
    }
   ],
   "source": [
    "# Check null count\n",
    "print(train[\"Time_spent_Alone\"].isnull().sum())\n",
    "\n",
    "# Compare distribution across Personality types\n",
    "train.groupby(\"Personality\")[\"Time_spent_Alone\"].describe()\n"
   ]
  },
  {
   "cell_type": "code",
   "execution_count": 40,
   "id": "5c51dc1a",
   "metadata": {},
   "outputs": [
    {
     "data": {
      "image/png": "[encoded data removed]",
      "text/plain": [
       "<Figure size 640x480 with 1 Axes>"
      ]
     },
     "metadata": {},
     "output_type": "display_data"
    }
   ],
   "source": [
    "import seaborn as sns\n",
    "import matplotlib.pyplot as plt\n",
    "\n",
    "sns.histplot(data=train, x=\"Time_spent_Alone\", hue=\"Personality\", kde=True, bins=30)\n",
    "plt.title(\"Distribution of Time_spent_Alone by Personality\")\n",
    "plt.show()\n"
   ]
  },
  {
   "cell_type": "code",
   "execution_count": 41,
   "id": "cb79af48",
   "metadata": {},
   "outputs": [],
   "source": [
    "# Example imputation\n",
    "median_extrovert = train.loc[train['Personality'] == 'Extrovert', 'Time_spent_Alone'].median()\n",
    "median_introvert = train.loc[train['Personality'] == 'Introvert', 'Time_spent_Alone'].median()\n",
    "\n",
    "def impute_time_spent(row):\n",
    "    if pd.isnull(row['Time_spent_Alone']):\n",
    "        if row['Personality'] == 'Extrovert':\n",
    "            return median_extrovert\n",
    "        elif row['Personality'] == 'Introvert':\n",
    "            return median_introvert\n",
    "    return row['Time_spent_Alone']\n",
    "\n",
    "train['Time_spent_Alone'] = train.apply(impute_time_spent, axis=1)\n"
   ]
  },
  {
   "cell_type": "code",
   "execution_count": 42,
   "id": "fcf7be11",
   "metadata": {},
   "outputs": [
    {
     "data": {
      "text/html": [
       "<div>\n",
       "<style scoped>\n",
       "    .dataframe tbody tr th:only-of-type {\n",
       "        vertical-align: middle;\n",
       "    }\n",
       "\n",
       "    .dataframe tbody tr th {\n",
       "        vertical-align: top;\n",
       "    }\n",
       "\n",
       "    .dataframe thead th {\n",
       "        text-align: right;\n",
       "    }\n",
       "</style>\n",
       "<table border=\"1\" class=\"dataframe\">\n",
       "  <thead>\n",
       "    <tr style=\"text-align: right;\">\n",
       "      <th></th>\n",
       "      <th>count</th>\n",
       "      <th>mean</th>\n",
       "      <th>std</th>\n",
       "      <th>min</th>\n",
       "      <th>25%</th>\n",
       "      <th>50%</th>\n",
       "      <th>75%</th>\n",
       "      <th>max</th>\n",
       "    </tr>\n",
       "    <tr>\n",
       "      <th>Personality</th>\n",
       "      <th></th>\n",
       "      <th></th>\n",
       "      <th></th>\n",
       "      <th></th>\n",
       "      <th></th>\n",
       "      <th></th>\n",
       "      <th></th>\n",
       "      <th></th>\n",
       "    </tr>\n",
       "  </thead>\n",
       "  <tbody>\n",
       "    <tr>\n",
       "      <th>Extrovert</th>\n",
       "      <td>12922.0</td>\n",
       "      <td>6.113682</td>\n",
       "      <td>2.225713</td>\n",
       "      <td>0.0</td>\n",
       "      <td>4.0</td>\n",
       "      <td>6.0</td>\n",
       "      <td>8.0</td>\n",
       "      <td>10.0</td>\n",
       "    </tr>\n",
       "    <tr>\n",
       "      <th>Introvert</th>\n",
       "      <td>4338.0</td>\n",
       "      <td>1.611342</td>\n",
       "      <td>1.746218</td>\n",
       "      <td>0.0</td>\n",
       "      <td>0.0</td>\n",
       "      <td>1.0</td>\n",
       "      <td>2.0</td>\n",
       "      <td>10.0</td>\n",
       "    </tr>\n",
       "  </tbody>\n",
       "</table>\n",
       "</div>"
      ],
      "text/plain": [
       "               count      mean       std  min  25%  50%  75%   max\n",
       "Personality                                                       \n",
       "Extrovert    12922.0  6.113682  2.225713  0.0  4.0  6.0  8.0  10.0\n",
       "Introvert     4338.0  1.611342  1.746218  0.0  0.0  1.0  2.0  10.0"
      ]
     },
     "execution_count": 42,
     "metadata": {},
     "output_type": "execute_result"
    },
    {
     "data": {
      "image/png": "[encoded data removed]",
      "text/plain": [
       "<Figure size 640x480 with 1 Axes>"
      ]
     },
     "metadata": {},
     "output_type": "display_data"
    }
   ],
   "source": [
    "# Histogram + KDE by Personality\n",
    "sns.histplot(data=train, x='Post_frequency', hue='Personality', kde=True, element='step')\n",
    "\n",
    "# Summary\n",
    "train.groupby('Personality')['Post_frequency'].describe()\n"
   ]
  },
  {
   "cell_type": "code",
   "execution_count": 43,
   "id": "abfeb646",
   "metadata": {},
   "outputs": [],
   "source": [
    "def impute_post_freq(row):\n",
    "    if pd.isnull(row['Post_frequency']):\n",
    "        return 6.0 if row['Personality'] == 'Extrovert' else 1.0\n",
    "    return row['Post_frequency']\n",
    "\n",
    "train['Post_frequency'] = train.apply(impute_post_freq, axis=1)\n"
   ]
  },
  {
   "cell_type": "code",
   "execution_count": 44,
   "id": "def7f70c",
   "metadata": {},
   "outputs": [
    {
     "data": {
      "text/html": [
       "<div>\n",
       "<style scoped>\n",
       "    .dataframe tbody tr th:only-of-type {\n",
       "        vertical-align: middle;\n",
       "    }\n",
       "\n",
       "    .dataframe tbody tr th {\n",
       "        vertical-align: top;\n",
       "    }\n",
       "\n",
       "    .dataframe thead th {\n",
       "        text-align: right;\n",
       "    }\n",
       "</style>\n",
       "<table border=\"1\" class=\"dataframe\">\n",
       "  <thead>\n",
       "    <tr style=\"text-align: right;\">\n",
       "      <th></th>\n",
       "      <th>count</th>\n",
       "      <th>mean</th>\n",
       "      <th>std</th>\n",
       "      <th>min</th>\n",
       "      <th>25%</th>\n",
       "      <th>50%</th>\n",
       "      <th>75%</th>\n",
       "      <th>max</th>\n",
       "    </tr>\n",
       "    <tr>\n",
       "      <th>Personality</th>\n",
       "      <th></th>\n",
       "      <th></th>\n",
       "      <th></th>\n",
       "      <th></th>\n",
       "      <th></th>\n",
       "      <th></th>\n",
       "      <th></th>\n",
       "      <th></th>\n",
       "    </tr>\n",
       "  </thead>\n",
       "  <tbody>\n",
       "    <tr>\n",
       "      <th>Extrovert</th>\n",
       "      <td>12967.0</td>\n",
       "      <td>6.389450</td>\n",
       "      <td>2.020741</td>\n",
       "      <td>0.0</td>\n",
       "      <td>5.0</td>\n",
       "      <td>6.0</td>\n",
       "      <td>8.0</td>\n",
       "      <td>10.0</td>\n",
       "    </tr>\n",
       "    <tr>\n",
       "      <th>Introvert</th>\n",
       "      <td>4377.0</td>\n",
       "      <td>1.934202</td>\n",
       "      <td>1.761425</td>\n",
       "      <td>0.0</td>\n",
       "      <td>1.0</td>\n",
       "      <td>2.0</td>\n",
       "      <td>3.0</td>\n",
       "      <td>10.0</td>\n",
       "    </tr>\n",
       "  </tbody>\n",
       "</table>\n",
       "</div>"
      ],
      "text/plain": [
       "               count      mean       std  min  25%  50%  75%   max\n",
       "Personality                                                       \n",
       "Extrovert    12967.0  6.389450  2.020741  0.0  5.0  6.0  8.0  10.0\n",
       "Introvert     4377.0  1.934202  1.761425  0.0  1.0  2.0  3.0  10.0"
      ]
     },
     "execution_count": 44,
     "metadata": {},
     "output_type": "execute_result"
    },
    {
     "data": {
      "image/png": "[encoded data removed]",
      "text/plain": [
       "<Figure size 640x480 with 1 Axes>"
      ]
     },
     "metadata": {},
     "output_type": "display_data"
    }
   ],
   "source": [
    "# Histogram + KDE by Personality\n",
    "sns.histplot(data=train, x='Social_event_attendance', hue='Personality', kde=True, element='step')\n",
    "\n",
    "# Summary\n",
    "train.groupby('Personality')['Social_event_attendance'].describe()\n"
   ]
  },
  {
   "cell_type": "code",
   "execution_count": 46,
   "id": "0a32b536",
   "metadata": {},
   "outputs": [],
   "source": [
    "def impute_social_event_attendance(row):\n",
    "    if pd.isnull(row['Social_event_attendance']):\n",
    "        return 6.0 if row['Personality'] == 'Extrovert' else 2.0\n",
    "    return row['Social_event_attendance']\n",
    "\n",
    "train['Social_event_attendance'] = train.apply(impute_social_event_attendance, axis=1)\n"
   ]
  },
  {
   "cell_type": "code",
   "execution_count": 47,
   "id": "9ec04a5a",
   "metadata": {},
   "outputs": [],
   "source": [
    "def impute_friends_circle_size(row):\n",
    "    if pd.isnull(row['Friends_circle_size']):\n",
    "        return 10.0 if row['Personality'] == 'Extrovert' else 3.0\n",
    "    return row['Friends_circle_size']\n",
    "\n",
    "train['Friends_circle_size'] = train.apply(impute_friends_circle_size, axis=1)\n"
   ]
  },
  {
   "cell_type": "code",
   "execution_count": 48,
   "id": "d56a42c8",
   "metadata": {},
   "outputs": [
    {
     "data": {
      "text/html": [
       "<div>\n",
       "<style scoped>\n",
       "    .dataframe tbody tr th:only-of-type {\n",
       "        vertical-align: middle;\n",
       "    }\n",
       "\n",
       "    .dataframe tbody tr th {\n",
       "        vertical-align: top;\n",
       "    }\n",
       "\n",
       "    .dataframe thead th {\n",
       "        text-align: right;\n",
       "    }\n",
       "</style>\n",
       "<table border=\"1\" class=\"dataframe\">\n",
       "  <thead>\n",
       "    <tr style=\"text-align: right;\">\n",
       "      <th></th>\n",
       "      <th>count</th>\n",
       "      <th>mean</th>\n",
       "      <th>std</th>\n",
       "      <th>min</th>\n",
       "      <th>25%</th>\n",
       "      <th>50%</th>\n",
       "      <th>75%</th>\n",
       "      <th>max</th>\n",
       "    </tr>\n",
       "    <tr>\n",
       "      <th>Personality</th>\n",
       "      <th></th>\n",
       "      <th></th>\n",
       "      <th></th>\n",
       "      <th></th>\n",
       "      <th></th>\n",
       "      <th></th>\n",
       "      <th></th>\n",
       "      <th></th>\n",
       "    </tr>\n",
       "  </thead>\n",
       "  <tbody>\n",
       "    <tr>\n",
       "      <th>Extrovert</th>\n",
       "      <td>13699.0</td>\n",
       "      <td>9.64377</td>\n",
       "      <td>3.261643</td>\n",
       "      <td>0.0</td>\n",
       "      <td>7.0</td>\n",
       "      <td>10.0</td>\n",
       "      <td>12.0</td>\n",
       "      <td>15.0</td>\n",
       "    </tr>\n",
       "    <tr>\n",
       "      <th>Introvert</th>\n",
       "      <td>4825.0</td>\n",
       "      <td>3.24456</td>\n",
       "      <td>2.551599</td>\n",
       "      <td>0.0</td>\n",
       "      <td>2.0</td>\n",
       "      <td>3.0</td>\n",
       "      <td>4.0</td>\n",
       "      <td>15.0</td>\n",
       "    </tr>\n",
       "  </tbody>\n",
       "</table>\n",
       "</div>"
      ],
      "text/plain": [
       "               count     mean       std  min  25%   50%   75%   max\n",
       "Personality                                                        \n",
       "Extrovert    13699.0  9.64377  3.261643  0.0  7.0  10.0  12.0  15.0\n",
       "Introvert     4825.0  3.24456  2.551599  0.0  2.0   3.0   4.0  15.0"
      ]
     },
     "execution_count": 48,
     "metadata": {},
     "output_type": "execute_result"
    },
    {
     "data": {
      "image/png": "[encoded data removed]",
      "text/plain": [
       "<Figure size 640x480 with 1 Axes>"
      ]
     },
     "metadata": {},
     "output_type": "display_data"
    }
   ],
   "source": [
    "# Histogram + KDE by Personality\n",
    "sns.histplot(data=train, x='Friends_circle_size', hue='Personality', kde=True, element='step')\n",
    "\n",
    "# Summary\n",
    "train.groupby('Personality')['Friends_circle_size'].describe()\n"
   ]
  },
  {
   "cell_type": "code",
   "execution_count": 49,
   "id": "5b0b1c0d",
   "metadata": {},
   "outputs": [
    {
     "name": "stdout",
     "output_type": "stream",
     "text": [
      "Normalized Crosstab (%):\n",
      "\n",
      "Going_outside        0.0        1.0        2.0        3.0        4.0  \\\n",
      "Personality                                                            \n",
      "Extrovert       0.533878   0.392557   0.769412  18.308864  20.719165   \n",
      "Introvert      29.067346  25.109928  27.331636  11.339968   1.481139   \n",
      "\n",
      "Going_outside        5.0        6.0        7.0  \n",
      "Personality                                     \n",
      "Extrovert      22.203031  20.672058  16.401036  \n",
      "Introvert       2.198565   1.596853   1.874566  \n",
      "\n",
      "Raw Counts:\n",
      "\n",
      "Going_outside   0.0   1.0   2.0   3.0   4.0   5.0   6.0   7.0\n",
      "Personality                                                  \n",
      "Extrovert        68    50    98  2332  2639  2828  2633  2089\n",
      "Introvert      1256  1085  1181   490    64    95    69    81\n"
     ]
    },
    {
     "data": {
      "image/png": "[encoded data removed]",
      "text/plain": [
       "<Figure size 600x400 with 1 Axes>"
      ]
     },
     "metadata": {},
     "output_type": "display_data"
    }
   ],
   "source": [
    "import pandas as pd\n",
    "import seaborn as sns\n",
    "import matplotlib.pyplot as plt\n",
    "\n",
    "# 1. Crosstab: Percentage distribution\n",
    "print(\"Normalized Crosstab (%):\\n\")\n",
    "print(pd.crosstab(train['Personality'], train['Going_outside'], normalize='index') * 100)\n",
    "\n",
    "# 2. Crosstab: Raw counts\n",
    "print(\"\\nRaw Counts:\\n\")\n",
    "print(pd.crosstab(train['Personality'], train['Going_outside']))\n",
    "\n",
    "# 3. Countplot for visual analysis\n",
    "plt.figure(figsize=(6, 4))\n",
    "sns.countplot(data=train, x='Going_outside', hue='Personality')\n",
    "plt.title(\"Going Outside Distribution by Personality\")\n",
    "plt.ylabel(\"Count\")\n",
    "plt.xlabel(\"Going_outside\")\n",
    "plt.legend(title='Personality')\n",
    "plt.tight_layout()\n",
    "plt.show()\n"
   ]
  },
  {
   "cell_type": "code",
   "execution_count": 51,
   "id": "35438ee0",
   "metadata": {},
   "outputs": [],
   "source": [
    "# Optional alternative using mode\n",
    "def impute_going_outside_mode(row):\n",
    "    if pd.isnull(row['Going_outside']):\n",
    "        return 5 if row['Personality'] == 'Extrovert' else 2 \n",
    "    return row['Going_outside']\n",
    "train['Going_outside'] = train.apply(impute_going_outside_mode, axis=1)"
   ]
  },
  {
   "cell_type": "code",
   "execution_count": 52,
   "id": "f7a2650a",
   "metadata": {},
   "outputs": [
    {
     "name": "stdout",
     "output_type": "stream",
     "text": [
      "✅ All missing values have been handled. No nulls remain in the dataset.\n"
     ]
    }
   ],
   "source": [
    "# Check for any remaining null values in the dataset\n",
    "null_summary = train.isnull().sum()\n",
    "null_summary = null_summary[null_summary > 0]\n",
    "\n",
    "if null_summary.empty:\n",
    "    print(\"✅ All missing values have been handled. No nulls remain in the dataset.\")\n",
    "else:\n",
    "    print(\"⚠️ Nulls still present in the following columns:\")\n",
    "    print(null_summary)\n"
   ]
  },
  {
   "cell_type": "code",
   "execution_count": 53,
   "id": "457ad7a0",
   "metadata": {},
   "outputs": [],
   "source": [
    "train.to_csv(\"cleaned_train.csv\", index=False)"
   ]
  },
  {
   "cell_type": "code",
   "execution_count": 55,
   "id": "749278b3",
   "metadata": {},
   "outputs": [],
   "source": [
    "from sklearn.preprocessing import LabelEncoder\n",
    "\n",
    "label_encoder = LabelEncoder()\n",
    "train[\"Personality\"] = label_encoder.fit_transform(train[\"Personality\"])"
   ]
  },
  {
   "cell_type": "code",
   "execution_count": 57,
   "id": "56f3a298",
   "metadata": {},
   "outputs": [],
   "source": [
    "binary_cols = [\"Stage_fear\", \"Drained_after_socializing\"]\n",
    "for col in binary_cols:\n",
    "    train[col] = train[col].map({\"Yes\": 1, \"No\": 0})\n"
   ]
  },
  {
   "cell_type": "code",
   "execution_count": 27,
   "id": "da75a359",
   "metadata": {},
   "outputs": [],
   "source": [
    "binary_cols = [\"Stage_fear\", \"Drained_after_socializing\"]\n",
    "for col in binary_cols:\n",
    "    train[col] = train[col].map({\"Yes\": 1, \"No\": 0})\n"
   ]
  },
  {
   "cell_type": "code",
   "execution_count": 59,
   "id": "e64840f1",
   "metadata": {},
   "outputs": [],
   "source": [
    "X = train.drop(columns=[\"id\", \"Personality\"])\n",
    "y = train[\"Personality\"]\n"
   ]
  },
  {
   "cell_type": "code",
   "execution_count": 60,
   "id": "00e94223",
   "metadata": {},
   "outputs": [
    {
     "name": "stdout",
     "output_type": "stream",
     "text": [
      "Stage_fear                   0\n",
      "Drained_after_socializing    0\n",
      "dtype: int64\n"
     ]
    }
   ],
   "source": [
    "print(train[[\"Stage_fear\", \"Drained_after_socializing\"]].isnull().sum())\n"
   ]
  },
  {
   "cell_type": "code",
   "execution_count": 61,
   "id": "993a7a6d",
   "metadata": {},
   "outputs": [
    {
     "name": "stdout",
     "output_type": "stream",
     "text": [
      "Logistic Regression CV Accuracy Scores: [0.96977058 0.96977058 0.96761134 0.97246964 0.97192225]\n",
      "Logistic Regression Mean Accuracy: 0.97031\n"
     ]
    }
   ],
   "source": [
    "from sklearn.linear_model import LogisticRegression\n",
    "from sklearn.model_selection import cross_val_score\n",
    "from sklearn.metrics import accuracy_score\n",
    "from sklearn.model_selection import StratifiedKFold\n",
    "import numpy as np\n",
    "\n",
    "# Define features and labels\n",
    "X = train.drop(columns=[\"id\", \"Personality\"])\n",
    "y = train[\"Personality\"]\n",
    "\n",
    "# Initialize Logistic Regression\n",
    "lr_model = LogisticRegression(\n",
    "    random_state=42,\n",
    "    max_iter=1000,\n",
    "    class_weight='balanced'  # handle class imbalance\n",
    ")\n",
    "\n",
    "# Cross-validation setup\n",
    "cv = StratifiedKFold(n_splits=5, shuffle=True, random_state=42)\n",
    "lr_scores = cross_val_score(lr_model, X, y, cv=cv, scoring='accuracy')\n",
    "\n",
    "# Print results\n",
    "print(f\"Logistic Regression CV Accuracy Scores: {lr_scores}\")\n",
    "print(f\"Logistic Regression Mean Accuracy: {lr_scores.mean():.5f}\")\n"
   ]
  },
  {
   "cell_type": "code",
   "execution_count": 62,
   "id": "759f4e53",
   "metadata": {},
   "outputs": [
    {
     "name": "stdout",
     "output_type": "stream",
     "text": [
      "Random Forest CV Accuracy Scores: [0.96761 0.97031 0.9695  0.97301 0.97273]\n",
      "Random Forest Mean Accuracy: 0.97063\n"
     ]
    }
   ],
   "source": [
    "from sklearn.ensemble import RandomForestClassifier\n",
    "from sklearn.model_selection import StratifiedKFold, cross_val_score\n",
    "import numpy as np\n",
    "\n",
    "# ✅ 1. Define the model with class_weight='balanced'\n",
    "rf_model = RandomForestClassifier(\n",
    "    random_state=42,\n",
    "    class_weight='balanced',  # Handles class imbalance\n",
    "    n_estimators=100,\n",
    "    max_depth=None,\n",
    "    n_jobs=-1\n",
    ")\n",
    "\n",
    "# ✅ 2. Set up cross-validation\n",
    "cv = StratifiedKFold(n_splits=5, shuffle=True, random_state=42)\n",
    "\n",
    "# ✅ 3. Run cross-validation using accuracy\n",
    "rf_scores = cross_val_score(rf_model, X, y, cv=cv, scoring='accuracy')\n",
    "\n",
    "# ✅ 4. Print results\n",
    "print(\"Random Forest CV Accuracy Scores:\", np.round(rf_scores, 5))\n",
    "print(\"Random Forest Mean Accuracy:\", np.round(rf_scores.mean(), 5))\n"
   ]
  },
  {
   "cell_type": "code",
   "execution_count": 63,
   "id": "9184d12d",
   "metadata": {},
   "outputs": [
    {
     "name": "stderr",
     "output_type": "stream",
     "text": [
      "C:\\Users\\nchan\\AppData\\Roaming\\Python\\Python311\\site-packages\\xgboost\\training.py:183: UserWarning: [23:34:31] WARNING: C:\\actions-runner\\_work\\xgboost\\xgboost\\src\\learner.cc:738: \n",
      "Parameters: { \"use_label_encoder\" } are not used.\n",
      "\n",
      "  bst.update(dtrain, iteration=i, fobj=obj)\n",
      "C:\\Users\\nchan\\AppData\\Roaming\\Python\\Python311\\site-packages\\xgboost\\training.py:183: UserWarning: [23:34:32] WARNING: C:\\actions-runner\\_work\\xgboost\\xgboost\\src\\learner.cc:738: \n",
      "Parameters: { \"use_label_encoder\" } are not used.\n",
      "\n",
      "  bst.update(dtrain, iteration=i, fobj=obj)\n",
      "C:\\Users\\nchan\\AppData\\Roaming\\Python\\Python311\\site-packages\\xgboost\\training.py:183: UserWarning: [23:34:32] WARNING: C:\\actions-runner\\_work\\xgboost\\xgboost\\src\\learner.cc:738: \n",
      "Parameters: { \"use_label_encoder\" } are not used.\n",
      "\n",
      "  bst.update(dtrain, iteration=i, fobj=obj)\n",
      "C:\\Users\\nchan\\AppData\\Roaming\\Python\\Python311\\site-packages\\xgboost\\training.py:183: UserWarning: [23:34:33] WARNING: C:\\actions-runner\\_work\\xgboost\\xgboost\\src\\learner.cc:738: \n",
      "Parameters: { \"use_label_encoder\" } are not used.\n",
      "\n",
      "  bst.update(dtrain, iteration=i, fobj=obj)\n",
      "C:\\Users\\nchan\\AppData\\Roaming\\Python\\Python311\\site-packages\\xgboost\\training.py:183: UserWarning: [23:34:34] WARNING: C:\\actions-runner\\_work\\xgboost\\xgboost\\src\\learner.cc:738: \n",
      "Parameters: { \"use_label_encoder\" } are not used.\n",
      "\n",
      "  bst.update(dtrain, iteration=i, fobj=obj)\n"
     ]
    },
    {
     "name": "stdout",
     "output_type": "stream",
     "text": [
      "XGBoost CV Accuracy Scores: [0.96977058 0.97139001 0.9708502  0.97300945 0.97543197]\n",
      "XGBoost Mean Accuracy: 0.9720904416715488\n"
     ]
    }
   ],
   "source": [
    "import xgboost as xgb\n",
    "from sklearn.model_selection import cross_val_score, StratifiedKFold\n",
    "\n",
    "# 1. Define the model\n",
    "# Compute scale_pos_weight = (negative class) / (positive class)\n",
    "scale_pos_weight = (y == 0).sum() / (y == 1).sum()\n",
    "\n",
    "xgb_model = xgb.XGBClassifier(\n",
    "    objective='binary:logistic',\n",
    "    use_label_encoder=False,\n",
    "    eval_metric='logloss',\n",
    "    scale_pos_weight=scale_pos_weight,\n",
    "    random_state=42\n",
    ")\n",
    "\n",
    "# 2. Cross-validation\n",
    "cv = StratifiedKFold(n_splits=5, shuffle=True, random_state=42)\n",
    "xgb_scores = cross_val_score(xgb_model, X, y, cv=cv, scoring='accuracy')\n",
    "\n",
    "# 3. Print results\n",
    "print(\"XGBoost CV Accuracy Scores:\", xgb_scores)\n",
    "print(\"XGBoost Mean Accuracy:\", xgb_scores.mean())\n"
   ]
  },
  {
   "cell_type": "code",
   "execution_count": 64,
   "id": "70f92ce3",
   "metadata": {},
   "outputs": [
    {
     "name": "stdout",
     "output_type": "stream",
     "text": [
      "[LightGBM] [Info] Number of positive: 3860, number of negative: 10959\n",
      "[LightGBM] [Info] Auto-choosing row-wise multi-threading, the overhead of testing was 0.004862 seconds.\n",
      "You can set `force_row_wise=true` to remove the overhead.\n",
      "And if memory is not enough, you can set `force_col_wise=true`.\n",
      "[LightGBM] [Info] Total Bins 62\n",
      "[LightGBM] [Info] Number of data points in the train set: 14819, number of used features: 7\n",
      "[LightGBM] [Info] [binary:BoostFromScore]: pavg=0.260476 -> initscore=-1.043494\n",
      "[LightGBM] [Info] Start training from score -1.043494\n",
      "[LightGBM] [Info] Number of positive: 3860, number of negative: 10959\n",
      "[LightGBM] [Info] Auto-choosing row-wise multi-threading, the overhead of testing was 0.001509 seconds.\n",
      "You can set `force_row_wise=true` to remove the overhead.\n",
      "And if memory is not enough, you can set `force_col_wise=true`.\n",
      "[LightGBM] [Info] Total Bins 62\n",
      "[LightGBM] [Info] Number of data points in the train set: 14819, number of used features: 7\n",
      "[LightGBM] [Info] [binary:BoostFromScore]: pavg=0.260476 -> initscore=-1.043494\n",
      "[LightGBM] [Info] Start training from score -1.043494\n",
      "[LightGBM] [Info] Number of positive: 3860, number of negative: 10959\n",
      "[LightGBM] [Info] Auto-choosing row-wise multi-threading, the overhead of testing was 0.001595 seconds.\n",
      "You can set `force_row_wise=true` to remove the overhead.\n",
      "And if memory is not enough, you can set `force_col_wise=true`.\n",
      "[LightGBM] [Info] Total Bins 62\n",
      "[LightGBM] [Info] Number of data points in the train set: 14819, number of used features: 7\n",
      "[LightGBM] [Info] [binary:BoostFromScore]: pavg=0.260476 -> initscore=-1.043494\n",
      "[LightGBM] [Info] Start training from score -1.043494\n",
      "[LightGBM] [Info] Number of positive: 3860, number of negative: 10959\n",
      "[LightGBM] [Info] Auto-choosing row-wise multi-threading, the overhead of testing was 0.001290 seconds.\n",
      "You can set `force_row_wise=true` to remove the overhead.\n",
      "And if memory is not enough, you can set `force_col_wise=true`.\n",
      "[LightGBM] [Info] Total Bins 62\n",
      "[LightGBM] [Info] Number of data points in the train set: 14819, number of used features: 7\n",
      "[LightGBM] [Info] [binary:BoostFromScore]: pavg=0.260476 -> initscore=-1.043494\n",
      "[LightGBM] [Info] Start training from score -1.043494\n",
      "[LightGBM] [Info] Number of positive: 3860, number of negative: 10960\n",
      "[LightGBM] [Info] Auto-choosing row-wise multi-threading, the overhead of testing was 0.002023 seconds.\n",
      "You can set `force_row_wise=true` to remove the overhead.\n",
      "And if memory is not enough, you can set `force_col_wise=true`.\n",
      "[LightGBM] [Info] Total Bins 62\n",
      "[LightGBM] [Info] Number of data points in the train set: 14820, number of used features: 7\n",
      "[LightGBM] [Info] [binary:BoostFromScore]: pavg=0.260459 -> initscore=-1.043585\n",
      "[LightGBM] [Info] Start training from score -1.043585\n",
      "LightGBM CV Accuracy Scores: [0.9705803  0.97300945 0.96950067 0.97489879 0.97543197]\n",
      "LightGBM Mean Accuracy: 0.9726842338442884\n"
     ]
    }
   ],
   "source": [
    "import lightgbm as lgb\n",
    "from sklearn.model_selection import cross_val_score, StratifiedKFold\n",
    "\n",
    "# Define model with class imbalance handling\n",
    "lgb_model = lgb.LGBMClassifier(\n",
    "    is_unbalance=True,\n",
    "    random_state=42,\n",
    "    n_estimators=100,\n",
    "    learning_rate=0.05,\n",
    "    num_leaves=31,\n",
    "    max_depth=-1,\n",
    "    n_jobs=-1\n",
    ")\n",
    "\n",
    "# 5-fold stratified CV\n",
    "cv = StratifiedKFold(n_splits=5, shuffle=True, random_state=42)\n",
    "lgb_scores = cross_val_score(lgb_model, X, y, cv=cv, scoring='accuracy')\n",
    "\n",
    "# Print results\n",
    "print(\"LightGBM CV Accuracy Scores:\", lgb_scores)\n",
    "print(\"LightGBM Mean Accuracy:\", lgb_scores.mean())\n"
   ]
  },
  {
   "cell_type": "code",
   "execution_count": 65,
   "id": "156cb149",
   "metadata": {},
   "outputs": [
    {
     "name": "stdout",
     "output_type": "stream",
     "text": [
      "SVM CV Accuracy Scores: [0.96896086 0.96680162 0.96545209 0.9705803  0.97138229]\n",
      "SVM Mean Accuracy: 0.9686354322423437\n"
     ]
    }
   ],
   "source": [
    "from sklearn.svm import SVC\n",
    "from sklearn.model_selection import cross_val_score, StratifiedKFold\n",
    "\n",
    "# Model\n",
    "svm_model = SVC(kernel='rbf', class_weight='balanced', random_state=42)\n",
    "\n",
    "# Cross-validation\n",
    "cv = StratifiedKFold(n_splits=5, shuffle=True, random_state=42)\n",
    "svm_scores = cross_val_score(svm_model, X, y, cv=cv, scoring='accuracy')\n",
    "\n",
    "# Output\n",
    "print(\"SVM CV Accuracy Scores:\", svm_scores)\n",
    "print(\"SVM Mean Accuracy:\", svm_scores.mean())\n"
   ]
  },
  {
   "cell_type": "code",
   "execution_count": 68,
   "id": "4a44a4a4",
   "metadata": {},
   "outputs": [
    {
     "name": "stdout",
     "output_type": "stream",
     "text": [
      "CatBoost CV Accuracy Scores: [0.97004049 0.97381916 0.97165992 0.97489879 0.97597192]\n",
      "CatBoost Mean Accuracy: 0.9732780551644936\n"
     ]
    }
   ],
   "source": [
    "from catboost import CatBoostClassifier\n",
    "\n",
    "# Model\n",
    "cat_model = CatBoostClassifier(verbose=0, random_state=42, class_weights=[1, 3.0])\n",
    "\n",
    "# Cross-validation\n",
    "cat_scores = cross_val_score(cat_model, X, y, cv=cv, scoring='accuracy')\n",
    "\n",
    "# Output\n",
    "print(\"CatBoost CV Accuracy Scores:\", cat_scores)\n",
    "print(\"CatBoost Mean Accuracy:\", cat_scores.mean())\n"
   ]
  },
  {
   "cell_type": "code",
   "execution_count": 70,
   "id": "1e8095d5",
   "metadata": {},
   "outputs": [],
   "source": [
    "from sklearn.linear_model import LogisticRegression\n",
    "from sklearn.ensemble import RandomForestClassifier, VotingClassifier\n",
    "from xgboost import XGBClassifier\n",
    "from lightgbm import LGBMClassifier\n",
    "from sklearn.model_selection import cross_val_score, StratifiedKFold\n"
   ]
  },
  {
   "cell_type": "code",
   "execution_count": 71,
   "id": "57ca1a7c",
   "metadata": {},
   "outputs": [
    {
     "name": "stderr",
     "output_type": "stream",
     "text": [
      "C:\\Users\\nchan\\AppData\\Roaming\\Python\\Python311\\site-packages\\xgboost\\training.py:183: UserWarning: [23:58:48] WARNING: C:\\actions-runner\\_work\\xgboost\\xgboost\\src\\learner.cc:738: \n",
      "Parameters: { \"use_label_encoder\" } are not used.\n",
      "\n",
      "  bst.update(dtrain, iteration=i, fobj=obj)\n"
     ]
    },
    {
     "name": "stdout",
     "output_type": "stream",
     "text": [
      "[LightGBM] [Info] Number of positive: 3860, number of negative: 10959\n",
      "[LightGBM] [Info] Auto-choosing row-wise multi-threading, the overhead of testing was 0.001290 seconds.\n",
      "You can set `force_row_wise=true` to remove the overhead.\n",
      "And if memory is not enough, you can set `force_col_wise=true`.\n",
      "[LightGBM] [Info] Total Bins 62\n",
      "[LightGBM] [Info] Number of data points in the train set: 14819, number of used features: 7\n",
      "[LightGBM] [Info] [binary:BoostFromScore]: pavg=0.500000 -> initscore=-0.000000\n",
      "[LightGBM] [Info] Start training from score -0.000000\n"
     ]
    },
    {
     "name": "stderr",
     "output_type": "stream",
     "text": [
      "C:\\Users\\nchan\\AppData\\Roaming\\Python\\Python311\\site-packages\\xgboost\\training.py:183: UserWarning: [23:58:53] WARNING: C:\\actions-runner\\_work\\xgboost\\xgboost\\src\\learner.cc:738: \n",
      "Parameters: { \"use_label_encoder\" } are not used.\n",
      "\n",
      "  bst.update(dtrain, iteration=i, fobj=obj)\n"
     ]
    },
    {
     "name": "stdout",
     "output_type": "stream",
     "text": [
      "[LightGBM] [Info] Number of positive: 3860, number of negative: 10959\n",
      "[LightGBM] [Info] Auto-choosing row-wise multi-threading, the overhead of testing was 0.001426 seconds.\n",
      "You can set `force_row_wise=true` to remove the overhead.\n",
      "And if memory is not enough, you can set `force_col_wise=true`.\n",
      "[LightGBM] [Info] Total Bins 62\n",
      "[LightGBM] [Info] Number of data points in the train set: 14819, number of used features: 7\n",
      "[LightGBM] [Info] [binary:BoostFromScore]: pavg=0.500000 -> initscore=-0.000000\n",
      "[LightGBM] [Info] Start training from score -0.000000\n"
     ]
    },
    {
     "name": "stderr",
     "output_type": "stream",
     "text": [
      "C:\\Users\\nchan\\AppData\\Roaming\\Python\\Python311\\site-packages\\xgboost\\training.py:183: UserWarning: [23:58:57] WARNING: C:\\actions-runner\\_work\\xgboost\\xgboost\\src\\learner.cc:738: \n",
      "Parameters: { \"use_label_encoder\" } are not used.\n",
      "\n",
      "  bst.update(dtrain, iteration=i, fobj=obj)\n"
     ]
    },
    {
     "name": "stdout",
     "output_type": "stream",
     "text": [
      "[LightGBM] [Info] Number of positive: 3860, number of negative: 10959\n",
      "[LightGBM] [Info] Auto-choosing row-wise multi-threading, the overhead of testing was 0.001805 seconds.\n",
      "You can set `force_row_wise=true` to remove the overhead.\n",
      "And if memory is not enough, you can set `force_col_wise=true`.\n",
      "[LightGBM] [Info] Total Bins 62\n",
      "[LightGBM] [Info] Number of data points in the train set: 14819, number of used features: 7\n",
      "[LightGBM] [Info] [binary:BoostFromScore]: pavg=0.500000 -> initscore=-0.000000\n",
      "[LightGBM] [Info] Start training from score -0.000000\n"
     ]
    },
    {
     "name": "stderr",
     "output_type": "stream",
     "text": [
      "C:\\Users\\nchan\\AppData\\Roaming\\Python\\Python311\\site-packages\\xgboost\\training.py:183: UserWarning: [23:59:02] WARNING: C:\\actions-runner\\_work\\xgboost\\xgboost\\src\\learner.cc:738: \n",
      "Parameters: { \"use_label_encoder\" } are not used.\n",
      "\n",
      "  bst.update(dtrain, iteration=i, fobj=obj)\n"
     ]
    },
    {
     "name": "stdout",
     "output_type": "stream",
     "text": [
      "[LightGBM] [Info] Number of positive: 3860, number of negative: 10959\n",
      "[LightGBM] [Info] Auto-choosing row-wise multi-threading, the overhead of testing was 0.001086 seconds.\n",
      "You can set `force_row_wise=true` to remove the overhead.\n",
      "And if memory is not enough, you can set `force_col_wise=true`.\n",
      "[LightGBM] [Info] Total Bins 62\n",
      "[LightGBM] [Info] Number of data points in the train set: 14819, number of used features: 7\n",
      "[LightGBM] [Info] [binary:BoostFromScore]: pavg=0.500000 -> initscore=-0.000000\n",
      "[LightGBM] [Info] Start training from score -0.000000\n"
     ]
    },
    {
     "name": "stderr",
     "output_type": "stream",
     "text": [
      "C:\\Users\\nchan\\AppData\\Roaming\\Python\\Python311\\site-packages\\xgboost\\training.py:183: UserWarning: [23:59:06] WARNING: C:\\actions-runner\\_work\\xgboost\\xgboost\\src\\learner.cc:738: \n",
      "Parameters: { \"use_label_encoder\" } are not used.\n",
      "\n",
      "  bst.update(dtrain, iteration=i, fobj=obj)\n"
     ]
    },
    {
     "name": "stdout",
     "output_type": "stream",
     "text": [
      "[LightGBM] [Info] Number of positive: 3860, number of negative: 10960\n",
      "[LightGBM] [Info] Auto-choosing row-wise multi-threading, the overhead of testing was 0.003280 seconds.\n",
      "You can set `force_row_wise=true` to remove the overhead.\n",
      "And if memory is not enough, you can set `force_col_wise=true`.\n",
      "[LightGBM] [Info] Total Bins 62\n",
      "[LightGBM] [Info] Number of data points in the train set: 14820, number of used features: 7\n",
      "[LightGBM] [Info] [binary:BoostFromScore]: pavg=0.500000 -> initscore=0.000000\n",
      "[LightGBM] [Info] Start training from score 0.000000\n",
      "VotingClassifier CV Accuracy Scores: [0.97004049 0.97354926 0.97300945 0.97516869 0.97651188]\n",
      "VotingClassifier Mean Accuracy: 0.9736559520582482\n"
     ]
    }
   ],
   "source": [
    "# Cross-validation setup\n",
    "cv = StratifiedKFold(n_splits=5, shuffle=True, random_state=42)\n",
    "\n",
    "# Voting Classifier\n",
    "voting_model = VotingClassifier(estimators=[\n",
    "    ('lr', LogisticRegression(class_weight='balanced', max_iter=1000, random_state=42)),\n",
    "    ('rf', RandomForestClassifier(class_weight='balanced', random_state=42)),\n",
    "    ('xgb', XGBClassifier(use_label_encoder=False, eval_metric='logloss', scale_pos_weight=3.0, random_state=42)),\n",
    "    ('lgbm', LGBMClassifier(class_weight='balanced', random_state=42))\n",
    "], voting='soft')\n",
    "\n",
    "# Evaluate\n",
    "voting_scores = cross_val_score(voting_model, X, y, cv=cv, scoring='accuracy')\n",
    "print(\"VotingClassifier CV Accuracy Scores:\", voting_scores)\n",
    "print(\"VotingClassifier Mean Accuracy:\", voting_scores.mean())\n"
   ]
  },
  {
   "cell_type": "code",
   "execution_count": 72,
   "id": "f33f0f56",
   "metadata": {},
   "outputs": [
    {
     "name": "stderr",
     "output_type": "stream",
     "text": [
      "C:\\Users\\nchan\\AppData\\Roaming\\Python\\Python311\\site-packages\\xgboost\\training.py:183: UserWarning: [00:02:14] WARNING: C:\\actions-runner\\_work\\xgboost\\xgboost\\src\\learner.cc:738: \n",
      "Parameters: { \"use_label_encoder\" } are not used.\n",
      "\n",
      "  bst.update(dtrain, iteration=i, fobj=obj)\n"
     ]
    },
    {
     "name": "stdout",
     "output_type": "stream",
     "text": [
      "[LightGBM] [Info] Number of positive: 3860, number of negative: 10959\n",
      "[LightGBM] [Info] Auto-choosing row-wise multi-threading, the overhead of testing was 0.001219 seconds.\n",
      "You can set `force_row_wise=true` to remove the overhead.\n",
      "And if memory is not enough, you can set `force_col_wise=true`.\n",
      "[LightGBM] [Info] Total Bins 62\n",
      "[LightGBM] [Info] Number of data points in the train set: 14819, number of used features: 7\n",
      "[LightGBM] [Info] [binary:BoostFromScore]: pavg=0.500000 -> initscore=-0.000000\n",
      "[LightGBM] [Info] Start training from score -0.000000\n"
     ]
    },
    {
     "name": "stderr",
     "output_type": "stream",
     "text": [
      "C:\\Users\\nchan\\AppData\\Roaming\\Python\\Python311\\site-packages\\xgboost\\training.py:183: UserWarning: [00:02:25] WARNING: C:\\actions-runner\\_work\\xgboost\\xgboost\\src\\learner.cc:738: \n",
      "Parameters: { \"use_label_encoder\" } are not used.\n",
      "\n",
      "  bst.update(dtrain, iteration=i, fobj=obj)\n",
      "C:\\Users\\nchan\\AppData\\Roaming\\Python\\Python311\\site-packages\\xgboost\\training.py:183: UserWarning: [00:02:26] WARNING: C:\\actions-runner\\_work\\xgboost\\xgboost\\src\\learner.cc:738: \n",
      "Parameters: { \"use_label_encoder\" } are not used.\n",
      "\n",
      "  bst.update(dtrain, iteration=i, fobj=obj)\n",
      "C:\\Users\\nchan\\AppData\\Roaming\\Python\\Python311\\site-packages\\xgboost\\training.py:183: UserWarning: [00:02:26] WARNING: C:\\actions-runner\\_work\\xgboost\\xgboost\\src\\learner.cc:738: \n",
      "Parameters: { \"use_label_encoder\" } are not used.\n",
      "\n",
      "  bst.update(dtrain, iteration=i, fobj=obj)\n",
      "C:\\Users\\nchan\\AppData\\Roaming\\Python\\Python311\\site-packages\\xgboost\\training.py:183: UserWarning: [00:02:27] WARNING: C:\\actions-runner\\_work\\xgboost\\xgboost\\src\\learner.cc:738: \n",
      "Parameters: { \"use_label_encoder\" } are not used.\n",
      "\n",
      "  bst.update(dtrain, iteration=i, fobj=obj)\n",
      "C:\\Users\\nchan\\AppData\\Roaming\\Python\\Python311\\site-packages\\xgboost\\training.py:183: UserWarning: [00:02:28] WARNING: C:\\actions-runner\\_work\\xgboost\\xgboost\\src\\learner.cc:738: \n",
      "Parameters: { \"use_label_encoder\" } are not used.\n",
      "\n",
      "  bst.update(dtrain, iteration=i, fobj=obj)\n"
     ]
    },
    {
     "name": "stdout",
     "output_type": "stream",
     "text": [
      "[LightGBM] [Info] Number of positive: 3088, number of negative: 8767\n",
      "[LightGBM] [Info] Auto-choosing row-wise multi-threading, the overhead of testing was 0.001603 seconds.\n",
      "You can set `force_row_wise=true` to remove the overhead.\n",
      "And if memory is not enough, you can set `force_col_wise=true`.\n",
      "[LightGBM] [Info] Total Bins 62\n",
      "[LightGBM] [Info] Number of data points in the train set: 11855, number of used features: 7\n",
      "[LightGBM] [Info] [binary:BoostFromScore]: pavg=0.500000 -> initscore=-0.000000\n",
      "[LightGBM] [Info] Start training from score -0.000000\n",
      "[LightGBM] [Info] Number of positive: 3088, number of negative: 8767\n",
      "[LightGBM] [Info] Auto-choosing row-wise multi-threading, the overhead of testing was 0.001978 seconds.\n",
      "You can set `force_row_wise=true` to remove the overhead.\n",
      "And if memory is not enough, you can set `force_col_wise=true`.\n",
      "[LightGBM] [Info] Total Bins 62\n",
      "[LightGBM] [Info] Number of data points in the train set: 11855, number of used features: 7\n",
      "[LightGBM] [Info] [binary:BoostFromScore]: pavg=0.500000 -> initscore=-0.000000\n",
      "[LightGBM] [Info] Start training from score -0.000000\n",
      "[LightGBM] [Info] Number of positive: 3088, number of negative: 8767\n",
      "[LightGBM] [Info] Auto-choosing col-wise multi-threading, the overhead of testing was 0.002933 seconds.\n",
      "You can set `force_col_wise=true` to remove the overhead.\n",
      "[LightGBM] [Info] Total Bins 62\n",
      "[LightGBM] [Info] Number of data points in the train set: 11855, number of used features: 7\n",
      "[LightGBM] [Info] [binary:BoostFromScore]: pavg=0.500000 -> initscore=-0.000000\n",
      "[LightGBM] [Info] Start training from score -0.000000\n",
      "[LightGBM] [Info] Number of positive: 3088, number of negative: 8767\n",
      "[LightGBM] [Info] Auto-choosing row-wise multi-threading, the overhead of testing was 0.001592 seconds.\n",
      "You can set `force_row_wise=true` to remove the overhead.\n",
      "And if memory is not enough, you can set `force_col_wise=true`.\n",
      "[LightGBM] [Info] Total Bins 62\n",
      "[LightGBM] [Info] Number of data points in the train set: 11855, number of used features: 7\n",
      "[LightGBM] [Info] [binary:BoostFromScore]: pavg=0.500000 -> initscore=-0.000000\n",
      "[LightGBM] [Info] Start training from score -0.000000\n",
      "[LightGBM] [Info] Number of positive: 3088, number of negative: 8768\n",
      "[LightGBM] [Info] Auto-choosing row-wise multi-threading, the overhead of testing was 0.005678 seconds.\n",
      "You can set `force_row_wise=true` to remove the overhead.\n",
      "And if memory is not enough, you can set `force_col_wise=true`.\n",
      "[LightGBM] [Info] Total Bins 62\n",
      "[LightGBM] [Info] Number of data points in the train set: 11856, number of used features: 7\n",
      "[LightGBM] [Info] [binary:BoostFromScore]: pavg=0.500000 -> initscore=0.000000\n",
      "[LightGBM] [Info] Start training from score 0.000000\n"
     ]
    },
    {
     "name": "stderr",
     "output_type": "stream",
     "text": [
      "C:\\Users\\nchan\\AppData\\Roaming\\Python\\Python311\\site-packages\\xgboost\\training.py:183: UserWarning: [00:02:37] WARNING: C:\\actions-runner\\_work\\xgboost\\xgboost\\src\\learner.cc:738: \n",
      "Parameters: { \"use_label_encoder\" } are not used.\n",
      "\n",
      "  bst.update(dtrain, iteration=i, fobj=obj)\n"
     ]
    },
    {
     "name": "stdout",
     "output_type": "stream",
     "text": [
      "[LightGBM] [Info] Number of positive: 3860, number of negative: 10959\n",
      "[LightGBM] [Info] Auto-choosing row-wise multi-threading, the overhead of testing was 0.001767 seconds.\n",
      "You can set `force_row_wise=true` to remove the overhead.\n",
      "And if memory is not enough, you can set `force_col_wise=true`.\n",
      "[LightGBM] [Info] Total Bins 62\n",
      "[LightGBM] [Info] Number of data points in the train set: 14819, number of used features: 7\n",
      "[LightGBM] [Info] [binary:BoostFromScore]: pavg=0.500000 -> initscore=-0.000000\n",
      "[LightGBM] [Info] Start training from score -0.000000\n"
     ]
    },
    {
     "name": "stderr",
     "output_type": "stream",
     "text": [
      "C:\\Users\\nchan\\AppData\\Roaming\\Python\\Python311\\site-packages\\xgboost\\training.py:183: UserWarning: [00:02:48] WARNING: C:\\actions-runner\\_work\\xgboost\\xgboost\\src\\learner.cc:738: \n",
      "Parameters: { \"use_label_encoder\" } are not used.\n",
      "\n",
      "  bst.update(dtrain, iteration=i, fobj=obj)\n",
      "C:\\Users\\nchan\\AppData\\Roaming\\Python\\Python311\\site-packages\\xgboost\\training.py:183: UserWarning: [00:02:49] WARNING: C:\\actions-runner\\_work\\xgboost\\xgboost\\src\\learner.cc:738: \n",
      "Parameters: { \"use_label_encoder\" } are not used.\n",
      "\n",
      "  bst.update(dtrain, iteration=i, fobj=obj)\n",
      "C:\\Users\\nchan\\AppData\\Roaming\\Python\\Python311\\site-packages\\xgboost\\training.py:183: UserWarning: [00:02:49] WARNING: C:\\actions-runner\\_work\\xgboost\\xgboost\\src\\learner.cc:738: \n",
      "Parameters: { \"use_label_encoder\" } are not used.\n",
      "\n",
      "  bst.update(dtrain, iteration=i, fobj=obj)\n",
      "C:\\Users\\nchan\\AppData\\Roaming\\Python\\Python311\\site-packages\\xgboost\\training.py:183: UserWarning: [00:02:50] WARNING: C:\\actions-runner\\_work\\xgboost\\xgboost\\src\\learner.cc:738: \n",
      "Parameters: { \"use_label_encoder\" } are not used.\n",
      "\n",
      "  bst.update(dtrain, iteration=i, fobj=obj)\n",
      "C:\\Users\\nchan\\AppData\\Roaming\\Python\\Python311\\site-packages\\xgboost\\training.py:183: UserWarning: [00:02:51] WARNING: C:\\actions-runner\\_work\\xgboost\\xgboost\\src\\learner.cc:738: \n",
      "Parameters: { \"use_label_encoder\" } are not used.\n",
      "\n",
      "  bst.update(dtrain, iteration=i, fobj=obj)\n"
     ]
    },
    {
     "name": "stdout",
     "output_type": "stream",
     "text": [
      "[LightGBM] [Info] Number of positive: 3088, number of negative: 8767\n",
      "[LightGBM] [Info] Auto-choosing row-wise multi-threading, the overhead of testing was 0.001074 seconds.\n",
      "You can set `force_row_wise=true` to remove the overhead.\n",
      "And if memory is not enough, you can set `force_col_wise=true`.\n",
      "[LightGBM] [Info] Total Bins 62\n",
      "[LightGBM] [Info] Number of data points in the train set: 11855, number of used features: 7\n",
      "[LightGBM] [Info] [binary:BoostFromScore]: pavg=0.500000 -> initscore=-0.000000\n",
      "[LightGBM] [Info] Start training from score -0.000000\n",
      "[LightGBM] [Info] Number of positive: 3088, number of negative: 8767\n",
      "[LightGBM] [Info] Auto-choosing row-wise multi-threading, the overhead of testing was 0.001983 seconds.\n",
      "You can set `force_row_wise=true` to remove the overhead.\n",
      "And if memory is not enough, you can set `force_col_wise=true`.\n",
      "[LightGBM] [Info] Total Bins 62\n",
      "[LightGBM] [Info] Number of data points in the train set: 11855, number of used features: 7\n",
      "[LightGBM] [Info] [binary:BoostFromScore]: pavg=0.500000 -> initscore=-0.000000\n",
      "[LightGBM] [Info] Start training from score -0.000000\n",
      "[LightGBM] [Info] Number of positive: 3088, number of negative: 8767\n",
      "[LightGBM] [Info] Auto-choosing row-wise multi-threading, the overhead of testing was 0.000993 seconds.\n",
      "You can set `force_row_wise=true` to remove the overhead.\n",
      "And if memory is not enough, you can set `force_col_wise=true`.\n",
      "[LightGBM] [Info] Total Bins 62\n",
      "[LightGBM] [Info] Number of data points in the train set: 11855, number of used features: 7\n",
      "[LightGBM] [Info] [binary:BoostFromScore]: pavg=0.500000 -> initscore=-0.000000\n",
      "[LightGBM] [Info] Start training from score -0.000000\n",
      "[LightGBM] [Info] Number of positive: 3088, number of negative: 8767\n",
      "[LightGBM] [Info] Auto-choosing row-wise multi-threading, the overhead of testing was 0.001691 seconds.\n",
      "You can set `force_row_wise=true` to remove the overhead.\n",
      "And if memory is not enough, you can set `force_col_wise=true`.\n",
      "[LightGBM] [Info] Total Bins 62\n",
      "[LightGBM] [Info] Number of data points in the train set: 11855, number of used features: 7\n",
      "[LightGBM] [Info] [binary:BoostFromScore]: pavg=0.500000 -> initscore=-0.000000\n",
      "[LightGBM] [Info] Start training from score -0.000000\n",
      "[LightGBM] [Info] Number of positive: 3088, number of negative: 8768\n",
      "[LightGBM] [Info] Auto-choosing row-wise multi-threading, the overhead of testing was 0.000791 seconds.\n",
      "You can set `force_row_wise=true` to remove the overhead.\n",
      "And if memory is not enough, you can set `force_col_wise=true`.\n",
      "[LightGBM] [Info] Total Bins 62\n",
      "[LightGBM] [Info] Number of data points in the train set: 11856, number of used features: 7\n",
      "[LightGBM] [Info] [binary:BoostFromScore]: pavg=0.500000 -> initscore=0.000000\n",
      "[LightGBM] [Info] Start training from score 0.000000\n"
     ]
    },
    {
     "name": "stderr",
     "output_type": "stream",
     "text": [
      "C:\\Users\\nchan\\AppData\\Roaming\\Python\\Python311\\site-packages\\xgboost\\training.py:183: UserWarning: [00:03:00] WARNING: C:\\actions-runner\\_work\\xgboost\\xgboost\\src\\learner.cc:738: \n",
      "Parameters: { \"use_label_encoder\" } are not used.\n",
      "\n",
      "  bst.update(dtrain, iteration=i, fobj=obj)\n"
     ]
    },
    {
     "name": "stdout",
     "output_type": "stream",
     "text": [
      "[LightGBM] [Info] Number of positive: 3860, number of negative: 10959\n",
      "[LightGBM] [Info] Auto-choosing row-wise multi-threading, the overhead of testing was 0.002066 seconds.\n",
      "You can set `force_row_wise=true` to remove the overhead.\n",
      "And if memory is not enough, you can set `force_col_wise=true`.\n",
      "[LightGBM] [Info] Total Bins 62\n",
      "[LightGBM] [Info] Number of data points in the train set: 14819, number of used features: 7\n",
      "[LightGBM] [Info] [binary:BoostFromScore]: pavg=0.500000 -> initscore=-0.000000\n",
      "[LightGBM] [Info] Start training from score -0.000000\n"
     ]
    },
    {
     "name": "stderr",
     "output_type": "stream",
     "text": [
      "C:\\Users\\nchan\\AppData\\Roaming\\Python\\Python311\\site-packages\\xgboost\\training.py:183: UserWarning: [00:03:11] WARNING: C:\\actions-runner\\_work\\xgboost\\xgboost\\src\\learner.cc:738: \n",
      "Parameters: { \"use_label_encoder\" } are not used.\n",
      "\n",
      "  bst.update(dtrain, iteration=i, fobj=obj)\n",
      "C:\\Users\\nchan\\AppData\\Roaming\\Python\\Python311\\site-packages\\xgboost\\training.py:183: UserWarning: [00:03:12] WARNING: C:\\actions-runner\\_work\\xgboost\\xgboost\\src\\learner.cc:738: \n",
      "Parameters: { \"use_label_encoder\" } are not used.\n",
      "\n",
      "  bst.update(dtrain, iteration=i, fobj=obj)\n",
      "C:\\Users\\nchan\\AppData\\Roaming\\Python\\Python311\\site-packages\\xgboost\\training.py:183: UserWarning: [00:03:12] WARNING: C:\\actions-runner\\_work\\xgboost\\xgboost\\src\\learner.cc:738: \n",
      "Parameters: { \"use_label_encoder\" } are not used.\n",
      "\n",
      "  bst.update(dtrain, iteration=i, fobj=obj)\n",
      "C:\\Users\\nchan\\AppData\\Roaming\\Python\\Python311\\site-packages\\xgboost\\training.py:183: UserWarning: [00:03:13] WARNING: C:\\actions-runner\\_work\\xgboost\\xgboost\\src\\learner.cc:738: \n",
      "Parameters: { \"use_label_encoder\" } are not used.\n",
      "\n",
      "  bst.update(dtrain, iteration=i, fobj=obj)\n",
      "C:\\Users\\nchan\\AppData\\Roaming\\Python\\Python311\\site-packages\\xgboost\\training.py:183: UserWarning: [00:03:14] WARNING: C:\\actions-runner\\_work\\xgboost\\xgboost\\src\\learner.cc:738: \n",
      "Parameters: { \"use_label_encoder\" } are not used.\n",
      "\n",
      "  bst.update(dtrain, iteration=i, fobj=obj)\n"
     ]
    },
    {
     "name": "stdout",
     "output_type": "stream",
     "text": [
      "[LightGBM] [Info] Number of positive: 3088, number of negative: 8767\n",
      "[LightGBM] [Info] Auto-choosing col-wise multi-threading, the overhead of testing was 0.007898 seconds.\n",
      "You can set `force_col_wise=true` to remove the overhead.\n",
      "[LightGBM] [Info] Total Bins 62\n",
      "[LightGBM] [Info] Number of data points in the train set: 11855, number of used features: 7\n",
      "[LightGBM] [Info] [binary:BoostFromScore]: pavg=0.500000 -> initscore=-0.000000\n",
      "[LightGBM] [Info] Start training from score -0.000000\n",
      "[LightGBM] [Info] Number of positive: 3088, number of negative: 8767\n",
      "[LightGBM] [Info] Auto-choosing row-wise multi-threading, the overhead of testing was 0.001923 seconds.\n",
      "You can set `force_row_wise=true` to remove the overhead.\n",
      "And if memory is not enough, you can set `force_col_wise=true`.\n",
      "[LightGBM] [Info] Total Bins 62\n",
      "[LightGBM] [Info] Number of data points in the train set: 11855, number of used features: 7\n",
      "[LightGBM] [Info] [binary:BoostFromScore]: pavg=0.500000 -> initscore=-0.000000\n",
      "[LightGBM] [Info] Start training from score -0.000000\n",
      "[LightGBM] [Info] Number of positive: 3088, number of negative: 8767\n",
      "[LightGBM] [Info] Auto-choosing row-wise multi-threading, the overhead of testing was 0.001177 seconds.\n",
      "You can set `force_row_wise=true` to remove the overhead.\n",
      "And if memory is not enough, you can set `force_col_wise=true`.\n",
      "[LightGBM] [Info] Total Bins 62\n",
      "[LightGBM] [Info] Number of data points in the train set: 11855, number of used features: 7\n",
      "[LightGBM] [Info] [binary:BoostFromScore]: pavg=0.500000 -> initscore=-0.000000\n",
      "[LightGBM] [Info] Start training from score -0.000000\n",
      "[LightGBM] [Info] Number of positive: 3088, number of negative: 8767\n",
      "[LightGBM] [Info] Auto-choosing row-wise multi-threading, the overhead of testing was 0.001809 seconds.\n",
      "You can set `force_row_wise=true` to remove the overhead.\n",
      "And if memory is not enough, you can set `force_col_wise=true`.\n",
      "[LightGBM] [Info] Total Bins 62\n",
      "[LightGBM] [Info] Number of data points in the train set: 11855, number of used features: 7\n",
      "[LightGBM] [Info] [binary:BoostFromScore]: pavg=0.500000 -> initscore=-0.000000\n",
      "[LightGBM] [Info] Start training from score -0.000000\n",
      "[LightGBM] [Info] Number of positive: 3088, number of negative: 8768\n",
      "[LightGBM] [Info] Auto-choosing row-wise multi-threading, the overhead of testing was 0.001325 seconds.\n",
      "You can set `force_row_wise=true` to remove the overhead.\n",
      "And if memory is not enough, you can set `force_col_wise=true`.\n",
      "[LightGBM] [Info] Total Bins 62\n",
      "[LightGBM] [Info] Number of data points in the train set: 11856, number of used features: 7\n",
      "[LightGBM] [Info] [binary:BoostFromScore]: pavg=0.500000 -> initscore=0.000000\n",
      "[LightGBM] [Info] Start training from score 0.000000\n"
     ]
    },
    {
     "name": "stderr",
     "output_type": "stream",
     "text": [
      "C:\\Users\\nchan\\AppData\\Roaming\\Python\\Python311\\site-packages\\xgboost\\training.py:183: UserWarning: [00:03:23] WARNING: C:\\actions-runner\\_work\\xgboost\\xgboost\\src\\learner.cc:738: \n",
      "Parameters: { \"use_label_encoder\" } are not used.\n",
      "\n",
      "  bst.update(dtrain, iteration=i, fobj=obj)\n"
     ]
    },
    {
     "name": "stdout",
     "output_type": "stream",
     "text": [
      "[LightGBM] [Info] Number of positive: 3860, number of negative: 10959\n",
      "[LightGBM] [Info] Auto-choosing col-wise multi-threading, the overhead of testing was 0.001722 seconds.\n",
      "You can set `force_col_wise=true` to remove the overhead.\n",
      "[LightGBM] [Info] Total Bins 62\n",
      "[LightGBM] [Info] Number of data points in the train set: 14819, number of used features: 7\n",
      "[LightGBM] [Info] [binary:BoostFromScore]: pavg=0.500000 -> initscore=-0.000000\n",
      "[LightGBM] [Info] Start training from score -0.000000\n"
     ]
    },
    {
     "name": "stderr",
     "output_type": "stream",
     "text": [
      "C:\\Users\\nchan\\AppData\\Roaming\\Python\\Python311\\site-packages\\xgboost\\training.py:183: UserWarning: [00:03:34] WARNING: C:\\actions-runner\\_work\\xgboost\\xgboost\\src\\learner.cc:738: \n",
      "Parameters: { \"use_label_encoder\" } are not used.\n",
      "\n",
      "  bst.update(dtrain, iteration=i, fobj=obj)\n",
      "C:\\Users\\nchan\\AppData\\Roaming\\Python\\Python311\\site-packages\\xgboost\\training.py:183: UserWarning: [00:03:34] WARNING: C:\\actions-runner\\_work\\xgboost\\xgboost\\src\\learner.cc:738: \n",
      "Parameters: { \"use_label_encoder\" } are not used.\n",
      "\n",
      "  bst.update(dtrain, iteration=i, fobj=obj)\n",
      "C:\\Users\\nchan\\AppData\\Roaming\\Python\\Python311\\site-packages\\xgboost\\training.py:183: UserWarning: [00:03:35] WARNING: C:\\actions-runner\\_work\\xgboost\\xgboost\\src\\learner.cc:738: \n",
      "Parameters: { \"use_label_encoder\" } are not used.\n",
      "\n",
      "  bst.update(dtrain, iteration=i, fobj=obj)\n",
      "C:\\Users\\nchan\\AppData\\Roaming\\Python\\Python311\\site-packages\\xgboost\\training.py:183: UserWarning: [00:03:36] WARNING: C:\\actions-runner\\_work\\xgboost\\xgboost\\src\\learner.cc:738: \n",
      "Parameters: { \"use_label_encoder\" } are not used.\n",
      "\n",
      "  bst.update(dtrain, iteration=i, fobj=obj)\n",
      "C:\\Users\\nchan\\AppData\\Roaming\\Python\\Python311\\site-packages\\xgboost\\training.py:183: UserWarning: [00:03:36] WARNING: C:\\actions-runner\\_work\\xgboost\\xgboost\\src\\learner.cc:738: \n",
      "Parameters: { \"use_label_encoder\" } are not used.\n",
      "\n",
      "  bst.update(dtrain, iteration=i, fobj=obj)\n"
     ]
    },
    {
     "name": "stdout",
     "output_type": "stream",
     "text": [
      "[LightGBM] [Info] Number of positive: 3088, number of negative: 8767\n",
      "[LightGBM] [Info] Auto-choosing row-wise multi-threading, the overhead of testing was 0.000816 seconds.\n",
      "You can set `force_row_wise=true` to remove the overhead.\n",
      "And if memory is not enough, you can set `force_col_wise=true`.\n",
      "[LightGBM] [Info] Total Bins 62\n",
      "[LightGBM] [Info] Number of data points in the train set: 11855, number of used features: 7\n",
      "[LightGBM] [Info] [binary:BoostFromScore]: pavg=0.500000 -> initscore=-0.000000\n",
      "[LightGBM] [Info] Start training from score -0.000000\n",
      "[LightGBM] [Info] Number of positive: 3088, number of negative: 8767\n",
      "[LightGBM] [Info] Auto-choosing row-wise multi-threading, the overhead of testing was 0.000993 seconds.\n",
      "You can set `force_row_wise=true` to remove the overhead.\n",
      "And if memory is not enough, you can set `force_col_wise=true`.\n",
      "[LightGBM] [Info] Total Bins 62\n",
      "[LightGBM] [Info] Number of data points in the train set: 11855, number of used features: 7\n",
      "[LightGBM] [Info] [binary:BoostFromScore]: pavg=0.500000 -> initscore=-0.000000\n",
      "[LightGBM] [Info] Start training from score -0.000000\n",
      "[LightGBM] [Info] Number of positive: 3088, number of negative: 8767\n",
      "[LightGBM] [Info] Auto-choosing row-wise multi-threading, the overhead of testing was 0.001270 seconds.\n",
      "You can set `force_row_wise=true` to remove the overhead.\n",
      "And if memory is not enough, you can set `force_col_wise=true`.\n",
      "[LightGBM] [Info] Total Bins 62\n",
      "[LightGBM] [Info] Number of data points in the train set: 11855, number of used features: 7\n",
      "[LightGBM] [Info] [binary:BoostFromScore]: pavg=0.500000 -> initscore=-0.000000\n",
      "[LightGBM] [Info] Start training from score -0.000000\n",
      "[LightGBM] [Info] Number of positive: 3088, number of negative: 8767\n",
      "[LightGBM] [Info] Auto-choosing row-wise multi-threading, the overhead of testing was 0.001212 seconds.\n",
      "You can set `force_row_wise=true` to remove the overhead.\n",
      "And if memory is not enough, you can set `force_col_wise=true`.\n",
      "[LightGBM] [Info] Total Bins 62\n",
      "[LightGBM] [Info] Number of data points in the train set: 11855, number of used features: 7\n",
      "[LightGBM] [Info] [binary:BoostFromScore]: pavg=0.500000 -> initscore=-0.000000\n",
      "[LightGBM] [Info] Start training from score -0.000000\n",
      "[LightGBM] [Info] Number of positive: 3088, number of negative: 8768\n",
      "[LightGBM] [Info] Auto-choosing row-wise multi-threading, the overhead of testing was 0.003211 seconds.\n",
      "You can set `force_row_wise=true` to remove the overhead.\n",
      "And if memory is not enough, you can set `force_col_wise=true`.\n",
      "[LightGBM] [Info] Total Bins 62\n",
      "[LightGBM] [Info] Number of data points in the train set: 11856, number of used features: 7\n",
      "[LightGBM] [Info] [binary:BoostFromScore]: pavg=0.500000 -> initscore=0.000000\n",
      "[LightGBM] [Info] Start training from score 0.000000\n"
     ]
    },
    {
     "name": "stderr",
     "output_type": "stream",
     "text": [
      "C:\\Users\\nchan\\AppData\\Roaming\\Python\\Python311\\site-packages\\xgboost\\training.py:183: UserWarning: [00:03:46] WARNING: C:\\actions-runner\\_work\\xgboost\\xgboost\\src\\learner.cc:738: \n",
      "Parameters: { \"use_label_encoder\" } are not used.\n",
      "\n",
      "  bst.update(dtrain, iteration=i, fobj=obj)\n"
     ]
    },
    {
     "name": "stdout",
     "output_type": "stream",
     "text": [
      "[LightGBM] [Info] Number of positive: 3860, number of negative: 10960\n",
      "[LightGBM] [Info] Auto-choosing row-wise multi-threading, the overhead of testing was 0.000913 seconds.\n",
      "You can set `force_row_wise=true` to remove the overhead.\n",
      "And if memory is not enough, you can set `force_col_wise=true`.\n",
      "[LightGBM] [Info] Total Bins 62\n",
      "[LightGBM] [Info] Number of data points in the train set: 14820, number of used features: 7\n",
      "[LightGBM] [Info] [binary:BoostFromScore]: pavg=0.500000 -> initscore=0.000000\n",
      "[LightGBM] [Info] Start training from score 0.000000\n"
     ]
    },
    {
     "name": "stderr",
     "output_type": "stream",
     "text": [
      "C:\\Users\\nchan\\AppData\\Roaming\\Python\\Python311\\site-packages\\xgboost\\training.py:183: UserWarning: [00:03:57] WARNING: C:\\actions-runner\\_work\\xgboost\\xgboost\\src\\learner.cc:738: \n",
      "Parameters: { \"use_label_encoder\" } are not used.\n",
      "\n",
      "  bst.update(dtrain, iteration=i, fobj=obj)\n",
      "C:\\Users\\nchan\\AppData\\Roaming\\Python\\Python311\\site-packages\\xgboost\\training.py:183: UserWarning: [00:03:58] WARNING: C:\\actions-runner\\_work\\xgboost\\xgboost\\src\\learner.cc:738: \n",
      "Parameters: { \"use_label_encoder\" } are not used.\n",
      "\n",
      "  bst.update(dtrain, iteration=i, fobj=obj)\n",
      "C:\\Users\\nchan\\AppData\\Roaming\\Python\\Python311\\site-packages\\xgboost\\training.py:183: UserWarning: [00:03:58] WARNING: C:\\actions-runner\\_work\\xgboost\\xgboost\\src\\learner.cc:738: \n",
      "Parameters: { \"use_label_encoder\" } are not used.\n",
      "\n",
      "  bst.update(dtrain, iteration=i, fobj=obj)\n",
      "C:\\Users\\nchan\\AppData\\Roaming\\Python\\Python311\\site-packages\\xgboost\\training.py:183: UserWarning: [00:03:59] WARNING: C:\\actions-runner\\_work\\xgboost\\xgboost\\src\\learner.cc:738: \n",
      "Parameters: { \"use_label_encoder\" } are not used.\n",
      "\n",
      "  bst.update(dtrain, iteration=i, fobj=obj)\n",
      "C:\\Users\\nchan\\AppData\\Roaming\\Python\\Python311\\site-packages\\xgboost\\training.py:183: UserWarning: [00:03:59] WARNING: C:\\actions-runner\\_work\\xgboost\\xgboost\\src\\learner.cc:738: \n",
      "Parameters: { \"use_label_encoder\" } are not used.\n",
      "\n",
      "  bst.update(dtrain, iteration=i, fobj=obj)\n"
     ]
    },
    {
     "name": "stdout",
     "output_type": "stream",
     "text": [
      "[LightGBM] [Info] Number of positive: 3088, number of negative: 8768\n",
      "[LightGBM] [Info] Auto-choosing col-wise multi-threading, the overhead of testing was 0.002955 seconds.\n",
      "You can set `force_col_wise=true` to remove the overhead.\n",
      "[LightGBM] [Info] Total Bins 62\n",
      "[LightGBM] [Info] Number of data points in the train set: 11856, number of used features: 7\n",
      "[LightGBM] [Info] [binary:BoostFromScore]: pavg=0.500000 -> initscore=0.000000\n",
      "[LightGBM] [Info] Start training from score 0.000000\n",
      "[LightGBM] [Info] Number of positive: 3088, number of negative: 8768\n",
      "[LightGBM] [Info] Auto-choosing row-wise multi-threading, the overhead of testing was 0.001308 seconds.\n",
      "You can set `force_row_wise=true` to remove the overhead.\n",
      "And if memory is not enough, you can set `force_col_wise=true`.\n",
      "[LightGBM] [Info] Total Bins 62\n",
      "[LightGBM] [Info] Number of data points in the train set: 11856, number of used features: 7\n",
      "[LightGBM] [Info] [binary:BoostFromScore]: pavg=0.500000 -> initscore=0.000000\n",
      "[LightGBM] [Info] Start training from score 0.000000\n",
      "[LightGBM] [Info] Number of positive: 3088, number of negative: 8768\n",
      "[LightGBM] [Info] Auto-choosing row-wise multi-threading, the overhead of testing was 0.002197 seconds.\n",
      "You can set `force_row_wise=true` to remove the overhead.\n",
      "And if memory is not enough, you can set `force_col_wise=true`.\n",
      "[LightGBM] [Info] Total Bins 62\n",
      "[LightGBM] [Info] Number of data points in the train set: 11856, number of used features: 7\n",
      "[LightGBM] [Info] [binary:BoostFromScore]: pavg=0.500000 -> initscore=0.000000\n",
      "[LightGBM] [Info] Start training from score 0.000000\n",
      "[LightGBM] [Info] Number of positive: 3088, number of negative: 8768\n",
      "[LightGBM] [Info] Auto-choosing row-wise multi-threading, the overhead of testing was 0.000780 seconds.\n",
      "You can set `force_row_wise=true` to remove the overhead.\n",
      "And if memory is not enough, you can set `force_col_wise=true`.\n",
      "[LightGBM] [Info] Total Bins 62\n",
      "[LightGBM] [Info] Number of data points in the train set: 11856, number of used features: 7\n",
      "[LightGBM] [Info] [binary:BoostFromScore]: pavg=0.500000 -> initscore=0.000000\n",
      "[LightGBM] [Info] Start training from score 0.000000\n",
      "[LightGBM] [Info] Number of positive: 3088, number of negative: 8768\n",
      "[LightGBM] [Info] Auto-choosing row-wise multi-threading, the overhead of testing was 0.001077 seconds.\n",
      "You can set `force_row_wise=true` to remove the overhead.\n",
      "And if memory is not enough, you can set `force_col_wise=true`.\n",
      "[LightGBM] [Info] Total Bins 62\n",
      "[LightGBM] [Info] Number of data points in the train set: 11856, number of used features: 7\n",
      "[LightGBM] [Info] [binary:BoostFromScore]: pavg=0.500000 -> initscore=0.000000\n",
      "[LightGBM] [Info] Start training from score 0.000000\n",
      "StackingClassifier CV Accuracy Scores: [0.97192982 0.97354926 0.97354926 0.9754386  0.97759179]\n",
      "StackingClassifier Mean Accuracy: 0.9744117458457575\n"
     ]
    }
   ],
   "source": [
    "from sklearn.ensemble import StackingClassifier\n",
    "from sklearn.linear_model import LogisticRegression\n",
    "\n",
    "stack_model = StackingClassifier(\n",
    "    estimators=[\n",
    "        ('rf', RandomForestClassifier(class_weight='balanced', random_state=42)),\n",
    "        ('xgb', XGBClassifier(use_label_encoder=False, eval_metric='logloss', scale_pos_weight=3.0, random_state=42)),\n",
    "        ('lgbm', LGBMClassifier(class_weight='balanced', random_state=42))\n",
    "    ],\n",
    "    final_estimator=LogisticRegression(),\n",
    "    cv=5\n",
    ")\n",
    "\n",
    "stack_scores = cross_val_score(stack_model, X, y, cv=cv, scoring='accuracy')\n",
    "\n",
    "print(\"StackingClassifier CV Accuracy Scores:\", stack_scores)\n",
    "print(\"StackingClassifier Mean Accuracy:\", stack_scores.mean())\n"
   ]
  },
  {
   "cell_type": "code",
   "execution_count": 73,
   "id": "73185bba",
   "metadata": {},
   "outputs": [
    {
     "name": "stdout",
     "output_type": "stream",
     "text": [
      "MLPClassifier CV Accuracy Scores: [0.97219973 0.9708502  0.97139001 0.97381916 0.97651188]\n",
      "MLPClassifier Mean Accuracy: 0.9729541976722833\n"
     ]
    }
   ],
   "source": [
    "from sklearn.neural_network import MLPClassifier\n",
    "from sklearn.model_selection import cross_val_score\n",
    "\n",
    "# Define the MLP model\n",
    "mlp_model = MLPClassifier(hidden_layer_sizes=(64, 32), \n",
    "                          activation='relu',\n",
    "                          solver='adam',\n",
    "                          alpha=1e-4,\n",
    "                          max_iter=300,\n",
    "                          random_state=42)\n",
    "\n",
    "# Cross-validation setup\n",
    "cv = StratifiedKFold(n_splits=5, shuffle=True, random_state=42)\n",
    "\n",
    "# Evaluate using accuracy\n",
    "mlp_scores = cross_val_score(mlp_model, X, y, cv=cv, scoring='accuracy')\n",
    "\n",
    "# Print results\n",
    "print(\"MLPClassifier CV Accuracy Scores:\", mlp_scores)\n",
    "print(\"MLPClassifier Mean Accuracy:\", mlp_scores.mean())\n"
   ]
  },
  {
   "cell_type": "code",
   "execution_count": 74,
   "id": "5247fb04",
   "metadata": {},
   "outputs": [
    {
     "name": "stdout",
     "output_type": "stream",
     "text": [
      "SMOTE + MLPClassifier CV Accuracy Scores: [0.96950067 0.97112011 0.96788124 0.97165992 0.97570194]\n",
      "SMOTE + MLPClassifier Mean Accuracy: 0.9711727774328661\n"
     ]
    }
   ],
   "source": [
    "from sklearn.model_selection import StratifiedKFold, cross_val_score\n",
    "from sklearn.neural_network import MLPClassifier\n",
    "from imblearn.over_sampling import SMOTE\n",
    "from imblearn.pipeline import Pipeline as ImbPipeline\n",
    "import numpy as np\n",
    "\n",
    "# Define SMOTE + MLP pipeline\n",
    "mlp_pipeline = ImbPipeline(steps=[\n",
    "    ('smote', SMOTE(random_state=42)),\n",
    "    ('mlp', MLPClassifier(hidden_layer_sizes=(100,), max_iter=500, random_state=42))\n",
    "])\n",
    "\n",
    "# Stratified K-Fold Cross-Validation\n",
    "cv = StratifiedKFold(n_splits=5, shuffle=True, random_state=42)\n",
    "mlp_smote_scores = cross_val_score(mlp_pipeline, X, y, cv=cv, scoring='accuracy')\n",
    "\n",
    "# Print results\n",
    "print(\"SMOTE + MLPClassifier CV Accuracy Scores:\", mlp_smote_scores)\n",
    "print(\"SMOTE + MLPClassifier Mean Accuracy:\", np.mean(mlp_smote_scores))\n"
   ]
  },
  {
   "cell_type": "code",
   "execution_count": 75,
   "id": "169d894a",
   "metadata": {},
   "outputs": [
    {
     "name": "stdout",
     "output_type": "stream",
     "text": [
      "SMOTE + CatBoost CV Accuracy Scores: [0.9705803  0.97354926 0.97327935 0.9754386  0.9762419 ]\n",
      "SMOTE + CatBoost Mean Accuracy: 0.9738178808043536\n"
     ]
    }
   ],
   "source": [
    "from imblearn.over_sampling import SMOTE\n",
    "from imblearn.pipeline import Pipeline as ImbPipeline\n",
    "from sklearn.model_selection import cross_val_score, StratifiedKFold\n",
    "from catboost import CatBoostClassifier\n",
    "import numpy as np\n",
    "\n",
    "# Initialize SMOTE and CatBoost (no GPU, silent training)\n",
    "smote = SMOTE(random_state=42)\n",
    "catboost = CatBoostClassifier(verbose=0, random_state=42)\n",
    "\n",
    "# Build pipeline\n",
    "catboost_smote_pipeline = ImbPipeline([\n",
    "    ('smote', smote),\n",
    "    ('catboost', catboost)\n",
    "])\n",
    "\n",
    "# Cross-validation\n",
    "cv = StratifiedKFold(n_splits=5, shuffle=True, random_state=42)\n",
    "catboost_smote_scores = cross_val_score(catboost_smote_pipeline, X, y, cv=cv, scoring='accuracy')\n",
    "\n",
    "# Output results\n",
    "print(\"SMOTE + CatBoost CV Accuracy Scores:\", catboost_smote_scores)\n",
    "print(\"SMOTE + CatBoost Mean Accuracy:\", np.mean(catboost_smote_scores))\n"
   ]
  },
  {
   "cell_type": "code",
   "execution_count": 76,
   "id": "92ba2e86",
   "metadata": {},
   "outputs": [
    {
     "name": "stdout",
     "output_type": "stream",
     "text": [
      "[LightGBM] [Info] Number of positive: 10959, number of negative: 10959\n",
      "[LightGBM] [Info] Auto-choosing row-wise multi-threading, the overhead of testing was 0.001749 seconds.\n",
      "You can set `force_row_wise=true` to remove the overhead.\n",
      "And if memory is not enough, you can set `force_col_wise=true`.\n",
      "[LightGBM] [Info] Total Bins 1279\n",
      "[LightGBM] [Info] Number of data points in the train set: 21918, number of used features: 7\n",
      "[LightGBM] [Info] [binary:BoostFromScore]: pavg=0.500000 -> initscore=0.000000\n",
      "[LightGBM] [Info] Number of positive: 10959, number of negative: 10959\n",
      "[LightGBM] [Info] Auto-choosing col-wise multi-threading, the overhead of testing was 0.001159 seconds.\n",
      "You can set `force_col_wise=true` to remove the overhead.\n",
      "[LightGBM] [Info] Total Bins 1279\n",
      "[LightGBM] [Info] Number of data points in the train set: 21918, number of used features: 7\n",
      "[LightGBM] [Info] [binary:BoostFromScore]: pavg=0.500000 -> initscore=0.000000\n",
      "[LightGBM] [Info] Number of positive: 10959, number of negative: 10959\n",
      "[LightGBM] [Info] Auto-choosing row-wise multi-threading, the overhead of testing was 0.001656 seconds.\n",
      "You can set `force_row_wise=true` to remove the overhead.\n",
      "And if memory is not enough, you can set `force_col_wise=true`.\n",
      "[LightGBM] [Info] Total Bins 1279\n",
      "[LightGBM] [Info] Number of data points in the train set: 21918, number of used features: 7\n",
      "[LightGBM] [Info] [binary:BoostFromScore]: pavg=0.500000 -> initscore=0.000000\n",
      "[LightGBM] [Info] Number of positive: 10960, number of negative: 10959\n",
      "[LightGBM] [Info] Auto-choosing col-wise multi-threading, the overhead of testing was 0.014009 seconds.\n",
      "You can set `force_col_wise=true` to remove the overhead.\n",
      "[LightGBM] [Info] Total Bins 1279\n",
      "[LightGBM] [Info] Number of data points in the train set: 21919, number of used features: 7\n",
      "[LightGBM] [Info] [binary:BoostFromScore]: pavg=0.500000 -> initscore=-0.000000\n",
      "[LightGBM] [Info] Start training from score -0.000000\n",
      "[LightGBM] [Info] Number of positive: 10959, number of negative: 10960\n",
      "[LightGBM] [Info] Auto-choosing col-wise multi-threading, the overhead of testing was 0.002603 seconds.\n",
      "You can set `force_col_wise=true` to remove the overhead.\n",
      "[LightGBM] [Info] Total Bins 1279\n",
      "[LightGBM] [Info] Number of data points in the train set: 21919, number of used features: 7\n",
      "[LightGBM] [Info] [binary:BoostFromScore]: pavg=0.500000 -> initscore=0.000000\n",
      "[LightGBM] [Info] Start training from score 0.000000\n",
      "SMOTE + VotingClassifier CV Accuracy Scores: [0.97645985 0.97919708 0.97791971 0.98010586 0.98010586]\n",
      "SMOTE + VotingClassifier Mean Accuracy: 0.9787576719604916\n"
     ]
    }
   ],
   "source": [
    "from sklearn.ensemble import VotingClassifier\n",
    "from imblearn.over_sampling import SMOTE\n",
    "from sklearn.model_selection import cross_val_score, StratifiedKFold\n",
    "from sklearn.linear_model import LogisticRegression\n",
    "from sklearn.ensemble import RandomForestClassifier\n",
    "from xgboost import XGBClassifier\n",
    "from lightgbm import LGBMClassifier\n",
    "\n",
    "# SMOTE\n",
    "smote = SMOTE(random_state=42)\n",
    "X_resampled, y_resampled = smote.fit_resample(X, y)\n",
    "\n",
    "# Base models\n",
    "lr = LogisticRegression(class_weight='balanced', max_iter=1000, random_state=42)\n",
    "rf = RandomForestClassifier(class_weight='balanced', random_state=42)\n",
    "xgb = XGBClassifier(scale_pos_weight=3.0, random_state=42)\n",
    "lgbm = LGBMClassifier(class_weight='balanced', random_state=42)\n",
    "\n",
    "# Voting Classifier (soft voting)\n",
    "voting_clf = VotingClassifier(\n",
    "    estimators=[('lr', lr), ('rf', rf), ('xgb', xgb), ('lgbm', lgbm)],\n",
    "    voting='soft'\n",
    ")\n",
    "\n",
    "# Cross-validation\n",
    "cv = StratifiedKFold(n_splits=5, shuffle=True, random_state=42)\n",
    "voting_scores = cross_val_score(voting_clf, X_resampled, y_resampled, cv=cv, scoring='accuracy')\n",
    "\n",
    "# Results\n",
    "print(\"SMOTE + VotingClassifier CV Accuracy Scores:\", voting_scores)\n",
    "print(\"SMOTE + VotingClassifier Mean Accuracy:\", voting_scores.mean())\n"
   ]
  },
  {
   "cell_type": "code",
   "execution_count": 77,
   "id": "ce8ebf30",
   "metadata": {},
   "outputs": [
    {
     "name": "stdout",
     "output_type": "stream",
     "text": [
      "SMOTE + StackingClassifier CV Accuracy Scores: [0.96386861 0.97718978 0.98959854 0.98795401 0.98795401]\n",
      "SMOTE + StackingClassifier Mean Accuracy: 0.9813129893435187\n"
     ]
    }
   ],
   "source": [
    "from sklearn.ensemble import StackingClassifier\n",
    "from sklearn.linear_model import LogisticRegression\n",
    "from sklearn.ensemble import RandomForestClassifier\n",
    "from xgboost import XGBClassifier\n",
    "from lightgbm import LGBMClassifier\n",
    "from imblearn.over_sampling import SMOTE\n",
    "from sklearn.model_selection import cross_val_score\n",
    "from sklearn.pipeline import Pipeline\n",
    "\n",
    "# SMOTE\n",
    "smote = SMOTE(random_state=42)\n",
    "X_resampled, y_resampled = smote.fit_resample(X, y)\n",
    "\n",
    "# Define base learners\n",
    "base_learners = [\n",
    "    ('lr', LogisticRegression(class_weight='balanced', max_iter=1000, random_state=42)),\n",
    "    ('rf', RandomForestClassifier(class_weight='balanced', random_state=42)),\n",
    "    ('xgb', XGBClassifier(eval_metric='logloss', scale_pos_weight=3.0, random_state=42)),\n",
    "    ('lgbm', LGBMClassifier(class_weight='balanced', random_state=42))\n",
    "]\n",
    "\n",
    "# Define final estimator\n",
    "final_estimator = LogisticRegression(max_iter=1000, random_state=42)\n",
    "\n",
    "# Create StackingClassifier\n",
    "stacking_model = StackingClassifier(\n",
    "    estimators=base_learners,\n",
    "    final_estimator=final_estimator,\n",
    "    cv=5,\n",
    "    passthrough=False,  # Set to True if you want to include raw features with predictions\n",
    "    n_jobs=-1\n",
    ")\n",
    "\n",
    "# Evaluate with cross-validation\n",
    "stacking_scores = cross_val_score(stacking_model, X_resampled, y_resampled, cv=5, scoring='accuracy')\n",
    "\n",
    "print(\"SMOTE + StackingClassifier CV Accuracy Scores:\", stacking_scores)\n",
    "print(\"SMOTE + StackingClassifier Mean Accuracy:\", stacking_scores.mean())\n"
   ]
  },
  {
   "cell_type": "code",
   "execution_count": 91,
   "id": "e02a98e3",
   "metadata": {},
   "outputs": [
    {
     "name": "stdout",
     "output_type": "stream",
     "text": [
      "✅ Retraining on encoded training data completed.\n"
     ]
    }
   ],
   "source": [
    "from sklearn.preprocessing import LabelEncoder\n",
    "from imblearn.over_sampling import SMOTE\n",
    "from sklearn.ensemble import StackingClassifier, RandomForestClassifier\n",
    "from sklearn.linear_model import LogisticRegression\n",
    "from xgboost import XGBClassifier\n",
    "from lightgbm import LGBMClassifier\n",
    "from catboost import CatBoostClassifier\n",
    "from sklearn.neural_network import MLPClassifier\n",
    "import pandas as pd\n",
    "\n",
    "# -------- Step 1: Copy your training data --------\n",
    "X = train.drop(columns=[\"id\", \"Personality\"]).copy()\n",
    "y = train[\"Personality\"].copy()\n",
    "\n",
    "# -------- Step 2: Encode categorical columns --------\n",
    "label_encoders = {}\n",
    "for col in X.columns:\n",
    "    if X[col].dtype == \"object\":\n",
    "        le = LabelEncoder()\n",
    "        X[col] = le.fit_transform(X[col])\n",
    "        label_encoders[col] = le  # Save encoder for later use on test set\n",
    "\n",
    "# Encode target if it's not numeric\n",
    "if y.dtype == \"object\":\n",
    "    y_le = LabelEncoder()\n",
    "    y = y_le.fit_transform(y)\n",
    "else:\n",
    "    y_le = None\n",
    "\n",
    "# -------- Step 3: SMOTE --------\n",
    "smote = SMOTE(random_state=42)\n",
    "X_resampled, y_resampled = smote.fit_resample(X, y)\n",
    "\n",
    "# -------- Step 4: Define base and final estimators --------\n",
    "base_estimators = [\n",
    "    ('lr', LogisticRegression(max_iter=1000, class_weight='balanced', random_state=42)),\n",
    "    ('rf', RandomForestClassifier(class_weight='balanced', random_state=42)),\n",
    "    ('xgb', XGBClassifier(eval_metric='logloss', scale_pos_weight=1, use_label_encoder=False, random_state=42)),\n",
    "    ('lgbm', LGBMClassifier(class_weight='balanced', random_state=42)),\n",
    "    ('cat', CatBoostClassifier(verbose=0, random_state=42)),\n",
    "    ('mlp', MLPClassifier(max_iter=1000, random_state=42))\n",
    "]\n",
    "\n",
    "final_estimator = LogisticRegression(max_iter=1000, random_state=42)\n",
    "\n",
    "# -------- Step 5: Stacking classifier --------\n",
    "stacking_clf = StackingClassifier(\n",
    "    estimators=base_estimators,\n",
    "    final_estimator=final_estimator,\n",
    "    cv=5,\n",
    "    passthrough=False,\n",
    "    n_jobs=-1\n",
    ")\n",
    "\n",
    "# -------- Step 6: Fit --------\n",
    "stacking_clf.fit(X_resampled, y_resampled)\n",
    "print(\"✅ Retraining on encoded training data completed.\")\n"
   ]
  },
  {
   "cell_type": "code",
   "execution_count": 363,
   "id": "df338214",
   "metadata": {},
   "outputs": [],
   "source": [
    "X_test = pd.read_csv(os.path.join(path, 'test.csv'))"
   ]
  },
  {
   "cell_type": "code",
   "execution_count": 364,
   "id": "59de2115",
   "metadata": {},
   "outputs": [
    {
     "data": {
      "text/html": [
       "<div>\n",
       "<style scoped>\n",
       "    .dataframe tbody tr th:only-of-type {\n",
       "        vertical-align: middle;\n",
       "    }\n",
       "\n",
       "    .dataframe tbody tr th {\n",
       "        vertical-align: top;\n",
       "    }\n",
       "\n",
       "    .dataframe thead th {\n",
       "        text-align: right;\n",
       "    }\n",
       "</style>\n",
       "<table border=\"1\" class=\"dataframe\">\n",
       "  <thead>\n",
       "    <tr style=\"text-align: right;\">\n",
       "      <th></th>\n",
       "      <th>id</th>\n",
       "      <th>Time_spent_Alone</th>\n",
       "      <th>Stage_fear</th>\n",
       "      <th>Social_event_attendance</th>\n",
       "      <th>Going_outside</th>\n",
       "      <th>Drained_after_socializing</th>\n",
       "      <th>Friends_circle_size</th>\n",
       "      <th>Post_frequency</th>\n",
       "    </tr>\n",
       "  </thead>\n",
       "  <tbody>\n",
       "    <tr>\n",
       "      <th>0</th>\n",
       "      <td>18524</td>\n",
       "      <td>3.0</td>\n",
       "      <td>No</td>\n",
       "      <td>7.0</td>\n",
       "      <td>4.0</td>\n",
       "      <td>No</td>\n",
       "      <td>6.0</td>\n",
       "      <td>NaN</td>\n",
       "    </tr>\n",
       "    <tr>\n",
       "      <th>1</th>\n",
       "      <td>18525</td>\n",
       "      <td>NaN</td>\n",
       "      <td>Yes</td>\n",
       "      <td>0.0</td>\n",
       "      <td>0.0</td>\n",
       "      <td>Yes</td>\n",
       "      <td>5.0</td>\n",
       "      <td>1.0</td>\n",
       "    </tr>\n",
       "    <tr>\n",
       "      <th>2</th>\n",
       "      <td>18526</td>\n",
       "      <td>3.0</td>\n",
       "      <td>No</td>\n",
       "      <td>5.0</td>\n",
       "      <td>6.0</td>\n",
       "      <td>No</td>\n",
       "      <td>15.0</td>\n",
       "      <td>9.0</td>\n",
       "    </tr>\n",
       "    <tr>\n",
       "      <th>3</th>\n",
       "      <td>18527</td>\n",
       "      <td>3.0</td>\n",
       "      <td>No</td>\n",
       "      <td>4.0</td>\n",
       "      <td>4.0</td>\n",
       "      <td>No</td>\n",
       "      <td>5.0</td>\n",
       "      <td>6.0</td>\n",
       "    </tr>\n",
       "    <tr>\n",
       "      <th>4</th>\n",
       "      <td>18528</td>\n",
       "      <td>9.0</td>\n",
       "      <td>Yes</td>\n",
       "      <td>1.0</td>\n",
       "      <td>2.0</td>\n",
       "      <td>Yes</td>\n",
       "      <td>1.0</td>\n",
       "      <td>1.0</td>\n",
       "    </tr>\n",
       "  </tbody>\n",
       "</table>\n",
       "</div>"
      ],
      "text/plain": [
       "      id  Time_spent_Alone Stage_fear  Social_event_attendance  Going_outside  \\\n",
       "0  18524               3.0         No                      7.0            4.0   \n",
       "1  18525               NaN        Yes                      0.0            0.0   \n",
       "2  18526               3.0         No                      5.0            6.0   \n",
       "3  18527               3.0         No                      4.0            4.0   \n",
       "4  18528               9.0        Yes                      1.0            2.0   \n",
       "\n",
       "  Drained_after_socializing  Friends_circle_size  Post_frequency  \n",
       "0                        No                  6.0             NaN  \n",
       "1                       Yes                  5.0             1.0  \n",
       "2                        No                 15.0             9.0  \n",
       "3                        No                  5.0             6.0  \n",
       "4                       Yes                  1.0             1.0  "
      ]
     },
     "execution_count": 364,
     "metadata": {},
     "output_type": "execute_result"
    }
   ],
   "source": [
    "X_test.head()"
   ]
  },
  {
   "cell_type": "code",
   "execution_count": 365,
   "id": "17ffcf5c",
   "metadata": {},
   "outputs": [
    {
     "name": "stdout",
     "output_type": "stream",
     "text": [
      "Shape: (6175, 8)\n",
      "\n",
      "Columns: ['id', 'Time_spent_Alone', 'Stage_fear', 'Social_event_attendance', 'Going_outside', 'Drained_after_socializing', 'Friends_circle_size', 'Post_frequency']\n",
      "\n",
      "Null value count:\n",
      " id                             0\n",
      "Time_spent_Alone             425\n",
      "Stage_fear                   598\n",
      "Social_event_attendance      397\n",
      "Going_outside                466\n",
      "Drained_after_socializing    432\n",
      "Friends_circle_size          350\n",
      "Post_frequency               408\n",
      "dtype: int64\n",
      "\n",
      "Sample rows:\n",
      "       id  Time_spent_Alone Stage_fear  Social_event_attendance  Going_outside  \\\n",
      "0  18524               3.0         No                      7.0            4.0   \n",
      "1  18525               NaN        Yes                      0.0            0.0   \n",
      "2  18526               3.0         No                      5.0            6.0   \n",
      "3  18527               3.0         No                      4.0            4.0   \n",
      "4  18528               9.0        Yes                      1.0            2.0   \n",
      "\n",
      "  Drained_after_socializing  Friends_circle_size  Post_frequency  \n",
      "0                        No                  6.0             NaN  \n",
      "1                       Yes                  5.0             1.0  \n",
      "2                        No                 15.0             9.0  \n",
      "3                        No                  5.0             6.0  \n",
      "4                       Yes                  1.0             1.0  \n"
     ]
    }
   ],
   "source": [
    "print(\"Shape:\", X_test.shape)\n",
    "print(\"\\nColumns:\", X_test.columns.tolist())\n",
    "print(\"\\nNull value count:\\n\", X_test.isnull().sum())\n",
    "\n",
    "# Preview the data\n",
    "print(\"\\nSample rows:\\n\", X_test.head())"
   ]
  },
  {
   "cell_type": "code",
   "execution_count": 366,
   "id": "197e52b7",
   "metadata": {},
   "outputs": [],
   "source": [
    "mean_time_spent = train[\"Time_spent_Alone\"].mean()\n",
    "X_test[\"Time_spent_Alone\"] = X_test[\"Time_spent_Alone\"].fillna(mean_time_spent)\n"
   ]
  },
  {
   "cell_type": "code",
   "execution_count": 367,
   "id": "2dacaadf",
   "metadata": {},
   "outputs": [],
   "source": [
    "median_post_freq = train[\"Post_frequency\"].median()\n",
    "X_test[\"Post_frequency\"] = X_test[\"Post_frequency\"].fillna(median_post_freq)\n"
   ]
  },
  {
   "cell_type": "code",
   "execution_count": 368,
   "id": "7d292f6a",
   "metadata": {},
   "outputs": [],
   "source": [
    "mean_social_event = train[\"Social_event_attendance\"].mean()\n",
    "X_test[\"Social_event_attendance\"] = X_test[\"Social_event_attendance\"].fillna(mean_social_event)\n"
   ]
  },
  {
   "cell_type": "code",
   "execution_count": 369,
   "id": "b465a295",
   "metadata": {},
   "outputs": [],
   "source": [
    "mean_friends_circle = train[\"Friends_circle_size\"].mean()\n",
    "X_test[\"Friends_circle_size\"] = X_test[\"Friends_circle_size\"].fillna(mean_friends_circle)\n"
   ]
  },
  {
   "cell_type": "code",
   "execution_count": 370,
   "id": "45b3f81e",
   "metadata": {},
   "outputs": [],
   "source": [
    "mode_going_outside = train[\"Going_outside\"].mode()[0]\n",
    "X_test[\"Going_outside\"] = X_test[\"Going_outside\"].fillna(mode_going_outside)\n"
   ]
  },
  {
   "cell_type": "code",
   "execution_count": 371,
   "id": "8250b4f9",
   "metadata": {},
   "outputs": [],
   "source": [
    "def impute_drained_simplified(row):\n",
    "    if pd.isna(row['Drained_after_socializing']):\n",
    "        if row['Friends_circle_size'] <= 3 and row['Time_spent_Alone'] >= 6:\n",
    "            return 'Yes'  # likely introvert\n",
    "        else:\n",
    "            return 'No'   # likely extrovert\n",
    "    return row['Drained_after_socializing']"
   ]
  },
  {
   "cell_type": "code",
   "execution_count": 372,
   "id": "e786a29d",
   "metadata": {},
   "outputs": [],
   "source": [
    "def impute_stage_fear_simplified(row):\n",
    "    if pd.isna(row['Stage_fear']):\n",
    "        if row['Social_event_attendance'] == 0 or row['Post_frequency'] == 0:\n",
    "            return 'Yes'  # more stage fear likely\n",
    "        else:\n",
    "            return 'No'\n",
    "    return row['Stage_fear']\n"
   ]
  },
  {
   "cell_type": "code",
   "execution_count": 373,
   "id": "b30600dc",
   "metadata": {},
   "outputs": [],
   "source": [
    "X_test['Drained_after_socializing'] = X_test.apply(impute_drained_simplified, axis=1)\n",
    "X_test['Stage_fear'] = X_test.apply(impute_stage_fear_simplified, axis=1)"
   ]
  },
  {
   "cell_type": "code",
   "execution_count": 374,
   "id": "5599ab54",
   "metadata": {},
   "outputs": [],
   "source": [
    "binary_cols = [\"Stage_fear\", \"Drained_after_socializing\"]\n",
    "for col in binary_cols:\n",
    "    X_test[col] = X_test[col].map({\"Yes\": 1, \"No\": 0})\n"
   ]
  },
  {
   "cell_type": "code",
   "execution_count": 375,
   "id": "71b26d55",
   "metadata": {},
   "outputs": [
    {
     "name": "stdout",
     "output_type": "stream",
     "text": [
      "\n",
      "Null value count:\n",
      " id                           0\n",
      "Time_spent_Alone             0\n",
      "Stage_fear                   0\n",
      "Social_event_attendance      0\n",
      "Going_outside                0\n",
      "Drained_after_socializing    0\n",
      "Friends_circle_size          0\n",
      "Post_frequency               0\n",
      "dtype: int64\n"
     ]
    }
   ],
   "source": [
    "print(\"\\nNull value count:\\n\", X_test.isnull().sum())"
   ]
  },
  {
   "cell_type": "code",
   "execution_count": 376,
   "id": "a5e32c63",
   "metadata": {},
   "outputs": [
    {
     "data": {
      "text/plain": [
       "array([0, 1], dtype=int64)"
      ]
     },
     "execution_count": 376,
     "metadata": {},
     "output_type": "execute_result"
    }
   ],
   "source": [
    "X_test[\"Drained_after_socializing\"].unique()"
   ]
  },
  {
   "cell_type": "code",
   "execution_count": 377,
   "id": "4df0d67a",
   "metadata": {},
   "outputs": [
    {
     "data": {
      "text/plain": [
       "array([0, 1], dtype=int64)"
      ]
     },
     "execution_count": 377,
     "metadata": {},
     "output_type": "execute_result"
    }
   ],
   "source": [
    "X_test[\"Stage_fear\"].unique()"
   ]
  },
  {
   "cell_type": "code",
   "execution_count": null,
   "id": "f955f3ed",
   "metadata": {},
   "outputs": [],
   "source": []
  },
  {
   "cell_type": "code",
   "execution_count": 210,
   "id": "7a42d0ec",
   "metadata": {},
   "outputs": [
    {
     "ename": "ValueError",
     "evalue": "The feature names should match those that were passed during fit.\nFeature names unseen at fit time:\n- id\n",
     "output_type": "error",
     "traceback": [
      "\u001b[1;31m---------------------------------------------------------------------------\u001b[0m",
      "\u001b[1;31mValueError\u001b[0m                                Traceback (most recent call last)",
      "Cell \u001b[1;32mIn[210], line 1\u001b[0m\n\u001b[1;32m----> 1\u001b[0m test_preds \u001b[38;5;241m=\u001b[39m stacking_clf\u001b[38;5;241m.\u001b[39mpredict(X_test)\n",
      "File \u001b[1;32m~\\AppData\\Roaming\\Python\\Python311\\site-packages\\sklearn\\ensemble\\_stacking.py:681\u001b[0m, in \u001b[0;36mStackingClassifier.predict\u001b[1;34m(self, X, **predict_params)\u001b[0m\n\u001b[0;32m    660\u001b[0m \u001b[38;5;129m@available_if\u001b[39m(_estimator_has(\u001b[38;5;124m\"\u001b[39m\u001b[38;5;124mpredict\u001b[39m\u001b[38;5;124m\"\u001b[39m))\n\u001b[0;32m    661\u001b[0m \u001b[38;5;28;01mdef\u001b[39;00m \u001b[38;5;21mpredict\u001b[39m(\u001b[38;5;28mself\u001b[39m, X, \u001b[38;5;241m*\u001b[39m\u001b[38;5;241m*\u001b[39mpredict_params):\n\u001b[0;32m    662\u001b[0m \u001b[38;5;250m    \u001b[39m\u001b[38;5;124;03m\"\"\"Predict target for X.\u001b[39;00m\n\u001b[0;32m    663\u001b[0m \n\u001b[0;32m    664\u001b[0m \u001b[38;5;124;03m    Parameters\u001b[39;00m\n\u001b[1;32m   (...)\u001b[0m\n\u001b[0;32m    679\u001b[0m \u001b[38;5;124;03m        Predicted targets.\u001b[39;00m\n\u001b[0;32m    680\u001b[0m \u001b[38;5;124;03m    \"\"\"\u001b[39;00m\n\u001b[1;32m--> 681\u001b[0m     y_pred \u001b[38;5;241m=\u001b[39m \u001b[38;5;28msuper\u001b[39m()\u001b[38;5;241m.\u001b[39mpredict(X, \u001b[38;5;241m*\u001b[39m\u001b[38;5;241m*\u001b[39mpredict_params)\n\u001b[0;32m    682\u001b[0m     \u001b[38;5;28;01mif\u001b[39;00m \u001b[38;5;28misinstance\u001b[39m(\u001b[38;5;28mself\u001b[39m\u001b[38;5;241m.\u001b[39m_label_encoder, \u001b[38;5;28mlist\u001b[39m):\n\u001b[0;32m    683\u001b[0m         \u001b[38;5;66;03m# Handle the multilabel-indicator case\u001b[39;00m\n\u001b[0;32m    684\u001b[0m         y_pred \u001b[38;5;241m=\u001b[39m np\u001b[38;5;241m.\u001b[39marray(\n\u001b[0;32m    685\u001b[0m             [\n\u001b[0;32m    686\u001b[0m                 \u001b[38;5;28mself\u001b[39m\u001b[38;5;241m.\u001b[39m_label_encoder[target_idx]\u001b[38;5;241m.\u001b[39minverse_transform(target)\n\u001b[0;32m    687\u001b[0m                 \u001b[38;5;28;01mfor\u001b[39;00m target_idx, target \u001b[38;5;129;01min\u001b[39;00m \u001b[38;5;28menumerate\u001b[39m(y_pred\u001b[38;5;241m.\u001b[39mT)\n\u001b[0;32m    688\u001b[0m             ]\n\u001b[0;32m    689\u001b[0m         )\u001b[38;5;241m.\u001b[39mT\n",
      "File \u001b[1;32m~\\AppData\\Roaming\\Python\\Python311\\site-packages\\sklearn\\ensemble\\_stacking.py:369\u001b[0m, in \u001b[0;36m_BaseStacking.predict\u001b[1;34m(self, X, **predict_params)\u001b[0m\n\u001b[0;32m    348\u001b[0m \u001b[38;5;250m\u001b[39m\u001b[38;5;124;03m\"\"\"Predict target for X.\u001b[39;00m\n\u001b[0;32m    349\u001b[0m \n\u001b[0;32m    350\u001b[0m \u001b[38;5;124;03mParameters\u001b[39;00m\n\u001b[1;32m   (...)\u001b[0m\n\u001b[0;32m    365\u001b[0m \u001b[38;5;124;03m    Predicted targets.\u001b[39;00m\n\u001b[0;32m    366\u001b[0m \u001b[38;5;124;03m\"\"\"\u001b[39;00m\n\u001b[0;32m    368\u001b[0m check_is_fitted(\u001b[38;5;28mself\u001b[39m)\n\u001b[1;32m--> 369\u001b[0m \u001b[38;5;28;01mreturn\u001b[39;00m \u001b[38;5;28mself\u001b[39m\u001b[38;5;241m.\u001b[39mfinal_estimator_\u001b[38;5;241m.\u001b[39mpredict(\u001b[38;5;28mself\u001b[39m\u001b[38;5;241m.\u001b[39mtransform(X), \u001b[38;5;241m*\u001b[39m\u001b[38;5;241m*\u001b[39mpredict_params)\n",
      "File \u001b[1;32m~\\AppData\\Roaming\\Python\\Python311\\site-packages\\sklearn\\utils\\_set_output.py:157\u001b[0m, in \u001b[0;36m_wrap_method_output.<locals>.wrapped\u001b[1;34m(self, X, *args, **kwargs)\u001b[0m\n\u001b[0;32m    155\u001b[0m \u001b[38;5;129m@wraps\u001b[39m(f)\n\u001b[0;32m    156\u001b[0m \u001b[38;5;28;01mdef\u001b[39;00m \u001b[38;5;21mwrapped\u001b[39m(\u001b[38;5;28mself\u001b[39m, X, \u001b[38;5;241m*\u001b[39margs, \u001b[38;5;241m*\u001b[39m\u001b[38;5;241m*\u001b[39mkwargs):\n\u001b[1;32m--> 157\u001b[0m     data_to_wrap \u001b[38;5;241m=\u001b[39m f(\u001b[38;5;28mself\u001b[39m, X, \u001b[38;5;241m*\u001b[39margs, \u001b[38;5;241m*\u001b[39m\u001b[38;5;241m*\u001b[39mkwargs)\n\u001b[0;32m    158\u001b[0m     \u001b[38;5;28;01mif\u001b[39;00m \u001b[38;5;28misinstance\u001b[39m(data_to_wrap, \u001b[38;5;28mtuple\u001b[39m):\n\u001b[0;32m    159\u001b[0m         \u001b[38;5;66;03m# only wrap the first output for cross decomposition\u001b[39;00m\n\u001b[0;32m    160\u001b[0m         return_tuple \u001b[38;5;241m=\u001b[39m (\n\u001b[0;32m    161\u001b[0m             _wrap_data_with_container(method, data_to_wrap[\u001b[38;5;241m0\u001b[39m], X, \u001b[38;5;28mself\u001b[39m),\n\u001b[0;32m    162\u001b[0m             \u001b[38;5;241m*\u001b[39mdata_to_wrap[\u001b[38;5;241m1\u001b[39m:],\n\u001b[0;32m    163\u001b[0m         )\n",
      "File \u001b[1;32m~\\AppData\\Roaming\\Python\\Python311\\site-packages\\sklearn\\ensemble\\_stacking.py:752\u001b[0m, in \u001b[0;36mStackingClassifier.transform\u001b[1;34m(self, X)\u001b[0m\n\u001b[0;32m    737\u001b[0m \u001b[38;5;28;01mdef\u001b[39;00m \u001b[38;5;21mtransform\u001b[39m(\u001b[38;5;28mself\u001b[39m, X):\n\u001b[0;32m    738\u001b[0m \u001b[38;5;250m    \u001b[39m\u001b[38;5;124;03m\"\"\"Return class labels or probabilities for X for each estimator.\u001b[39;00m\n\u001b[0;32m    739\u001b[0m \n\u001b[0;32m    740\u001b[0m \u001b[38;5;124;03m    Parameters\u001b[39;00m\n\u001b[1;32m   (...)\u001b[0m\n\u001b[0;32m    750\u001b[0m \u001b[38;5;124;03m        Prediction outputs for each estimator.\u001b[39;00m\n\u001b[0;32m    751\u001b[0m \u001b[38;5;124;03m    \"\"\"\u001b[39;00m\n\u001b[1;32m--> 752\u001b[0m     \u001b[38;5;28;01mreturn\u001b[39;00m \u001b[38;5;28mself\u001b[39m\u001b[38;5;241m.\u001b[39m_transform(X)\n",
      "File \u001b[1;32m~\\AppData\\Roaming\\Python\\Python311\\site-packages\\sklearn\\ensemble\\_stacking.py:293\u001b[0m, in \u001b[0;36m_BaseStacking._transform\u001b[1;34m(self, X)\u001b[0m\n\u001b[0;32m    291\u001b[0m \u001b[38;5;250m\u001b[39m\u001b[38;5;124;03m\"\"\"Concatenate and return the predictions of the estimators.\"\"\"\u001b[39;00m\n\u001b[0;32m    292\u001b[0m check_is_fitted(\u001b[38;5;28mself\u001b[39m)\n\u001b[1;32m--> 293\u001b[0m predictions \u001b[38;5;241m=\u001b[39m [\n\u001b[0;32m    294\u001b[0m     \u001b[38;5;28mgetattr\u001b[39m(est, meth)(X)\n\u001b[0;32m    295\u001b[0m     \u001b[38;5;28;01mfor\u001b[39;00m est, meth \u001b[38;5;129;01min\u001b[39;00m \u001b[38;5;28mzip\u001b[39m(\u001b[38;5;28mself\u001b[39m\u001b[38;5;241m.\u001b[39mestimators_, \u001b[38;5;28mself\u001b[39m\u001b[38;5;241m.\u001b[39mstack_method_)\n\u001b[0;32m    296\u001b[0m     \u001b[38;5;28;01mif\u001b[39;00m est \u001b[38;5;241m!=\u001b[39m \u001b[38;5;124m\"\u001b[39m\u001b[38;5;124mdrop\u001b[39m\u001b[38;5;124m\"\u001b[39m\n\u001b[0;32m    297\u001b[0m ]\n\u001b[0;32m    298\u001b[0m \u001b[38;5;28;01mreturn\u001b[39;00m \u001b[38;5;28mself\u001b[39m\u001b[38;5;241m.\u001b[39m_concatenate_predictions(X, predictions)\n",
      "File \u001b[1;32m~\\AppData\\Roaming\\Python\\Python311\\site-packages\\sklearn\\ensemble\\_stacking.py:294\u001b[0m, in \u001b[0;36m<listcomp>\u001b[1;34m(.0)\u001b[0m\n\u001b[0;32m    291\u001b[0m \u001b[38;5;250m\u001b[39m\u001b[38;5;124;03m\"\"\"Concatenate and return the predictions of the estimators.\"\"\"\u001b[39;00m\n\u001b[0;32m    292\u001b[0m check_is_fitted(\u001b[38;5;28mself\u001b[39m)\n\u001b[0;32m    293\u001b[0m predictions \u001b[38;5;241m=\u001b[39m [\n\u001b[1;32m--> 294\u001b[0m     \u001b[38;5;28mgetattr\u001b[39m(est, meth)(X)\n\u001b[0;32m    295\u001b[0m     \u001b[38;5;28;01mfor\u001b[39;00m est, meth \u001b[38;5;129;01min\u001b[39;00m \u001b[38;5;28mzip\u001b[39m(\u001b[38;5;28mself\u001b[39m\u001b[38;5;241m.\u001b[39mestimators_, \u001b[38;5;28mself\u001b[39m\u001b[38;5;241m.\u001b[39mstack_method_)\n\u001b[0;32m    296\u001b[0m     \u001b[38;5;28;01mif\u001b[39;00m est \u001b[38;5;241m!=\u001b[39m \u001b[38;5;124m\"\u001b[39m\u001b[38;5;124mdrop\u001b[39m\u001b[38;5;124m\"\u001b[39m\n\u001b[0;32m    297\u001b[0m ]\n\u001b[0;32m    298\u001b[0m \u001b[38;5;28;01mreturn\u001b[39;00m \u001b[38;5;28mself\u001b[39m\u001b[38;5;241m.\u001b[39m_concatenate_predictions(X, predictions)\n",
      "File \u001b[1;32m~\\AppData\\Roaming\\Python\\Python311\\site-packages\\sklearn\\linear_model\\_logistic.py:1384\u001b[0m, in \u001b[0;36mLogisticRegression.predict_proba\u001b[1;34m(self, X)\u001b[0m\n\u001b[0;32m   1376\u001b[0m ovr \u001b[38;5;241m=\u001b[39m \u001b[38;5;28mself\u001b[39m\u001b[38;5;241m.\u001b[39mmulti_class \u001b[38;5;129;01min\u001b[39;00m [\u001b[38;5;124m\"\u001b[39m\u001b[38;5;124movr\u001b[39m\u001b[38;5;124m\"\u001b[39m, \u001b[38;5;124m\"\u001b[39m\u001b[38;5;124mwarn\u001b[39m\u001b[38;5;124m\"\u001b[39m] \u001b[38;5;129;01mor\u001b[39;00m (\n\u001b[0;32m   1377\u001b[0m     \u001b[38;5;28mself\u001b[39m\u001b[38;5;241m.\u001b[39mmulti_class \u001b[38;5;241m==\u001b[39m \u001b[38;5;124m\"\u001b[39m\u001b[38;5;124mauto\u001b[39m\u001b[38;5;124m\"\u001b[39m\n\u001b[0;32m   1378\u001b[0m     \u001b[38;5;129;01mand\u001b[39;00m (\n\u001b[1;32m   (...)\u001b[0m\n\u001b[0;32m   1381\u001b[0m     )\n\u001b[0;32m   1382\u001b[0m )\n\u001b[0;32m   1383\u001b[0m \u001b[38;5;28;01mif\u001b[39;00m ovr:\n\u001b[1;32m-> 1384\u001b[0m     \u001b[38;5;28;01mreturn\u001b[39;00m \u001b[38;5;28msuper\u001b[39m()\u001b[38;5;241m.\u001b[39m_predict_proba_lr(X)\n\u001b[0;32m   1385\u001b[0m \u001b[38;5;28;01melse\u001b[39;00m:\n\u001b[0;32m   1386\u001b[0m     decision \u001b[38;5;241m=\u001b[39m \u001b[38;5;28mself\u001b[39m\u001b[38;5;241m.\u001b[39mdecision_function(X)\n",
      "File \u001b[1;32m~\\AppData\\Roaming\\Python\\Python311\\site-packages\\sklearn\\linear_model\\_base.py:466\u001b[0m, in \u001b[0;36mLinearClassifierMixin._predict_proba_lr\u001b[1;34m(self, X)\u001b[0m\n\u001b[0;32m    459\u001b[0m \u001b[38;5;28;01mdef\u001b[39;00m \u001b[38;5;21m_predict_proba_lr\u001b[39m(\u001b[38;5;28mself\u001b[39m, X):\n\u001b[0;32m    460\u001b[0m \u001b[38;5;250m    \u001b[39m\u001b[38;5;124;03m\"\"\"Probability estimation for OvR logistic regression.\u001b[39;00m\n\u001b[0;32m    461\u001b[0m \n\u001b[0;32m    462\u001b[0m \u001b[38;5;124;03m    Positive class probabilities are computed as\u001b[39;00m\n\u001b[0;32m    463\u001b[0m \u001b[38;5;124;03m    1. / (1. + np.exp(-self.decision_function(X)));\u001b[39;00m\n\u001b[0;32m    464\u001b[0m \u001b[38;5;124;03m    multiclass is handled by normalizing that over all classes.\u001b[39;00m\n\u001b[0;32m    465\u001b[0m \u001b[38;5;124;03m    \"\"\"\u001b[39;00m\n\u001b[1;32m--> 466\u001b[0m     prob \u001b[38;5;241m=\u001b[39m \u001b[38;5;28mself\u001b[39m\u001b[38;5;241m.\u001b[39mdecision_function(X)\n\u001b[0;32m    467\u001b[0m     expit(prob, out\u001b[38;5;241m=\u001b[39mprob)\n\u001b[0;32m    468\u001b[0m     \u001b[38;5;28;01mif\u001b[39;00m prob\u001b[38;5;241m.\u001b[39mndim \u001b[38;5;241m==\u001b[39m \u001b[38;5;241m1\u001b[39m:\n",
      "File \u001b[1;32m~\\AppData\\Roaming\\Python\\Python311\\site-packages\\sklearn\\linear_model\\_base.py:432\u001b[0m, in \u001b[0;36mLinearClassifierMixin.decision_function\u001b[1;34m(self, X)\u001b[0m\n\u001b[0;32m    429\u001b[0m check_is_fitted(\u001b[38;5;28mself\u001b[39m)\n\u001b[0;32m    430\u001b[0m xp, _ \u001b[38;5;241m=\u001b[39m get_namespace(X)\n\u001b[1;32m--> 432\u001b[0m X \u001b[38;5;241m=\u001b[39m \u001b[38;5;28mself\u001b[39m\u001b[38;5;241m.\u001b[39m_validate_data(X, accept_sparse\u001b[38;5;241m=\u001b[39m\u001b[38;5;124m\"\u001b[39m\u001b[38;5;124mcsr\u001b[39m\u001b[38;5;124m\"\u001b[39m, reset\u001b[38;5;241m=\u001b[39m\u001b[38;5;28;01mFalse\u001b[39;00m)\n\u001b[0;32m    433\u001b[0m scores \u001b[38;5;241m=\u001b[39m safe_sparse_dot(X, \u001b[38;5;28mself\u001b[39m\u001b[38;5;241m.\u001b[39mcoef_\u001b[38;5;241m.\u001b[39mT, dense_output\u001b[38;5;241m=\u001b[39m\u001b[38;5;28;01mTrue\u001b[39;00m) \u001b[38;5;241m+\u001b[39m \u001b[38;5;28mself\u001b[39m\u001b[38;5;241m.\u001b[39mintercept_\n\u001b[0;32m    434\u001b[0m \u001b[38;5;28;01mreturn\u001b[39;00m xp\u001b[38;5;241m.\u001b[39mreshape(scores, (\u001b[38;5;241m-\u001b[39m\u001b[38;5;241m1\u001b[39m,)) \u001b[38;5;28;01mif\u001b[39;00m scores\u001b[38;5;241m.\u001b[39mshape[\u001b[38;5;241m1\u001b[39m] \u001b[38;5;241m==\u001b[39m \u001b[38;5;241m1\u001b[39m \u001b[38;5;28;01melse\u001b[39;00m scores\n",
      "File \u001b[1;32m~\\AppData\\Roaming\\Python\\Python311\\site-packages\\sklearn\\base.py:580\u001b[0m, in \u001b[0;36mBaseEstimator._validate_data\u001b[1;34m(self, X, y, reset, validate_separately, cast_to_ndarray, **check_params)\u001b[0m\n\u001b[0;32m    509\u001b[0m \u001b[38;5;28;01mdef\u001b[39;00m \u001b[38;5;21m_validate_data\u001b[39m(\n\u001b[0;32m    510\u001b[0m     \u001b[38;5;28mself\u001b[39m,\n\u001b[0;32m    511\u001b[0m     X\u001b[38;5;241m=\u001b[39m\u001b[38;5;124m\"\u001b[39m\u001b[38;5;124mno_validation\u001b[39m\u001b[38;5;124m\"\u001b[39m,\n\u001b[1;32m   (...)\u001b[0m\n\u001b[0;32m    516\u001b[0m     \u001b[38;5;241m*\u001b[39m\u001b[38;5;241m*\u001b[39mcheck_params,\n\u001b[0;32m    517\u001b[0m ):\n\u001b[0;32m    518\u001b[0m \u001b[38;5;250m    \u001b[39m\u001b[38;5;124;03m\"\"\"Validate input data and set or check the `n_features_in_` attribute.\u001b[39;00m\n\u001b[0;32m    519\u001b[0m \n\u001b[0;32m    520\u001b[0m \u001b[38;5;124;03m    Parameters\u001b[39;00m\n\u001b[1;32m   (...)\u001b[0m\n\u001b[0;32m    578\u001b[0m \u001b[38;5;124;03m        validated.\u001b[39;00m\n\u001b[0;32m    579\u001b[0m \u001b[38;5;124;03m    \"\"\"\u001b[39;00m\n\u001b[1;32m--> 580\u001b[0m     \u001b[38;5;28mself\u001b[39m\u001b[38;5;241m.\u001b[39m_check_feature_names(X, reset\u001b[38;5;241m=\u001b[39mreset)\n\u001b[0;32m    582\u001b[0m     \u001b[38;5;28;01mif\u001b[39;00m y \u001b[38;5;129;01mis\u001b[39;00m \u001b[38;5;28;01mNone\u001b[39;00m \u001b[38;5;129;01mand\u001b[39;00m \u001b[38;5;28mself\u001b[39m\u001b[38;5;241m.\u001b[39m_get_tags()[\u001b[38;5;124m\"\u001b[39m\u001b[38;5;124mrequires_y\u001b[39m\u001b[38;5;124m\"\u001b[39m]:\n\u001b[0;32m    583\u001b[0m         \u001b[38;5;28;01mraise\u001b[39;00m \u001b[38;5;167;01mValueError\u001b[39;00m(\n\u001b[0;32m    584\u001b[0m             \u001b[38;5;124mf\u001b[39m\u001b[38;5;124m\"\u001b[39m\u001b[38;5;124mThis \u001b[39m\u001b[38;5;132;01m{\u001b[39;00m\u001b[38;5;28mself\u001b[39m\u001b[38;5;241m.\u001b[39m\u001b[38;5;18m__class__\u001b[39m\u001b[38;5;241m.\u001b[39m\u001b[38;5;18m__name__\u001b[39m\u001b[38;5;132;01m}\u001b[39;00m\u001b[38;5;124m estimator \u001b[39m\u001b[38;5;124m\"\u001b[39m\n\u001b[0;32m    585\u001b[0m             \u001b[38;5;124m\"\u001b[39m\u001b[38;5;124mrequires y to be passed, but the target y is None.\u001b[39m\u001b[38;5;124m\"\u001b[39m\n\u001b[0;32m    586\u001b[0m         )\n",
      "File \u001b[1;32m~\\AppData\\Roaming\\Python\\Python311\\site-packages\\sklearn\\base.py:507\u001b[0m, in \u001b[0;36mBaseEstimator._check_feature_names\u001b[1;34m(self, X, reset)\u001b[0m\n\u001b[0;32m    502\u001b[0m \u001b[38;5;28;01mif\u001b[39;00m \u001b[38;5;129;01mnot\u001b[39;00m missing_names \u001b[38;5;129;01mand\u001b[39;00m \u001b[38;5;129;01mnot\u001b[39;00m unexpected_names:\n\u001b[0;32m    503\u001b[0m     message \u001b[38;5;241m+\u001b[39m\u001b[38;5;241m=\u001b[39m (\n\u001b[0;32m    504\u001b[0m         \u001b[38;5;124m\"\u001b[39m\u001b[38;5;124mFeature names must be in the same order as they were in fit.\u001b[39m\u001b[38;5;130;01m\\n\u001b[39;00m\u001b[38;5;124m\"\u001b[39m\n\u001b[0;32m    505\u001b[0m     )\n\u001b[1;32m--> 507\u001b[0m \u001b[38;5;28;01mraise\u001b[39;00m \u001b[38;5;167;01mValueError\u001b[39;00m(message)\n",
      "\u001b[1;31mValueError\u001b[0m: The feature names should match those that were passed during fit.\nFeature names unseen at fit time:\n- id\n"
     ]
    }
   ],
   "source": [
    "test_preds = stacking_clf.predict(X_test)\n"
   ]
  },
  {
   "cell_type": "code",
   "execution_count": 378,
   "id": "e15499b4",
   "metadata": {},
   "outputs": [
    {
     "data": {
      "text/html": [
       "<div>\n",
       "<style scoped>\n",
       "    .dataframe tbody tr th:only-of-type {\n",
       "        vertical-align: middle;\n",
       "    }\n",
       "\n",
       "    .dataframe tbody tr th {\n",
       "        vertical-align: top;\n",
       "    }\n",
       "\n",
       "    .dataframe thead th {\n",
       "        text-align: right;\n",
       "    }\n",
       "</style>\n",
       "<table border=\"1\" class=\"dataframe\">\n",
       "  <thead>\n",
       "    <tr style=\"text-align: right;\">\n",
       "      <th></th>\n",
       "      <th>id</th>\n",
       "      <th>Time_spent_Alone</th>\n",
       "      <th>Stage_fear</th>\n",
       "      <th>Social_event_attendance</th>\n",
       "      <th>Going_outside</th>\n",
       "      <th>Drained_after_socializing</th>\n",
       "      <th>Friends_circle_size</th>\n",
       "      <th>Post_frequency</th>\n",
       "    </tr>\n",
       "  </thead>\n",
       "  <tbody>\n",
       "    <tr>\n",
       "      <th>0</th>\n",
       "      <td>18524</td>\n",
       "      <td>3.00000</td>\n",
       "      <td>0</td>\n",
       "      <td>7.0</td>\n",
       "      <td>4.0</td>\n",
       "      <td>0</td>\n",
       "      <td>6.0</td>\n",
       "      <td>5.0</td>\n",
       "    </tr>\n",
       "    <tr>\n",
       "      <th>1</th>\n",
       "      <td>18525</td>\n",
       "      <td>3.14052</td>\n",
       "      <td>1</td>\n",
       "      <td>0.0</td>\n",
       "      <td>0.0</td>\n",
       "      <td>1</td>\n",
       "      <td>5.0</td>\n",
       "      <td>1.0</td>\n",
       "    </tr>\n",
       "    <tr>\n",
       "      <th>2</th>\n",
       "      <td>18526</td>\n",
       "      <td>3.00000</td>\n",
       "      <td>0</td>\n",
       "      <td>5.0</td>\n",
       "      <td>6.0</td>\n",
       "      <td>0</td>\n",
       "      <td>15.0</td>\n",
       "      <td>9.0</td>\n",
       "    </tr>\n",
       "    <tr>\n",
       "      <th>3</th>\n",
       "      <td>18527</td>\n",
       "      <td>3.00000</td>\n",
       "      <td>0</td>\n",
       "      <td>4.0</td>\n",
       "      <td>4.0</td>\n",
       "      <td>0</td>\n",
       "      <td>5.0</td>\n",
       "      <td>6.0</td>\n",
       "    </tr>\n",
       "    <tr>\n",
       "      <th>4</th>\n",
       "      <td>18528</td>\n",
       "      <td>9.00000</td>\n",
       "      <td>1</td>\n",
       "      <td>1.0</td>\n",
       "      <td>2.0</td>\n",
       "      <td>1</td>\n",
       "      <td>1.0</td>\n",
       "      <td>1.0</td>\n",
       "    </tr>\n",
       "  </tbody>\n",
       "</table>\n",
       "</div>"
      ],
      "text/plain": [
       "      id  Time_spent_Alone  Stage_fear  Social_event_attendance  \\\n",
       "0  18524           3.00000           0                      7.0   \n",
       "1  18525           3.14052           1                      0.0   \n",
       "2  18526           3.00000           0                      5.0   \n",
       "3  18527           3.00000           0                      4.0   \n",
       "4  18528           9.00000           1                      1.0   \n",
       "\n",
       "   Going_outside  Drained_after_socializing  Friends_circle_size  \\\n",
       "0            4.0                          0                  6.0   \n",
       "1            0.0                          1                  5.0   \n",
       "2            6.0                          0                 15.0   \n",
       "3            4.0                          0                  5.0   \n",
       "4            2.0                          1                  1.0   \n",
       "\n",
       "   Post_frequency  \n",
       "0             5.0  \n",
       "1             1.0  \n",
       "2             9.0  \n",
       "3             6.0  \n",
       "4             1.0  "
      ]
     },
     "execution_count": 378,
     "metadata": {},
     "output_type": "execute_result"
    }
   ],
   "source": [
    "X_test.head()"
   ]
  },
  {
   "cell_type": "code",
   "execution_count": 379,
   "id": "df54cd5c",
   "metadata": {},
   "outputs": [
    {
     "name": "stdout",
     "output_type": "stream",
     "text": [
      "id                           0\n",
      "Time_spent_Alone             0\n",
      "Stage_fear                   0\n",
      "Social_event_attendance      0\n",
      "Going_outside                0\n",
      "Drained_after_socializing    0\n",
      "Friends_circle_size          0\n",
      "Post_frequency               0\n",
      "dtype: int64\n"
     ]
    }
   ],
   "source": [
    "print(X_test.isnull().sum())\n"
   ]
  },
  {
   "cell_type": "code",
   "execution_count": 380,
   "id": "0e0f1204",
   "metadata": {},
   "outputs": [
    {
     "name": "stdout",
     "output_type": "stream",
     "text": [
      "Stage_fear unique values before fillna: ['No' 'Yes' nan]\n",
      "Drained_after_socializing unique values before fillna: ['No' 'Yes' nan]\n"
     ]
    }
   ],
   "source": [
    "print(\"Stage_fear unique values before fillna:\", test[\"Stage_fear\"].unique())\n",
    "print(\"Drained_after_socializing unique values before fillna:\", test[\"Drained_after_socializing\"].unique())\n"
   ]
  },
  {
   "cell_type": "code",
   "execution_count": 381,
   "id": "64ddc429",
   "metadata": {},
   "outputs": [
    {
     "name": "stdout",
     "output_type": "stream",
     "text": [
      "Train mode values:\n"
     ]
    },
    {
     "ename": "KeyError",
     "evalue": "'Stage_fear'",
     "output_type": "error",
     "traceback": [
      "\u001b[1;31m---------------------------------------------------------------------------\u001b[0m",
      "\u001b[1;31mKeyError\u001b[0m                                  Traceback (most recent call last)",
      "File \u001b[1;32mC:\\ProgramData\\anaconda3\\Lib\\site-packages\\pandas\\core\\indexes\\base.py:3653\u001b[0m, in \u001b[0;36mIndex.get_loc\u001b[1;34m(self, key)\u001b[0m\n\u001b[0;32m   3652\u001b[0m \u001b[38;5;28;01mtry\u001b[39;00m:\n\u001b[1;32m-> 3653\u001b[0m     \u001b[38;5;28;01mreturn\u001b[39;00m \u001b[38;5;28mself\u001b[39m\u001b[38;5;241m.\u001b[39m_engine\u001b[38;5;241m.\u001b[39mget_loc(casted_key)\n\u001b[0;32m   3654\u001b[0m \u001b[38;5;28;01mexcept\u001b[39;00m \u001b[38;5;167;01mKeyError\u001b[39;00m \u001b[38;5;28;01mas\u001b[39;00m err:\n",
      "File \u001b[1;32mC:\\ProgramData\\anaconda3\\Lib\\site-packages\\pandas\\_libs\\index.pyx:147\u001b[0m, in \u001b[0;36mpandas._libs.index.IndexEngine.get_loc\u001b[1;34m()\u001b[0m\n",
      "File \u001b[1;32mC:\\ProgramData\\anaconda3\\Lib\\site-packages\\pandas\\_libs\\index.pyx:176\u001b[0m, in \u001b[0;36mpandas._libs.index.IndexEngine.get_loc\u001b[1;34m()\u001b[0m\n",
      "File \u001b[1;32mpandas\\_libs\\hashtable_class_helper.pxi:7080\u001b[0m, in \u001b[0;36mpandas._libs.hashtable.PyObjectHashTable.get_item\u001b[1;34m()\u001b[0m\n",
      "File \u001b[1;32mpandas\\_libs\\hashtable_class_helper.pxi:7088\u001b[0m, in \u001b[0;36mpandas._libs.hashtable.PyObjectHashTable.get_item\u001b[1;34m()\u001b[0m\n",
      "\u001b[1;31mKeyError\u001b[0m: 'Stage_fear'",
      "\nThe above exception was the direct cause of the following exception:\n",
      "\u001b[1;31mKeyError\u001b[0m                                  Traceback (most recent call last)",
      "Cell \u001b[1;32mIn[381], line 2\u001b[0m\n\u001b[0;32m      1\u001b[0m \u001b[38;5;28mprint\u001b[39m(\u001b[38;5;124m\"\u001b[39m\u001b[38;5;124mTrain mode values:\u001b[39m\u001b[38;5;124m\"\u001b[39m)\n\u001b[1;32m----> 2\u001b[0m \u001b[38;5;28mprint\u001b[39m(\u001b[38;5;124m\"\u001b[39m\u001b[38;5;124mStage_fear:\u001b[39m\u001b[38;5;124m\"\u001b[39m, train[\u001b[38;5;124m\"\u001b[39m\u001b[38;5;124mStage_fear\u001b[39m\u001b[38;5;124m\"\u001b[39m]\u001b[38;5;241m.\u001b[39mmode()[\u001b[38;5;241m0\u001b[39m])\n\u001b[0;32m      3\u001b[0m \u001b[38;5;28mprint\u001b[39m(\u001b[38;5;124m\"\u001b[39m\u001b[38;5;124mDrained_after_socializing:\u001b[39m\u001b[38;5;124m\"\u001b[39m, train[\u001b[38;5;124m\"\u001b[39m\u001b[38;5;124mDrained_after_socializing\u001b[39m\u001b[38;5;124m\"\u001b[39m]\u001b[38;5;241m.\u001b[39mmode()[\u001b[38;5;241m0\u001b[39m])\n",
      "File \u001b[1;32mC:\\ProgramData\\anaconda3\\Lib\\site-packages\\pandas\\core\\frame.py:3761\u001b[0m, in \u001b[0;36mDataFrame.__getitem__\u001b[1;34m(self, key)\u001b[0m\n\u001b[0;32m   3759\u001b[0m \u001b[38;5;28;01mif\u001b[39;00m \u001b[38;5;28mself\u001b[39m\u001b[38;5;241m.\u001b[39mcolumns\u001b[38;5;241m.\u001b[39mnlevels \u001b[38;5;241m>\u001b[39m \u001b[38;5;241m1\u001b[39m:\n\u001b[0;32m   3760\u001b[0m     \u001b[38;5;28;01mreturn\u001b[39;00m \u001b[38;5;28mself\u001b[39m\u001b[38;5;241m.\u001b[39m_getitem_multilevel(key)\n\u001b[1;32m-> 3761\u001b[0m indexer \u001b[38;5;241m=\u001b[39m \u001b[38;5;28mself\u001b[39m\u001b[38;5;241m.\u001b[39mcolumns\u001b[38;5;241m.\u001b[39mget_loc(key)\n\u001b[0;32m   3762\u001b[0m \u001b[38;5;28;01mif\u001b[39;00m is_integer(indexer):\n\u001b[0;32m   3763\u001b[0m     indexer \u001b[38;5;241m=\u001b[39m [indexer]\n",
      "File \u001b[1;32mC:\\ProgramData\\anaconda3\\Lib\\site-packages\\pandas\\core\\indexes\\base.py:3655\u001b[0m, in \u001b[0;36mIndex.get_loc\u001b[1;34m(self, key)\u001b[0m\n\u001b[0;32m   3653\u001b[0m     \u001b[38;5;28;01mreturn\u001b[39;00m \u001b[38;5;28mself\u001b[39m\u001b[38;5;241m.\u001b[39m_engine\u001b[38;5;241m.\u001b[39mget_loc(casted_key)\n\u001b[0;32m   3654\u001b[0m \u001b[38;5;28;01mexcept\u001b[39;00m \u001b[38;5;167;01mKeyError\u001b[39;00m \u001b[38;5;28;01mas\u001b[39;00m err:\n\u001b[1;32m-> 3655\u001b[0m     \u001b[38;5;28;01mraise\u001b[39;00m \u001b[38;5;167;01mKeyError\u001b[39;00m(key) \u001b[38;5;28;01mfrom\u001b[39;00m \u001b[38;5;21;01merr\u001b[39;00m\n\u001b[0;32m   3656\u001b[0m \u001b[38;5;28;01mexcept\u001b[39;00m \u001b[38;5;167;01mTypeError\u001b[39;00m:\n\u001b[0;32m   3657\u001b[0m     \u001b[38;5;66;03m# If we have a listlike key, _check_indexing_error will raise\u001b[39;00m\n\u001b[0;32m   3658\u001b[0m     \u001b[38;5;66;03m#  InvalidIndexError. Otherwise we fall through and re-raise\u001b[39;00m\n\u001b[0;32m   3659\u001b[0m     \u001b[38;5;66;03m#  the TypeError.\u001b[39;00m\n\u001b[0;32m   3660\u001b[0m     \u001b[38;5;28mself\u001b[39m\u001b[38;5;241m.\u001b[39m_check_indexing_error(key)\n",
      "\u001b[1;31mKeyError\u001b[0m: 'Stage_fear'"
     ]
    }
   ],
   "source": [
    "print(\"Train mode values:\")\n",
    "print(\"Stage_fear:\", train[\"Stage_fear\"].mode()[0])\n",
    "print(\"Drained_after_socializing:\", train[\"Drained_after_socializing\"].mode()[0])\n"
   ]
  },
  {
   "cell_type": "code",
   "execution_count": 211,
   "id": "fede2839",
   "metadata": {},
   "outputs": [
    {
     "data": {
      "text/html": [
       "<div>\n",
       "<style scoped>\n",
       "    .dataframe tbody tr th:only-of-type {\n",
       "        vertical-align: middle;\n",
       "    }\n",
       "\n",
       "    .dataframe tbody tr th {\n",
       "        vertical-align: top;\n",
       "    }\n",
       "\n",
       "    .dataframe thead th {\n",
       "        text-align: right;\n",
       "    }\n",
       "</style>\n",
       "<table border=\"1\" class=\"dataframe\">\n",
       "  <thead>\n",
       "    <tr style=\"text-align: right;\">\n",
       "      <th></th>\n",
       "      <th>id</th>\n",
       "      <th>Personality</th>\n",
       "    </tr>\n",
       "  </thead>\n",
       "  <tbody>\n",
       "    <tr>\n",
       "      <th>0</th>\n",
       "      <td>18524</td>\n",
       "      <td>Extrovert</td>\n",
       "    </tr>\n",
       "    <tr>\n",
       "      <th>1</th>\n",
       "      <td>18525</td>\n",
       "      <td>Extrovert</td>\n",
       "    </tr>\n",
       "    <tr>\n",
       "      <th>2</th>\n",
       "      <td>18526</td>\n",
       "      <td>Extrovert</td>\n",
       "    </tr>\n",
       "    <tr>\n",
       "      <th>3</th>\n",
       "      <td>18527</td>\n",
       "      <td>Extrovert</td>\n",
       "    </tr>\n",
       "    <tr>\n",
       "      <th>4</th>\n",
       "      <td>18528</td>\n",
       "      <td>Extrovert</td>\n",
       "    </tr>\n",
       "  </tbody>\n",
       "</table>\n",
       "</div>"
      ],
      "text/plain": [
       "      id Personality\n",
       "0  18524   Extrovert\n",
       "1  18525   Extrovert\n",
       "2  18526   Extrovert\n",
       "3  18527   Extrovert\n",
       "4  18528   Extrovert"
      ]
     },
     "execution_count": 211,
     "metadata": {},
     "output_type": "execute_result"
    }
   ],
   "source": [
    "submission.head()"
   ]
  },
  {
   "cell_type": "code",
   "execution_count": 213,
   "id": "cfad79d5",
   "metadata": {},
   "outputs": [
    {
     "data": {
      "text/html": [
       "<div>\n",
       "<style scoped>\n",
       "    .dataframe tbody tr th:only-of-type {\n",
       "        vertical-align: middle;\n",
       "    }\n",
       "\n",
       "    .dataframe tbody tr th {\n",
       "        vertical-align: top;\n",
       "    }\n",
       "\n",
       "    .dataframe thead th {\n",
       "        text-align: right;\n",
       "    }\n",
       "</style>\n",
       "<table border=\"1\" class=\"dataframe\">\n",
       "  <thead>\n",
       "    <tr style=\"text-align: right;\">\n",
       "      <th></th>\n",
       "      <th>id</th>\n",
       "      <th>Time_spent_Alone</th>\n",
       "      <th>Stage_fear</th>\n",
       "      <th>Social_event_attendance</th>\n",
       "      <th>Going_outside</th>\n",
       "      <th>Drained_after_socializing</th>\n",
       "      <th>Friends_circle_size</th>\n",
       "      <th>Post_frequency</th>\n",
       "    </tr>\n",
       "  </thead>\n",
       "  <tbody>\n",
       "    <tr>\n",
       "      <th>0</th>\n",
       "      <td>18524</td>\n",
       "      <td>3.00000</td>\n",
       "      <td>0</td>\n",
       "      <td>7.0</td>\n",
       "      <td>4.0</td>\n",
       "      <td>0</td>\n",
       "      <td>6.0</td>\n",
       "      <td>5.0</td>\n",
       "    </tr>\n",
       "    <tr>\n",
       "      <th>1</th>\n",
       "      <td>18525</td>\n",
       "      <td>3.14052</td>\n",
       "      <td>1</td>\n",
       "      <td>0.0</td>\n",
       "      <td>0.0</td>\n",
       "      <td>1</td>\n",
       "      <td>5.0</td>\n",
       "      <td>1.0</td>\n",
       "    </tr>\n",
       "    <tr>\n",
       "      <th>2</th>\n",
       "      <td>18526</td>\n",
       "      <td>3.00000</td>\n",
       "      <td>0</td>\n",
       "      <td>5.0</td>\n",
       "      <td>6.0</td>\n",
       "      <td>0</td>\n",
       "      <td>15.0</td>\n",
       "      <td>9.0</td>\n",
       "    </tr>\n",
       "    <tr>\n",
       "      <th>3</th>\n",
       "      <td>18527</td>\n",
       "      <td>3.00000</td>\n",
       "      <td>0</td>\n",
       "      <td>4.0</td>\n",
       "      <td>4.0</td>\n",
       "      <td>0</td>\n",
       "      <td>5.0</td>\n",
       "      <td>6.0</td>\n",
       "    </tr>\n",
       "    <tr>\n",
       "      <th>4</th>\n",
       "      <td>18528</td>\n",
       "      <td>9.00000</td>\n",
       "      <td>1</td>\n",
       "      <td>1.0</td>\n",
       "      <td>2.0</td>\n",
       "      <td>1</td>\n",
       "      <td>1.0</td>\n",
       "      <td>1.0</td>\n",
       "    </tr>\n",
       "  </tbody>\n",
       "</table>\n",
       "</div>"
      ],
      "text/plain": [
       "      id  Time_spent_Alone  Stage_fear  Social_event_attendance  \\\n",
       "0  18524           3.00000           0                      7.0   \n",
       "1  18525           3.14052           1                      0.0   \n",
       "2  18526           3.00000           0                      5.0   \n",
       "3  18527           3.00000           0                      4.0   \n",
       "4  18528           9.00000           1                      1.0   \n",
       "\n",
       "   Going_outside  Drained_after_socializing  Friends_circle_size  \\\n",
       "0            4.0                          0                  6.0   \n",
       "1            0.0                          1                  5.0   \n",
       "2            6.0                          0                 15.0   \n",
       "3            4.0                          0                  5.0   \n",
       "4            2.0                          1                  1.0   \n",
       "\n",
       "   Post_frequency  \n",
       "0             5.0  \n",
       "1             1.0  \n",
       "2             9.0  \n",
       "3             6.0  \n",
       "4             1.0  "
      ]
     },
     "execution_count": 213,
     "metadata": {},
     "output_type": "execute_result"
    }
   ],
   "source": [
    "X_test.head()"
   ]
  },
  {
   "cell_type": "code",
   "execution_count": 218,
   "id": "19bf581e",
   "metadata": {},
   "outputs": [
    {
     "name": "stdout",
     "output_type": "stream",
     "text": [
      "✅ Final submission file saved as final_submission.csv\n"
     ]
    }
   ],
   "source": [
    "# 1. Drop 'id' column for prediction\n",
    "X_test_features = X_test.drop(columns=[\"id\"])\n",
    "\n",
    "# 2. Predict personality using the trained stacking classifier\n",
    "test_preds = stacking_clf.predict(X_test_features)\n",
    "\n",
    "# 3. Assign predictions to the submission DataFrame\n",
    "submission[\"Personality\"] = test_preds\n",
    "\n",
    "# 4. Save final file\n",
    "#submission.to_csv(\"C:\\My_projects\\kaggle_predict_introvers\\final_submission1.csv\", index=False)\n",
    "#submission.to_csv(\"C:\\\\My_projects\\\\kaggle_predict_introvers\\\\final_submission1.csv\", index=False)\n",
    "submission.to_csv(r\"C:\\My_projects\\kaggle_predict_introverts\\final_submission1.csv\", index=False)\n",
    "\n",
    "\n",
    "\n",
    "print(\"✅ Final submission file saved as final_submission.csv\")\n"
   ]
  },
  {
   "cell_type": "code",
   "execution_count": 382,
   "id": "8d816584",
   "metadata": {},
   "outputs": [
    {
     "name": "stdout",
     "output_type": "stream",
     "text": [
      "✅ Final submission file saved as final_submission.csv\n"
     ]
    }
   ],
   "source": [
    "# Step 1: Encode test set using saved label_encoders\n",
    "X_test_encoded = X_test.copy()\n",
    "for col in X_test_encoded.columns:\n",
    "    if col in label_encoders:\n",
    "        le = label_encoders[col]\n",
    "        X_test_encoded[col] = le.transform(X_test_encoded[col])\n",
    "\n",
    "# Step 2: Drop 'id' column\n",
    "X_test_features = X_test_encoded.drop(columns=[\"id\"])\n",
    "\n",
    "# Step 3: Predict using the trained pipeline (CatBoost + SMOTE)\n",
    "test_preds = pipeline.predict(X_test_features)\n",
    "\n",
    "# Step 4: Decode predictions if y was originally categorical\n",
    "if y_le is not None:\n",
    "    test_preds = y_le.inverse_transform(test_preds)\n",
    "\n",
    "# Step 5: Assign predictions to the submission DataFrame\n",
    "submission[\"Personality\"] = test_preds\n",
    "\n",
    "# Step 6: Save to CSV\n",
    "submission.to_csv(r\"C:\\My_projects\\kaggle_predict_introverts\\final_submission.csv\", index=False)\n",
    "\n",
    "print(\"✅ Final submission file saved as final_submission.csv\")\n"
   ]
  },
  {
   "cell_type": "code",
   "execution_count": 385,
   "id": "0e4fb665",
   "metadata": {},
   "outputs": [
    {
     "name": "stdout",
     "output_type": "stream",
     "text": [
      "[0 1 0 ... 0 0 1]\n"
     ]
    }
   ],
   "source": [
    "print(test_preds)"
   ]
  },
  {
   "cell_type": "code",
   "execution_count": 388,
   "id": "18c685c9",
   "metadata": {},
   "outputs": [
    {
     "name": "stdout",
     "output_type": "stream",
     "text": [
      "🔍 Unique values in prediction: ['Extrovert' 'Introvert']\n",
      "✅ Final submission file saved as final_submission.csv\n"
     ]
    }
   ],
   "source": [
    "# Step 1: Encode test features\n",
    "X_test_encoded = X_test.copy()\n",
    "for col in X_test_encoded.columns:\n",
    "    if col in label_encoders:\n",
    "        X_test_encoded[col] = label_encoders[col].transform(X_test_encoded[col])\n",
    "\n",
    "# Step 2: Drop 'id' before prediction\n",
    "X_test_features = X_test_encoded.drop(columns=[\"id\"])\n",
    "\n",
    "# Step 3: Predict using trained pipeline\n",
    "test_preds = pipeline.predict(X_test_features)\n",
    "\n",
    "# Step 4: Map integer predictions to class labels manually\n",
    "label_map = {0: \"Extrovert\", 1: \"Introvert\"}  # Update if your mapping is different\n",
    "submission[\"Personality\"] = [label_map[p] for p in test_preds]\n",
    "\n",
    "# Step 5: Sanity check\n",
    "print(\"🔍 Unique values in prediction:\", submission[\"Personality\"].unique())\n",
    "\n",
    "# Step 6: Save to CSV\n",
    "submission.to_csv(r\"C:\\My_projects\\kaggle_predict_introverts\\final_submission.csv\", index=False)\n",
    "print(\"✅ Final submission file saved as final_submission.csv\")\n"
   ]
  },
  {
   "cell_type": "code",
   "execution_count": null,
   "id": "0bfbf965",
   "metadata": {},
   "outputs": [],
   "source": []
  }
 ],
 "metadata": {
  "kernelspec": {
   "display_name": "Python 3 (ipykernel)",
   "language": "python",
   "name": "python3"
  },
  "language_info": {
   "codemirror_mode": {
    "name": "ipython",
    "version": 3
   },
   "file_extension": ".py",
   "mimetype": "text/x-python",
   "name": "python",
   "nbconvert_exporter": "python",
   "pygments_lexer": "ipython3",
   "version": "3.11.5"
  }
 },
 "nbformat": 4,
 "nbformat_minor": 5
}
